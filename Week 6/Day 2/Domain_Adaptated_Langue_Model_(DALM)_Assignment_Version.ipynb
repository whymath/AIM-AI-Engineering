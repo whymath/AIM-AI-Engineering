{
  "cells": [
    {
      "cell_type": "markdown",
      "metadata": {
        "id": "OIrkM5g_zyo0"
      },
      "source": [
        "# Domain Adaptated Langue Model (DALM) - Arcee.ai - An End to End RAG Solution\n",
        "\n",
        "In the following notebook, we'll work through an \"end-to-end\" RAG approach created by Arcee.ai called [\"Domain Adapted Language Model\"](https://github.com/arcee-ai/DALM)!\n",
        "\n",
        "- 🤝 Breakout Room #1\n",
        "  1. Task 1: Cloning DALM Repository and Installing Dependencies\n",
        "  2. Task 2: Preparing Dataset for Training\n",
        "  3. Task 3: Training E2E Rag\n",
        "  4. Task 4: Implementing a LCEL RAG Chain with our Models"
      ]
    },
    {
      "cell_type": "markdown",
      "metadata": {
        "id": "lJHYB80fAHZ2"
      },
      "source": [
        "## Task 1: Cloning DALM Repository and Installing Dependencies\n",
        "\n",
        "\n"
      ]
    },
    {
      "cell_type": "code",
      "execution_count": 1,
      "metadata": {
        "colab": {
          "base_uri": "https://localhost:8080/"
        },
        "id": "iluTPAeNAGev",
        "outputId": "0af087e9-db2e-46f2-e87e-0d6a58ffe8c9"
      },
      "outputs": [],
      "source": [
        "# !git clone https://github.com/arcee-ai/DALM"
      ]
    },
    {
      "cell_type": "code",
      "execution_count": 2,
      "metadata": {
        "colab": {
          "base_uri": "https://localhost:8080/"
        },
        "id": "u880kpH_zm11",
        "outputId": "7ccfd4cf-be73-4dc2-b759-69b6a6f72da3"
      },
      "outputs": [],
      "source": [
        "%cd DALM\n",
        "%pip install --upgrade -e ."
      ]
    },
    {
      "cell_type": "code",
      "execution_count": 3,
      "metadata": {
        "colab": {
          "base_uri": "https://localhost:8080/"
        },
        "id": "UDUcxb8MVqgD",
        "outputId": "dad5eea2-26ea-452b-f56b-bda02f85f56e"
      },
      "outputs": [
        {
          "name": "stdout",
          "output_type": "stream",
          "text": [
            "Requirement already satisfied: langchain in d:\\workspaces\\courses\\aimakerspace\\ai-engineering-cohort-2\\.venv\\lib\\site-packages (0.1.20)\n",
            "Requirement already satisfied: langchain-core in d:\\workspaces\\courses\\aimakerspace\\ai-engineering-cohort-2\\.venv\\lib\\site-packages (0.1.52)\n",
            "Requirement already satisfied: langchain-community in d:\\workspaces\\courses\\aimakerspace\\ai-engineering-cohort-2\\.venv\\lib\\site-packages (0.0.38)\n",
            "Requirement already satisfied: sentence_transformers in d:\\workspaces\\courses\\aimakerspace\\ai-engineering-cohort-2\\.venv\\lib\\site-packages (2.7.0)\n",
            "Requirement already satisfied: PyYAML>=5.3 in d:\\workspaces\\courses\\aimakerspace\\ai-engineering-cohort-2\\.venv\\lib\\site-packages (from langchain) (6.0.1)\n",
            "Requirement already satisfied: SQLAlchemy<3,>=1.4 in d:\\workspaces\\courses\\aimakerspace\\ai-engineering-cohort-2\\.venv\\lib\\site-packages (from langchain) (2.0.29)\n",
            "Requirement already satisfied: aiohttp<4.0.0,>=3.8.3 in d:\\workspaces\\courses\\aimakerspace\\ai-engineering-cohort-2\\.venv\\lib\\site-packages (from langchain) (3.9.5)\n",
            "Requirement already satisfied: dataclasses-json<0.7,>=0.5.7 in d:\\workspaces\\courses\\aimakerspace\\ai-engineering-cohort-2\\.venv\\lib\\site-packages (from langchain) (0.6.5)\n",
            "Requirement already satisfied: langchain-text-splitters<0.1,>=0.0.1 in d:\\workspaces\\courses\\aimakerspace\\ai-engineering-cohort-2\\.venv\\lib\\site-packages (from langchain) (0.0.1)\n",
            "Requirement already satisfied: langsmith<0.2.0,>=0.1.17 in d:\\workspaces\\courses\\aimakerspace\\ai-engineering-cohort-2\\.venv\\lib\\site-packages (from langchain) (0.1.52)\n",
            "Requirement already satisfied: numpy<2,>=1 in d:\\workspaces\\courses\\aimakerspace\\ai-engineering-cohort-2\\.venv\\lib\\site-packages (from langchain) (1.26.3)\n",
            "Requirement already satisfied: pydantic<3,>=1 in d:\\workspaces\\courses\\aimakerspace\\ai-engineering-cohort-2\\.venv\\lib\\site-packages (from langchain) (1.10.9)\n",
            "Requirement already satisfied: requests<3,>=2 in d:\\workspaces\\courses\\aimakerspace\\ai-engineering-cohort-2\\.venv\\lib\\site-packages (from langchain) (2.31.0)\n",
            "Requirement already satisfied: tenacity<9.0.0,>=8.1.0 in d:\\workspaces\\courses\\aimakerspace\\ai-engineering-cohort-2\\.venv\\lib\\site-packages (from langchain) (8.2.3)\n",
            "Requirement already satisfied: jsonpatch<2.0,>=1.33 in d:\\workspaces\\courses\\aimakerspace\\ai-engineering-cohort-2\\.venv\\lib\\site-packages (from langchain-core) (1.33)\n",
            "Requirement already satisfied: packaging<24.0,>=23.2 in d:\\workspaces\\courses\\aimakerspace\\ai-engineering-cohort-2\\.venv\\lib\\site-packages (from langchain-core) (23.2)\n",
            "Requirement already satisfied: transformers<5.0.0,>=4.34.0 in d:\\workspaces\\courses\\aimakerspace\\ai-engineering-cohort-2\\.venv\\lib\\site-packages (from sentence_transformers) (4.40.1)\n",
            "Requirement already satisfied: tqdm in d:\\workspaces\\courses\\aimakerspace\\ai-engineering-cohort-2\\.venv\\lib\\site-packages (from sentence_transformers) (4.66.2)\n",
            "Requirement already satisfied: torch>=1.11.0 in d:\\workspaces\\courses\\aimakerspace\\ai-engineering-cohort-2\\.venv\\lib\\site-packages (from sentence_transformers) (2.3.0+cu121)\n",
            "Requirement already satisfied: scikit-learn in d:\\workspaces\\courses\\aimakerspace\\ai-engineering-cohort-2\\.venv\\lib\\site-packages (from sentence_transformers) (1.4.2)\n",
            "Requirement already satisfied: scipy in d:\\workspaces\\courses\\aimakerspace\\ai-engineering-cohort-2\\.venv\\lib\\site-packages (from sentence_transformers) (1.13.0)\n",
            "Requirement already satisfied: huggingface-hub>=0.15.1 in d:\\workspaces\\courses\\aimakerspace\\ai-engineering-cohort-2\\.venv\\lib\\site-packages (from sentence_transformers) (0.23.0)\n",
            "Requirement already satisfied: Pillow in d:\\workspaces\\courses\\aimakerspace\\ai-engineering-cohort-2\\.venv\\lib\\site-packages (from sentence_transformers) (10.2.0)\n",
            "Requirement already satisfied: aiosignal>=1.1.2 in d:\\workspaces\\courses\\aimakerspace\\ai-engineering-cohort-2\\.venv\\lib\\site-packages (from aiohttp<4.0.0,>=3.8.3->langchain) (1.3.1)\n",
            "Requirement already satisfied: attrs>=17.3.0 in d:\\workspaces\\courses\\aimakerspace\\ai-engineering-cohort-2\\.venv\\lib\\site-packages (from aiohttp<4.0.0,>=3.8.3->langchain) (23.2.0)\n",
            "Requirement already satisfied: frozenlist>=1.1.1 in d:\\workspaces\\courses\\aimakerspace\\ai-engineering-cohort-2\\.venv\\lib\\site-packages (from aiohttp<4.0.0,>=3.8.3->langchain) (1.4.1)\n",
            "Requirement already satisfied: multidict<7.0,>=4.5 in d:\\workspaces\\courses\\aimakerspace\\ai-engineering-cohort-2\\.venv\\lib\\site-packages (from aiohttp<4.0.0,>=3.8.3->langchain) (6.0.5)\n",
            "Requirement already satisfied: yarl<2.0,>=1.0 in d:\\workspaces\\courses\\aimakerspace\\ai-engineering-cohort-2\\.venv\\lib\\site-packages (from aiohttp<4.0.0,>=3.8.3->langchain) (1.9.4)\n",
            "Requirement already satisfied: marshmallow<4.0.0,>=3.18.0 in d:\\workspaces\\courses\\aimakerspace\\ai-engineering-cohort-2\\.venv\\lib\\site-packages (from dataclasses-json<0.7,>=0.5.7->langchain) (3.21.1)\n",
            "Requirement already satisfied: typing-inspect<1,>=0.4.0 in d:\\workspaces\\courses\\aimakerspace\\ai-engineering-cohort-2\\.venv\\lib\\site-packages (from dataclasses-json<0.7,>=0.5.7->langchain) (0.9.0)\n",
            "Requirement already satisfied: filelock in d:\\workspaces\\courses\\aimakerspace\\ai-engineering-cohort-2\\.venv\\lib\\site-packages (from huggingface-hub>=0.15.1->sentence_transformers) (3.13.1)\n",
            "Requirement already satisfied: fsspec>=2023.5.0 in d:\\workspaces\\courses\\aimakerspace\\ai-engineering-cohort-2\\.venv\\lib\\site-packages (from huggingface-hub>=0.15.1->sentence_transformers) (2024.2.0)\n",
            "Requirement already satisfied: typing-extensions>=3.7.4.3 in d:\\workspaces\\courses\\aimakerspace\\ai-engineering-cohort-2\\.venv\\lib\\site-packages (from huggingface-hub>=0.15.1->sentence_transformers) (4.9.0)\n",
            "Requirement already satisfied: jsonpointer>=1.9 in d:\\workspaces\\courses\\aimakerspace\\ai-engineering-cohort-2\\.venv\\lib\\site-packages (from jsonpatch<2.0,>=1.33->langchain-core) (2.4)\n",
            "Requirement already satisfied: orjson<4.0.0,>=3.9.14 in d:\\workspaces\\courses\\aimakerspace\\ai-engineering-cohort-2\\.venv\\lib\\site-packages (from langsmith<0.2.0,>=0.1.17->langchain) (3.10.3)\n",
            "Requirement already satisfied: charset-normalizer<4,>=2 in d:\\workspaces\\courses\\aimakerspace\\ai-engineering-cohort-2\\.venv\\lib\\site-packages (from requests<3,>=2->langchain) (3.3.2)\n",
            "Requirement already satisfied: idna<4,>=2.5 in d:\\workspaces\\courses\\aimakerspace\\ai-engineering-cohort-2\\.venv\\lib\\site-packages (from requests<3,>=2->langchain) (3.7)\n",
            "Requirement already satisfied: urllib3<3,>=1.21.1 in d:\\workspaces\\courses\\aimakerspace\\ai-engineering-cohort-2\\.venv\\lib\\site-packages (from requests<3,>=2->langchain) (2.2.1)\n",
            "Requirement already satisfied: certifi>=2017.4.17 in d:\\workspaces\\courses\\aimakerspace\\ai-engineering-cohort-2\\.venv\\lib\\site-packages (from requests<3,>=2->langchain) (2024.2.2)\n",
            "Requirement already satisfied: greenlet!=0.4.17 in d:\\workspaces\\courses\\aimakerspace\\ai-engineering-cohort-2\\.venv\\lib\\site-packages (from SQLAlchemy<3,>=1.4->langchain) (3.0.3)\n",
            "Requirement already satisfied: sympy in d:\\workspaces\\courses\\aimakerspace\\ai-engineering-cohort-2\\.venv\\lib\\site-packages (from torch>=1.11.0->sentence_transformers) (1.12)\n",
            "Requirement already satisfied: networkx in d:\\workspaces\\courses\\aimakerspace\\ai-engineering-cohort-2\\.venv\\lib\\site-packages (from torch>=1.11.0->sentence_transformers) (3.2.1)\n",
            "Requirement already satisfied: jinja2 in d:\\workspaces\\courses\\aimakerspace\\ai-engineering-cohort-2\\.venv\\lib\\site-packages (from torch>=1.11.0->sentence_transformers) (3.1.3)\n",
            "Requirement already satisfied: mkl<=2021.4.0,>=2021.1.1 in d:\\workspaces\\courses\\aimakerspace\\ai-engineering-cohort-2\\.venv\\lib\\site-packages (from torch>=1.11.0->sentence_transformers) (2021.4.0)\n",
            "Requirement already satisfied: colorama in d:\\workspaces\\courses\\aimakerspace\\ai-engineering-cohort-2\\.venv\\lib\\site-packages (from tqdm->sentence_transformers) (0.4.6)\n",
            "Requirement already satisfied: regex!=2019.12.17 in d:\\workspaces\\courses\\aimakerspace\\ai-engineering-cohort-2\\.venv\\lib\\site-packages (from transformers<5.0.0,>=4.34.0->sentence_transformers) (2024.4.28)\n",
            "Requirement already satisfied: tokenizers<0.20,>=0.19 in d:\\workspaces\\courses\\aimakerspace\\ai-engineering-cohort-2\\.venv\\lib\\site-packages (from transformers<5.0.0,>=4.34.0->sentence_transformers) (0.19.1)\n",
            "Requirement already satisfied: safetensors>=0.4.1 in d:\\workspaces\\courses\\aimakerspace\\ai-engineering-cohort-2\\.venv\\lib\\site-packages (from transformers<5.0.0,>=4.34.0->sentence_transformers) (0.4.3)\n",
            "Requirement already satisfied: joblib>=1.2.0 in d:\\workspaces\\courses\\aimakerspace\\ai-engineering-cohort-2\\.venv\\lib\\site-packages (from scikit-learn->sentence_transformers) (1.4.0)\n",
            "Requirement already satisfied: threadpoolctl>=2.0.0 in d:\\workspaces\\courses\\aimakerspace\\ai-engineering-cohort-2\\.venv\\lib\\site-packages (from scikit-learn->sentence_transformers) (3.5.0)\n",
            "Requirement already satisfied: intel-openmp==2021.* in d:\\workspaces\\courses\\aimakerspace\\ai-engineering-cohort-2\\.venv\\lib\\site-packages (from mkl<=2021.4.0,>=2021.1.1->torch>=1.11.0->sentence_transformers) (2021.4.0)\n",
            "Requirement already satisfied: tbb==2021.* in d:\\workspaces\\courses\\aimakerspace\\ai-engineering-cohort-2\\.venv\\lib\\site-packages (from mkl<=2021.4.0,>=2021.1.1->torch>=1.11.0->sentence_transformers) (2021.11.0)\n",
            "Requirement already satisfied: mypy-extensions>=0.3.0 in d:\\workspaces\\courses\\aimakerspace\\ai-engineering-cohort-2\\.venv\\lib\\site-packages (from typing-inspect<1,>=0.4.0->dataclasses-json<0.7,>=0.5.7->langchain) (1.0.0)\n",
            "Requirement already satisfied: MarkupSafe>=2.0 in d:\\workspaces\\courses\\aimakerspace\\ai-engineering-cohort-2\\.venv\\lib\\site-packages (from jinja2->torch>=1.11.0->sentence_transformers) (2.1.5)\n",
            "Requirement already satisfied: mpmath>=0.19 in d:\\workspaces\\courses\\aimakerspace\\ai-engineering-cohort-2\\.venv\\lib\\site-packages (from sympy->torch>=1.11.0->sentence_transformers) (1.3.0)\n",
            "Note: you may need to restart the kernel to use updated packages.\n"
          ]
        }
      ],
      "source": [
        "%pip install -U langchain langchain-core langchain-community sentence_transformers"
      ]
    },
    {
      "cell_type": "code",
      "execution_count": 4,
      "metadata": {
        "colab": {
          "base_uri": "https://localhost:8080/"
        },
        "id": "Ya85R1w1WOmR",
        "outputId": "ab06188c-a2b6-4f7d-ce15-1fc7cf56508a"
      },
      "outputs": [
        {
          "name": "stdout",
          "output_type": "stream",
          "text": [
            "Requirement already satisfied: pymupdf in d:\\workspaces\\courses\\aimakerspace\\ai-engineering-cohort-2\\.venv\\lib\\site-packages (1.24.2)\n",
            "Collecting pymupdf\n",
            "  Using cached PyMuPDF-1.24.3-cp312-none-win_amd64.whl.metadata (3.4 kB)\n",
            "Requirement already satisfied: faiss-cpu in d:\\workspaces\\courses\\aimakerspace\\ai-engineering-cohort-2\\.venv\\lib\\site-packages (1.8.0)\n",
            "Collecting PyMuPDFb==1.24.3 (from pymupdf)\n",
            "  Using cached PyMuPDFb-1.24.3-py3-none-win_amd64.whl.metadata (1.4 kB)\n",
            "Requirement already satisfied: numpy in d:\\workspaces\\courses\\aimakerspace\\ai-engineering-cohort-2\\.venv\\lib\\site-packages (from faiss-cpu) (1.26.3)\n",
            "Using cached PyMuPDF-1.24.3-cp312-none-win_amd64.whl (3.2 MB)\n",
            "Using cached PyMuPDFb-1.24.3-py3-none-win_amd64.whl (12.4 MB)\n",
            "Installing collected packages: PyMuPDFb, pymupdf\n",
            "  Attempting uninstall: PyMuPDFb\n",
            "    Found existing installation: PyMuPDFb 1.24.1\n",
            "    Uninstalling PyMuPDFb-1.24.1:\n",
            "      Successfully uninstalled PyMuPDFb-1.24.1\n",
            "  Attempting uninstall: pymupdf\n",
            "    Found existing installation: PyMuPDF 1.24.2\n",
            "    Uninstalling PyMuPDF-1.24.2:\n",
            "      Successfully uninstalled PyMuPDF-1.24.2\n",
            "Successfully installed PyMuPDFb-1.24.3 pymupdf-1.24.3\n",
            "Note: you may need to restart the kernel to use updated packages.\n"
          ]
        }
      ],
      "source": [
        "%pip install -U pymupdf faiss-cpu"
      ]
    },
    {
      "cell_type": "markdown",
      "metadata": {
        "id": "lmtQZjf1EVIj"
      },
      "source": [
        "## Task 2: Prepare Dataset of Examples\n",
        "\n",
        "E2E RAG requires a dataset of `[Question, Abstract, Answer]` triples\n",
        "\n",
        "At inference time, our model will take a users query, draw from the available passages, and pass relevant context to the generator to create an answer.\n",
        "\n",
        "We'll use synthetic dataset generation powered by OpenAI's `gpt-3.5-turbo` to generate our questions and answers for each piece of context through `llama-index`.\n",
        "\n",
        "We'll be working with Douglas Adam's Hitchhiker's Guide - but feel free to substitute your own data!\n"
      ]
    },
    {
      "cell_type": "markdown",
      "metadata": {
        "id": "FyrYxlLMPrXO"
      },
      "source": [
        "## Generating Synthetic Training Data with Llama Index\n",
        "\n",
        "Let's generate some synthetic data using Llama Index - we'll do this with `gpt-3.5-turbo` and then use the resultant data to fine-tune!\n",
        "\n",
        "Let's install our dependencies for this process!"
      ]
    },
    {
      "cell_type": "code",
      "execution_count": 5,
      "metadata": {
        "colab": {
          "base_uri": "https://localhost:8080/"
        },
        "id": "bFZouSmBRpNb",
        "outputId": "c4dcf6b0-c4ab-4735-b978-d909c94e53cf"
      },
      "outputs": [
        {
          "name": "stdout",
          "output_type": "stream",
          "text": [
            "Requirement already satisfied: llama-index in d:\\workspaces\\courses\\aimakerspace\\ai-engineering-cohort-2\\.venv\\lib\\site-packages (0.10.33)\n",
            "Collecting llama-index\n",
            "  Downloading llama_index-0.10.36-py3-none-any.whl.metadata (11 kB)\n",
            "Requirement already satisfied: pypdf in d:\\workspaces\\courses\\aimakerspace\\ai-engineering-cohort-2\\.venv\\lib\\site-packages (4.2.0)\n",
            "Requirement already satisfied: llama-index-agent-openai<0.3.0,>=0.1.4 in d:\\workspaces\\courses\\aimakerspace\\ai-engineering-cohort-2\\.venv\\lib\\site-packages (from llama-index) (0.2.3)\n",
            "Requirement already satisfied: llama-index-cli<0.2.0,>=0.1.2 in d:\\workspaces\\courses\\aimakerspace\\ai-engineering-cohort-2\\.venv\\lib\\site-packages (from llama-index) (0.1.12)\n",
            "Collecting llama-index-core<0.11.0,>=0.10.35 (from llama-index)\n",
            "  Downloading llama_index_core-0.10.36-py3-none-any.whl.metadata (3.7 kB)\n",
            "Requirement already satisfied: llama-index-embeddings-openai<0.2.0,>=0.1.5 in d:\\workspaces\\courses\\aimakerspace\\ai-engineering-cohort-2\\.venv\\lib\\site-packages (from llama-index) (0.1.9)\n",
            "Requirement already satisfied: llama-index-indices-managed-llama-cloud<0.2.0,>=0.1.2 in d:\\workspaces\\courses\\aimakerspace\\ai-engineering-cohort-2\\.venv\\lib\\site-packages (from llama-index) (0.1.6)\n",
            "Requirement already satisfied: llama-index-legacy<0.10.0,>=0.9.48 in d:\\workspaces\\courses\\aimakerspace\\ai-engineering-cohort-2\\.venv\\lib\\site-packages (from llama-index) (0.9.48)\n",
            "Requirement already satisfied: llama-index-llms-openai<0.2.0,>=0.1.13 in d:\\workspaces\\courses\\aimakerspace\\ai-engineering-cohort-2\\.venv\\lib\\site-packages (from llama-index) (0.1.16)\n",
            "Requirement already satisfied: llama-index-multi-modal-llms-openai<0.2.0,>=0.1.3 in d:\\workspaces\\courses\\aimakerspace\\ai-engineering-cohort-2\\.venv\\lib\\site-packages (from llama-index) (0.1.5)\n",
            "Requirement already satisfied: llama-index-program-openai<0.2.0,>=0.1.3 in d:\\workspaces\\courses\\aimakerspace\\ai-engineering-cohort-2\\.venv\\lib\\site-packages (from llama-index) (0.1.6)\n",
            "Requirement already satisfied: llama-index-question-gen-openai<0.2.0,>=0.1.2 in d:\\workspaces\\courses\\aimakerspace\\ai-engineering-cohort-2\\.venv\\lib\\site-packages (from llama-index) (0.1.3)\n",
            "Requirement already satisfied: llama-index-readers-file<0.2.0,>=0.1.4 in d:\\workspaces\\courses\\aimakerspace\\ai-engineering-cohort-2\\.venv\\lib\\site-packages (from llama-index) (0.1.19)\n",
            "Requirement already satisfied: llama-index-readers-llama-parse<0.2.0,>=0.1.2 in d:\\workspaces\\courses\\aimakerspace\\ai-engineering-cohort-2\\.venv\\lib\\site-packages (from llama-index) (0.1.4)\n",
            "Requirement already satisfied: openai>=1.14.0 in d:\\workspaces\\courses\\aimakerspace\\ai-engineering-cohort-2\\.venv\\lib\\site-packages (from llama-index-agent-openai<0.3.0,>=0.1.4->llama-index) (1.24.1)\n",
            "Requirement already satisfied: PyYAML>=6.0.1 in d:\\workspaces\\courses\\aimakerspace\\ai-engineering-cohort-2\\.venv\\lib\\site-packages (from llama-index-core<0.11.0,>=0.10.35->llama-index) (6.0.1)\n",
            "Requirement already satisfied: SQLAlchemy>=1.4.49 in d:\\workspaces\\courses\\aimakerspace\\ai-engineering-cohort-2\\.venv\\lib\\site-packages (from SQLAlchemy[asyncio]>=1.4.49->llama-index-core<0.11.0,>=0.10.35->llama-index) (2.0.29)\n",
            "Requirement already satisfied: aiohttp<4.0.0,>=3.8.6 in d:\\workspaces\\courses\\aimakerspace\\ai-engineering-cohort-2\\.venv\\lib\\site-packages (from llama-index-core<0.11.0,>=0.10.35->llama-index) (3.9.5)\n",
            "Requirement already satisfied: dataclasses-json in d:\\workspaces\\courses\\aimakerspace\\ai-engineering-cohort-2\\.venv\\lib\\site-packages (from llama-index-core<0.11.0,>=0.10.35->llama-index) (0.6.5)\n",
            "Requirement already satisfied: deprecated>=1.2.9.3 in d:\\workspaces\\courses\\aimakerspace\\ai-engineering-cohort-2\\.venv\\lib\\site-packages (from llama-index-core<0.11.0,>=0.10.35->llama-index) (1.2.14)\n",
            "Requirement already satisfied: dirtyjson<2.0.0,>=1.0.8 in d:\\workspaces\\courses\\aimakerspace\\ai-engineering-cohort-2\\.venv\\lib\\site-packages (from llama-index-core<0.11.0,>=0.10.35->llama-index) (1.0.8)\n",
            "Requirement already satisfied: fsspec>=2023.5.0 in d:\\workspaces\\courses\\aimakerspace\\ai-engineering-cohort-2\\.venv\\lib\\site-packages (from llama-index-core<0.11.0,>=0.10.35->llama-index) (2024.2.0)\n",
            "Requirement already satisfied: httpx in d:\\workspaces\\courses\\aimakerspace\\ai-engineering-cohort-2\\.venv\\lib\\site-packages (from llama-index-core<0.11.0,>=0.10.35->llama-index) (0.27.0)\n",
            "Requirement already satisfied: llamaindex-py-client<0.2.0,>=0.1.18 in d:\\workspaces\\courses\\aimakerspace\\ai-engineering-cohort-2\\.venv\\lib\\site-packages (from llama-index-core<0.11.0,>=0.10.35->llama-index) (0.1.19)\n",
            "Requirement already satisfied: nest-asyncio<2.0.0,>=1.5.8 in d:\\workspaces\\courses\\aimakerspace\\ai-engineering-cohort-2\\.venv\\lib\\site-packages (from llama-index-core<0.11.0,>=0.10.35->llama-index) (1.6.0)\n",
            "Requirement already satisfied: networkx>=3.0 in d:\\workspaces\\courses\\aimakerspace\\ai-engineering-cohort-2\\.venv\\lib\\site-packages (from llama-index-core<0.11.0,>=0.10.35->llama-index) (3.2.1)\n",
            "Requirement already satisfied: nltk<4.0.0,>=3.8.1 in d:\\workspaces\\courses\\aimakerspace\\ai-engineering-cohort-2\\.venv\\lib\\site-packages (from llama-index-core<0.11.0,>=0.10.35->llama-index) (3.8.1)\n",
            "Requirement already satisfied: numpy in d:\\workspaces\\courses\\aimakerspace\\ai-engineering-cohort-2\\.venv\\lib\\site-packages (from llama-index-core<0.11.0,>=0.10.35->llama-index) (1.26.3)\n",
            "Requirement already satisfied: pandas in d:\\workspaces\\courses\\aimakerspace\\ai-engineering-cohort-2\\.venv\\lib\\site-packages (from llama-index-core<0.11.0,>=0.10.35->llama-index) (2.2.2)\n",
            "Requirement already satisfied: pillow>=9.0.0 in d:\\workspaces\\courses\\aimakerspace\\ai-engineering-cohort-2\\.venv\\lib\\site-packages (from llama-index-core<0.11.0,>=0.10.35->llama-index) (10.2.0)\n",
            "Requirement already satisfied: requests>=2.31.0 in d:\\workspaces\\courses\\aimakerspace\\ai-engineering-cohort-2\\.venv\\lib\\site-packages (from llama-index-core<0.11.0,>=0.10.35->llama-index) (2.31.0)\n",
            "Requirement already satisfied: tenacity<9.0.0,>=8.2.0 in d:\\workspaces\\courses\\aimakerspace\\ai-engineering-cohort-2\\.venv\\lib\\site-packages (from llama-index-core<0.11.0,>=0.10.35->llama-index) (8.2.3)\n",
            "Requirement already satisfied: tiktoken>=0.3.3 in d:\\workspaces\\courses\\aimakerspace\\ai-engineering-cohort-2\\.venv\\lib\\site-packages (from llama-index-core<0.11.0,>=0.10.35->llama-index) (0.6.0)\n",
            "Requirement already satisfied: tqdm<5.0.0,>=4.66.1 in d:\\workspaces\\courses\\aimakerspace\\ai-engineering-cohort-2\\.venv\\lib\\site-packages (from llama-index-core<0.11.0,>=0.10.35->llama-index) (4.66.2)\n",
            "Requirement already satisfied: typing-extensions>=4.5.0 in d:\\workspaces\\courses\\aimakerspace\\ai-engineering-cohort-2\\.venv\\lib\\site-packages (from llama-index-core<0.11.0,>=0.10.35->llama-index) (4.9.0)\n",
            "Requirement already satisfied: typing-inspect>=0.8.0 in d:\\workspaces\\courses\\aimakerspace\\ai-engineering-cohort-2\\.venv\\lib\\site-packages (from llama-index-core<0.11.0,>=0.10.35->llama-index) (0.9.0)\n",
            "Requirement already satisfied: wrapt in d:\\workspaces\\courses\\aimakerspace\\ai-engineering-cohort-2\\.venv\\lib\\site-packages (from llama-index-core<0.11.0,>=0.10.35->llama-index) (1.16.0)\n",
            "Requirement already satisfied: beautifulsoup4<5.0.0,>=4.12.3 in d:\\workspaces\\courses\\aimakerspace\\ai-engineering-cohort-2\\.venv\\lib\\site-packages (from llama-index-readers-file<0.2.0,>=0.1.4->llama-index) (4.12.3)\n",
            "Requirement already satisfied: striprtf<0.0.27,>=0.0.26 in d:\\workspaces\\courses\\aimakerspace\\ai-engineering-cohort-2\\.venv\\lib\\site-packages (from llama-index-readers-file<0.2.0,>=0.1.4->llama-index) (0.0.26)\n",
            "Requirement already satisfied: llama-parse<0.5.0,>=0.4.0 in d:\\workspaces\\courses\\aimakerspace\\ai-engineering-cohort-2\\.venv\\lib\\site-packages (from llama-index-readers-llama-parse<0.2.0,>=0.1.2->llama-index) (0.4.2)\n",
            "Requirement already satisfied: aiosignal>=1.1.2 in d:\\workspaces\\courses\\aimakerspace\\ai-engineering-cohort-2\\.venv\\lib\\site-packages (from aiohttp<4.0.0,>=3.8.6->llama-index-core<0.11.0,>=0.10.35->llama-index) (1.3.1)\n",
            "Requirement already satisfied: attrs>=17.3.0 in d:\\workspaces\\courses\\aimakerspace\\ai-engineering-cohort-2\\.venv\\lib\\site-packages (from aiohttp<4.0.0,>=3.8.6->llama-index-core<0.11.0,>=0.10.35->llama-index) (23.2.0)\n",
            "Requirement already satisfied: frozenlist>=1.1.1 in d:\\workspaces\\courses\\aimakerspace\\ai-engineering-cohort-2\\.venv\\lib\\site-packages (from aiohttp<4.0.0,>=3.8.6->llama-index-core<0.11.0,>=0.10.35->llama-index) (1.4.1)\n",
            "Requirement already satisfied: multidict<7.0,>=4.5 in d:\\workspaces\\courses\\aimakerspace\\ai-engineering-cohort-2\\.venv\\lib\\site-packages (from aiohttp<4.0.0,>=3.8.6->llama-index-core<0.11.0,>=0.10.35->llama-index) (6.0.5)\n",
            "Requirement already satisfied: yarl<2.0,>=1.0 in d:\\workspaces\\courses\\aimakerspace\\ai-engineering-cohort-2\\.venv\\lib\\site-packages (from aiohttp<4.0.0,>=3.8.6->llama-index-core<0.11.0,>=0.10.35->llama-index) (1.9.4)\n",
            "Requirement already satisfied: soupsieve>1.2 in d:\\workspaces\\courses\\aimakerspace\\ai-engineering-cohort-2\\.venv\\lib\\site-packages (from beautifulsoup4<5.0.0,>=4.12.3->llama-index-readers-file<0.2.0,>=0.1.4->llama-index) (2.5)\n",
            "Requirement already satisfied: pydantic>=1.10 in d:\\workspaces\\courses\\aimakerspace\\ai-engineering-cohort-2\\.venv\\lib\\site-packages (from llamaindex-py-client<0.2.0,>=0.1.18->llama-index-core<0.11.0,>=0.10.35->llama-index) (1.10.9)\n",
            "Requirement already satisfied: anyio in d:\\workspaces\\courses\\aimakerspace\\ai-engineering-cohort-2\\.venv\\lib\\site-packages (from httpx->llama-index-core<0.11.0,>=0.10.35->llama-index) (4.3.0)\n",
            "Requirement already satisfied: certifi in d:\\workspaces\\courses\\aimakerspace\\ai-engineering-cohort-2\\.venv\\lib\\site-packages (from httpx->llama-index-core<0.11.0,>=0.10.35->llama-index) (2024.2.2)\n",
            "Requirement already satisfied: httpcore==1.* in d:\\workspaces\\courses\\aimakerspace\\ai-engineering-cohort-2\\.venv\\lib\\site-packages (from httpx->llama-index-core<0.11.0,>=0.10.35->llama-index) (1.0.5)\n",
            "Requirement already satisfied: idna in d:\\workspaces\\courses\\aimakerspace\\ai-engineering-cohort-2\\.venv\\lib\\site-packages (from httpx->llama-index-core<0.11.0,>=0.10.35->llama-index) (3.7)\n",
            "Requirement already satisfied: sniffio in d:\\workspaces\\courses\\aimakerspace\\ai-engineering-cohort-2\\.venv\\lib\\site-packages (from httpx->llama-index-core<0.11.0,>=0.10.35->llama-index) (1.3.1)\n",
            "Requirement already satisfied: h11<0.15,>=0.13 in d:\\workspaces\\courses\\aimakerspace\\ai-engineering-cohort-2\\.venv\\lib\\site-packages (from httpcore==1.*->httpx->llama-index-core<0.11.0,>=0.10.35->llama-index) (0.14.0)\n",
            "Requirement already satisfied: click in d:\\workspaces\\courses\\aimakerspace\\ai-engineering-cohort-2\\.venv\\lib\\site-packages (from nltk<4.0.0,>=3.8.1->llama-index-core<0.11.0,>=0.10.35->llama-index) (8.1.7)\n",
            "Requirement already satisfied: joblib in d:\\workspaces\\courses\\aimakerspace\\ai-engineering-cohort-2\\.venv\\lib\\site-packages (from nltk<4.0.0,>=3.8.1->llama-index-core<0.11.0,>=0.10.35->llama-index) (1.4.0)\n",
            "Requirement already satisfied: regex>=2021.8.3 in d:\\workspaces\\courses\\aimakerspace\\ai-engineering-cohort-2\\.venv\\lib\\site-packages (from nltk<4.0.0,>=3.8.1->llama-index-core<0.11.0,>=0.10.35->llama-index) (2024.4.28)\n",
            "Requirement already satisfied: distro<2,>=1.7.0 in d:\\workspaces\\courses\\aimakerspace\\ai-engineering-cohort-2\\.venv\\lib\\site-packages (from openai>=1.14.0->llama-index-agent-openai<0.3.0,>=0.1.4->llama-index) (1.9.0)\n",
            "Requirement already satisfied: charset-normalizer<4,>=2 in d:\\workspaces\\courses\\aimakerspace\\ai-engineering-cohort-2\\.venv\\lib\\site-packages (from requests>=2.31.0->llama-index-core<0.11.0,>=0.10.35->llama-index) (3.3.2)\n",
            "Requirement already satisfied: urllib3<3,>=1.21.1 in d:\\workspaces\\courses\\aimakerspace\\ai-engineering-cohort-2\\.venv\\lib\\site-packages (from requests>=2.31.0->llama-index-core<0.11.0,>=0.10.35->llama-index) (2.2.1)\n",
            "Requirement already satisfied: greenlet!=0.4.17 in d:\\workspaces\\courses\\aimakerspace\\ai-engineering-cohort-2\\.venv\\lib\\site-packages (from SQLAlchemy>=1.4.49->SQLAlchemy[asyncio]>=1.4.49->llama-index-core<0.11.0,>=0.10.35->llama-index) (3.0.3)\n",
            "Requirement already satisfied: colorama in d:\\workspaces\\courses\\aimakerspace\\ai-engineering-cohort-2\\.venv\\lib\\site-packages (from tqdm<5.0.0,>=4.66.1->llama-index-core<0.11.0,>=0.10.35->llama-index) (0.4.6)\n",
            "Requirement already satisfied: mypy-extensions>=0.3.0 in d:\\workspaces\\courses\\aimakerspace\\ai-engineering-cohort-2\\.venv\\lib\\site-packages (from typing-inspect>=0.8.0->llama-index-core<0.11.0,>=0.10.35->llama-index) (1.0.0)\n",
            "Requirement already satisfied: marshmallow<4.0.0,>=3.18.0 in d:\\workspaces\\courses\\aimakerspace\\ai-engineering-cohort-2\\.venv\\lib\\site-packages (from dataclasses-json->llama-index-core<0.11.0,>=0.10.35->llama-index) (3.21.1)\n",
            "Requirement already satisfied: python-dateutil>=2.8.2 in d:\\workspaces\\courses\\aimakerspace\\ai-engineering-cohort-2\\.venv\\lib\\site-packages (from pandas->llama-index-core<0.11.0,>=0.10.35->llama-index) (2.9.0.post0)\n",
            "Requirement already satisfied: pytz>=2020.1 in d:\\workspaces\\courses\\aimakerspace\\ai-engineering-cohort-2\\.venv\\lib\\site-packages (from pandas->llama-index-core<0.11.0,>=0.10.35->llama-index) (2024.1)\n",
            "Requirement already satisfied: tzdata>=2022.7 in d:\\workspaces\\courses\\aimakerspace\\ai-engineering-cohort-2\\.venv\\lib\\site-packages (from pandas->llama-index-core<0.11.0,>=0.10.35->llama-index) (2024.1)\n",
            "Requirement already satisfied: packaging>=17.0 in d:\\workspaces\\courses\\aimakerspace\\ai-engineering-cohort-2\\.venv\\lib\\site-packages (from marshmallow<4.0.0,>=3.18.0->dataclasses-json->llama-index-core<0.11.0,>=0.10.35->llama-index) (23.2)\n",
            "Requirement already satisfied: six>=1.5 in d:\\workspaces\\courses\\aimakerspace\\ai-engineering-cohort-2\\.venv\\lib\\site-packages (from python-dateutil>=2.8.2->pandas->llama-index-core<0.11.0,>=0.10.35->llama-index) (1.16.0)\n",
            "Downloading llama_index-0.10.36-py3-none-any.whl (6.8 kB)\n",
            "Downloading llama_index_core-0.10.36-py3-none-any.whl (15.4 MB)\n",
            "   ---------------------------------------- 0.0/15.4 MB ? eta -:--:--\n",
            "   ---------------------------------------- 0.1/15.4 MB 2.6 MB/s eta 0:00:06\n",
            "   -- ------------------------------------- 1.0/15.4 MB 16.4 MB/s eta 0:00:01\n",
            "   -- ------------------------------------- 1.0/15.4 MB 16.4 MB/s eta 0:00:01\n",
            "   ------ --------------------------------- 2.4/15.4 MB 13.7 MB/s eta 0:00:01\n",
            "   ------------ --------------------------- 4.8/15.4 MB 21.7 MB/s eta 0:00:01\n",
            "   ------------------ --------------------- 7.1/15.4 MB 26.6 MB/s eta 0:00:01\n",
            "   ------------------------- -------------- 9.8/15.4 MB 31.1 MB/s eta 0:00:01\n",
            "   ------------------------------- -------- 12.2/15.4 MB 50.1 MB/s eta 0:00:01\n",
            "   -------------------------------------- - 15.0/15.4 MB 54.7 MB/s eta 0:00:01\n",
            "   ---------------------------------------- 15.4/15.4 MB 43.7 MB/s eta 0:00:00\n",
            "Installing collected packages: llama-index-core, llama-index\n",
            "  Attempting uninstall: llama-index-core\n",
            "    Found existing installation: llama-index-core 0.10.33\n",
            "    Uninstalling llama-index-core-0.10.33:\n",
            "      Successfully uninstalled llama-index-core-0.10.33\n",
            "  Attempting uninstall: llama-index\n",
            "    Found existing installation: llama-index 0.10.33\n",
            "    Uninstalling llama-index-0.10.33:\n",
            "      Successfully uninstalled llama-index-0.10.33\n",
            "Successfully installed llama-index-0.10.36 llama-index-core-0.10.36\n",
            "Note: you may need to restart the kernel to use updated packages.\n"
          ]
        }
      ],
      "source": [
        "%pip install -U llama-index pypdf"
      ]
    },
    {
      "cell_type": "markdown",
      "metadata": {
        "id": "-IxQhIAiRwDH"
      },
      "source": [
        "### Loading Data\n",
        "\n",
        "Now we're good to grab some data!\n",
        "\n",
        "We're going to use Hithhiker's Guide to the Galaxy as our example data today!"
      ]
    },
    {
      "cell_type": "code",
      "execution_count": 6,
      "metadata": {
        "colab": {
          "base_uri": "https://localhost:8080/"
        },
        "id": "SZHziK8_RLZr",
        "outputId": "f65c86ce-320f-4058-ee3d-d13eb262abcf"
      },
      "outputs": [],
      "source": [
        "# !wget https://justcheckingonall.files.wordpress.com/2008/01/hhgtg1.pdf"
      ]
    },
    {
      "cell_type": "code",
      "execution_count": 7,
      "metadata": {
        "id": "pi6SyrfqSFMV"
      },
      "outputs": [],
      "source": [
        "TRAINING_FILES = [\"hhgtg1.pdf\"]"
      ]
    },
    {
      "cell_type": "markdown",
      "metadata": {
        "id": "yXqLvedCRVg7"
      },
      "source": [
        "Now that we have our data, let's organize into our desired format for generating synthetic questions/responses."
      ]
    },
    {
      "cell_type": "code",
      "execution_count": 8,
      "metadata": {
        "id": "PesOv-LhRgtK"
      },
      "outputs": [],
      "source": [
        "from llama_index.core import SimpleDirectoryReader\n",
        "from llama_index.core.node_parser import SimpleNodeParser\n",
        "from llama_index.core.schema import MetadataMode\n",
        "\n",
        "def load_corpus(files, verbose=False):\n",
        "    if verbose:\n",
        "        print(f\"Loading files {files}\")\n",
        "\n",
        "    reader = SimpleDirectoryReader(input_files=files)\n",
        "    docs = reader.load_data()\n",
        "    if verbose:\n",
        "        print(f'Loaded {len(docs)} docs')\n",
        "\n",
        "    parser = SimpleNodeParser.from_defaults()\n",
        "    nodes = parser.get_nodes_from_documents(docs, show_progress=verbose)\n",
        "\n",
        "    if verbose:\n",
        "        print(f'Parsed {len(nodes)} nodes')\n",
        "\n",
        "    corpus = {node.node_id: node.get_content(metadata_mode=MetadataMode.NONE) for node in nodes}\n",
        "    return corpus"
      ]
    },
    {
      "cell_type": "code",
      "execution_count": 9,
      "metadata": {
        "colab": {
          "base_uri": "https://localhost:8080/",
          "height": 101,
          "referenced_widgets": [
            "f5840599479141bab13dbdffa98de797",
            "749cd1c73a5c4132942f22e47370f9f3",
            "1fef76dbb94a47f486d45d4c30d6c062",
            "cbdea16eab2f4f83b8db4683b24caf15",
            "7cfbb3e653e44670b37568684ec1163f",
            "535042ad706443c9b87e4a6942d202d4",
            "5d1c1027e3d14c358340bbd08c7cb9db",
            "9f9deec2c29545bb9fc4730aa705a2b9",
            "9360702d9f454b4b8395c683848ffe56",
            "dfbd1a2373ad4d949644e281519fd667",
            "25f85aff044b4c6e881d48593f4af751"
          ]
        },
        "id": "A1FdiayUSBd6",
        "outputId": "9c1f19e7-960f-41eb-abf1-e1c163f84f28"
      },
      "outputs": [
        {
          "name": "stdout",
          "output_type": "stream",
          "text": [
            "Loading files ['hhgtg1.pdf']\n",
            "Loaded 139 docs\n"
          ]
        },
        {
          "data": {
            "application/vnd.jupyter.widget-view+json": {
              "model_id": "f4c9a4a8ce8c4133841e9589f445df0c",
              "version_major": 2,
              "version_minor": 0
            },
            "text/plain": [
              "Parsing nodes:   0%|          | 0/139 [00:00<?, ?it/s]"
            ]
          },
          "metadata": {},
          "output_type": "display_data"
        },
        {
          "name": "stdout",
          "output_type": "stream",
          "text": [
            "Parsed 139 nodes\n"
          ]
        }
      ],
      "source": [
        "train_corpus = load_corpus(TRAINING_FILES, verbose=True)"
      ]
    },
    {
      "cell_type": "markdown",
      "metadata": {
        "id": "xtPuHmJzSMEB"
      },
      "source": [
        "### Creating Synthetic QA Pairs\n",
        "\n",
        "We can leverage everyone's favourite OpenAI model `gpt-3.5-turbo` to help us generate some QA pairs."
      ]
    },
    {
      "cell_type": "code",
      "execution_count": 10,
      "metadata": {
        "id": "HYnGMFiyAFl7"
      },
      "outputs": [
        {
          "name": "stdout",
          "output_type": "stream",
          "text": [
            "Requirement already satisfied: llama-index-llms-openai in d:\\workspaces\\courses\\aimakerspace\\ai-engineering-cohort-2\\.venv\\lib\\site-packages (0.1.16)\n",
            "Collecting llama-index-llms-openai\n",
            "  Downloading llama_index_llms_openai-0.1.19-py3-none-any.whl.metadata (559 bytes)\n",
            "Requirement already satisfied: llama-index-core<0.11.0,>=0.10.24 in d:\\workspaces\\courses\\aimakerspace\\ai-engineering-cohort-2\\.venv\\lib\\site-packages (from llama-index-llms-openai) (0.10.36)\n",
            "Requirement already satisfied: PyYAML>=6.0.1 in d:\\workspaces\\courses\\aimakerspace\\ai-engineering-cohort-2\\.venv\\lib\\site-packages (from llama-index-core<0.11.0,>=0.10.24->llama-index-llms-openai) (6.0.1)\n",
            "Requirement already satisfied: SQLAlchemy>=1.4.49 in d:\\workspaces\\courses\\aimakerspace\\ai-engineering-cohort-2\\.venv\\lib\\site-packages (from SQLAlchemy[asyncio]>=1.4.49->llama-index-core<0.11.0,>=0.10.24->llama-index-llms-openai) (2.0.29)\n",
            "Requirement already satisfied: aiohttp<4.0.0,>=3.8.6 in d:\\workspaces\\courses\\aimakerspace\\ai-engineering-cohort-2\\.venv\\lib\\site-packages (from llama-index-core<0.11.0,>=0.10.24->llama-index-llms-openai) (3.9.5)\n",
            "Requirement already satisfied: dataclasses-json in d:\\workspaces\\courses\\aimakerspace\\ai-engineering-cohort-2\\.venv\\lib\\site-packages (from llama-index-core<0.11.0,>=0.10.24->llama-index-llms-openai) (0.6.5)\n",
            "Requirement already satisfied: deprecated>=1.2.9.3 in d:\\workspaces\\courses\\aimakerspace\\ai-engineering-cohort-2\\.venv\\lib\\site-packages (from llama-index-core<0.11.0,>=0.10.24->llama-index-llms-openai) (1.2.14)\n",
            "Requirement already satisfied: dirtyjson<2.0.0,>=1.0.8 in d:\\workspaces\\courses\\aimakerspace\\ai-engineering-cohort-2\\.venv\\lib\\site-packages (from llama-index-core<0.11.0,>=0.10.24->llama-index-llms-openai) (1.0.8)\n",
            "Requirement already satisfied: fsspec>=2023.5.0 in d:\\workspaces\\courses\\aimakerspace\\ai-engineering-cohort-2\\.venv\\lib\\site-packages (from llama-index-core<0.11.0,>=0.10.24->llama-index-llms-openai) (2024.2.0)\n",
            "Requirement already satisfied: httpx in d:\\workspaces\\courses\\aimakerspace\\ai-engineering-cohort-2\\.venv\\lib\\site-packages (from llama-index-core<0.11.0,>=0.10.24->llama-index-llms-openai) (0.27.0)\n",
            "Requirement already satisfied: llamaindex-py-client<0.2.0,>=0.1.18 in d:\\workspaces\\courses\\aimakerspace\\ai-engineering-cohort-2\\.venv\\lib\\site-packages (from llama-index-core<0.11.0,>=0.10.24->llama-index-llms-openai) (0.1.19)\n",
            "Requirement already satisfied: nest-asyncio<2.0.0,>=1.5.8 in d:\\workspaces\\courses\\aimakerspace\\ai-engineering-cohort-2\\.venv\\lib\\site-packages (from llama-index-core<0.11.0,>=0.10.24->llama-index-llms-openai) (1.6.0)\n",
            "Requirement already satisfied: networkx>=3.0 in d:\\workspaces\\courses\\aimakerspace\\ai-engineering-cohort-2\\.venv\\lib\\site-packages (from llama-index-core<0.11.0,>=0.10.24->llama-index-llms-openai) (3.2.1)\n",
            "Requirement already satisfied: nltk<4.0.0,>=3.8.1 in d:\\workspaces\\courses\\aimakerspace\\ai-engineering-cohort-2\\.venv\\lib\\site-packages (from llama-index-core<0.11.0,>=0.10.24->llama-index-llms-openai) (3.8.1)\n",
            "Requirement already satisfied: numpy in d:\\workspaces\\courses\\aimakerspace\\ai-engineering-cohort-2\\.venv\\lib\\site-packages (from llama-index-core<0.11.0,>=0.10.24->llama-index-llms-openai) (1.26.3)\n",
            "Requirement already satisfied: openai>=1.1.0 in d:\\workspaces\\courses\\aimakerspace\\ai-engineering-cohort-2\\.venv\\lib\\site-packages (from llama-index-core<0.11.0,>=0.10.24->llama-index-llms-openai) (1.24.1)\n",
            "Requirement already satisfied: pandas in d:\\workspaces\\courses\\aimakerspace\\ai-engineering-cohort-2\\.venv\\lib\\site-packages (from llama-index-core<0.11.0,>=0.10.24->llama-index-llms-openai) (2.2.2)\n",
            "Requirement already satisfied: pillow>=9.0.0 in d:\\workspaces\\courses\\aimakerspace\\ai-engineering-cohort-2\\.venv\\lib\\site-packages (from llama-index-core<0.11.0,>=0.10.24->llama-index-llms-openai) (10.2.0)\n",
            "Requirement already satisfied: requests>=2.31.0 in d:\\workspaces\\courses\\aimakerspace\\ai-engineering-cohort-2\\.venv\\lib\\site-packages (from llama-index-core<0.11.0,>=0.10.24->llama-index-llms-openai) (2.31.0)\n",
            "Requirement already satisfied: tenacity<9.0.0,>=8.2.0 in d:\\workspaces\\courses\\aimakerspace\\ai-engineering-cohort-2\\.venv\\lib\\site-packages (from llama-index-core<0.11.0,>=0.10.24->llama-index-llms-openai) (8.2.3)\n",
            "Requirement already satisfied: tiktoken>=0.3.3 in d:\\workspaces\\courses\\aimakerspace\\ai-engineering-cohort-2\\.venv\\lib\\site-packages (from llama-index-core<0.11.0,>=0.10.24->llama-index-llms-openai) (0.6.0)\n",
            "Requirement already satisfied: tqdm<5.0.0,>=4.66.1 in d:\\workspaces\\courses\\aimakerspace\\ai-engineering-cohort-2\\.venv\\lib\\site-packages (from llama-index-core<0.11.0,>=0.10.24->llama-index-llms-openai) (4.66.2)\n",
            "Requirement already satisfied: typing-extensions>=4.5.0 in d:\\workspaces\\courses\\aimakerspace\\ai-engineering-cohort-2\\.venv\\lib\\site-packages (from llama-index-core<0.11.0,>=0.10.24->llama-index-llms-openai) (4.9.0)\n",
            "Requirement already satisfied: typing-inspect>=0.8.0 in d:\\workspaces\\courses\\aimakerspace\\ai-engineering-cohort-2\\.venv\\lib\\site-packages (from llama-index-core<0.11.0,>=0.10.24->llama-index-llms-openai) (0.9.0)\n",
            "Requirement already satisfied: wrapt in d:\\workspaces\\courses\\aimakerspace\\ai-engineering-cohort-2\\.venv\\lib\\site-packages (from llama-index-core<0.11.0,>=0.10.24->llama-index-llms-openai) (1.16.0)\n",
            "Requirement already satisfied: aiosignal>=1.1.2 in d:\\workspaces\\courses\\aimakerspace\\ai-engineering-cohort-2\\.venv\\lib\\site-packages (from aiohttp<4.0.0,>=3.8.6->llama-index-core<0.11.0,>=0.10.24->llama-index-llms-openai) (1.3.1)\n",
            "Requirement already satisfied: attrs>=17.3.0 in d:\\workspaces\\courses\\aimakerspace\\ai-engineering-cohort-2\\.venv\\lib\\site-packages (from aiohttp<4.0.0,>=3.8.6->llama-index-core<0.11.0,>=0.10.24->llama-index-llms-openai) (23.2.0)\n",
            "Requirement already satisfied: frozenlist>=1.1.1 in d:\\workspaces\\courses\\aimakerspace\\ai-engineering-cohort-2\\.venv\\lib\\site-packages (from aiohttp<4.0.0,>=3.8.6->llama-index-core<0.11.0,>=0.10.24->llama-index-llms-openai) (1.4.1)\n",
            "Requirement already satisfied: multidict<7.0,>=4.5 in d:\\workspaces\\courses\\aimakerspace\\ai-engineering-cohort-2\\.venv\\lib\\site-packages (from aiohttp<4.0.0,>=3.8.6->llama-index-core<0.11.0,>=0.10.24->llama-index-llms-openai) (6.0.5)\n",
            "Requirement already satisfied: yarl<2.0,>=1.0 in d:\\workspaces\\courses\\aimakerspace\\ai-engineering-cohort-2\\.venv\\lib\\site-packages (from aiohttp<4.0.0,>=3.8.6->llama-index-core<0.11.0,>=0.10.24->llama-index-llms-openai) (1.9.4)\n",
            "Requirement already satisfied: pydantic>=1.10 in d:\\workspaces\\courses\\aimakerspace\\ai-engineering-cohort-2\\.venv\\lib\\site-packages (from llamaindex-py-client<0.2.0,>=0.1.18->llama-index-core<0.11.0,>=0.10.24->llama-index-llms-openai) (1.10.9)\n",
            "Requirement already satisfied: anyio in d:\\workspaces\\courses\\aimakerspace\\ai-engineering-cohort-2\\.venv\\lib\\site-packages (from httpx->llama-index-core<0.11.0,>=0.10.24->llama-index-llms-openai) (4.3.0)\n",
            "Requirement already satisfied: certifi in d:\\workspaces\\courses\\aimakerspace\\ai-engineering-cohort-2\\.venv\\lib\\site-packages (from httpx->llama-index-core<0.11.0,>=0.10.24->llama-index-llms-openai) (2024.2.2)\n",
            "Requirement already satisfied: httpcore==1.* in d:\\workspaces\\courses\\aimakerspace\\ai-engineering-cohort-2\\.venv\\lib\\site-packages (from httpx->llama-index-core<0.11.0,>=0.10.24->llama-index-llms-openai) (1.0.5)\n",
            "Requirement already satisfied: idna in d:\\workspaces\\courses\\aimakerspace\\ai-engineering-cohort-2\\.venv\\lib\\site-packages (from httpx->llama-index-core<0.11.0,>=0.10.24->llama-index-llms-openai) (3.7)\n",
            "Requirement already satisfied: sniffio in d:\\workspaces\\courses\\aimakerspace\\ai-engineering-cohort-2\\.venv\\lib\\site-packages (from httpx->llama-index-core<0.11.0,>=0.10.24->llama-index-llms-openai) (1.3.1)\n",
            "Requirement already satisfied: h11<0.15,>=0.13 in d:\\workspaces\\courses\\aimakerspace\\ai-engineering-cohort-2\\.venv\\lib\\site-packages (from httpcore==1.*->httpx->llama-index-core<0.11.0,>=0.10.24->llama-index-llms-openai) (0.14.0)\n",
            "Requirement already satisfied: click in d:\\workspaces\\courses\\aimakerspace\\ai-engineering-cohort-2\\.venv\\lib\\site-packages (from nltk<4.0.0,>=3.8.1->llama-index-core<0.11.0,>=0.10.24->llama-index-llms-openai) (8.1.7)\n",
            "Requirement already satisfied: joblib in d:\\workspaces\\courses\\aimakerspace\\ai-engineering-cohort-2\\.venv\\lib\\site-packages (from nltk<4.0.0,>=3.8.1->llama-index-core<0.11.0,>=0.10.24->llama-index-llms-openai) (1.4.0)\n",
            "Requirement already satisfied: regex>=2021.8.3 in d:\\workspaces\\courses\\aimakerspace\\ai-engineering-cohort-2\\.venv\\lib\\site-packages (from nltk<4.0.0,>=3.8.1->llama-index-core<0.11.0,>=0.10.24->llama-index-llms-openai) (2024.4.28)\n",
            "Requirement already satisfied: distro<2,>=1.7.0 in d:\\workspaces\\courses\\aimakerspace\\ai-engineering-cohort-2\\.venv\\lib\\site-packages (from openai>=1.1.0->llama-index-core<0.11.0,>=0.10.24->llama-index-llms-openai) (1.9.0)\n",
            "Requirement already satisfied: charset-normalizer<4,>=2 in d:\\workspaces\\courses\\aimakerspace\\ai-engineering-cohort-2\\.venv\\lib\\site-packages (from requests>=2.31.0->llama-index-core<0.11.0,>=0.10.24->llama-index-llms-openai) (3.3.2)\n",
            "Requirement already satisfied: urllib3<3,>=1.21.1 in d:\\workspaces\\courses\\aimakerspace\\ai-engineering-cohort-2\\.venv\\lib\\site-packages (from requests>=2.31.0->llama-index-core<0.11.0,>=0.10.24->llama-index-llms-openai) (2.2.1)\n",
            "Requirement already satisfied: greenlet!=0.4.17 in d:\\workspaces\\courses\\aimakerspace\\ai-engineering-cohort-2\\.venv\\lib\\site-packages (from SQLAlchemy>=1.4.49->SQLAlchemy[asyncio]>=1.4.49->llama-index-core<0.11.0,>=0.10.24->llama-index-llms-openai) (3.0.3)\n",
            "Requirement already satisfied: colorama in d:\\workspaces\\courses\\aimakerspace\\ai-engineering-cohort-2\\.venv\\lib\\site-packages (from tqdm<5.0.0,>=4.66.1->llama-index-core<0.11.0,>=0.10.24->llama-index-llms-openai) (0.4.6)\n",
            "Requirement already satisfied: mypy-extensions>=0.3.0 in d:\\workspaces\\courses\\aimakerspace\\ai-engineering-cohort-2\\.venv\\lib\\site-packages (from typing-inspect>=0.8.0->llama-index-core<0.11.0,>=0.10.24->llama-index-llms-openai) (1.0.0)\n",
            "Requirement already satisfied: marshmallow<4.0.0,>=3.18.0 in d:\\workspaces\\courses\\aimakerspace\\ai-engineering-cohort-2\\.venv\\lib\\site-packages (from dataclasses-json->llama-index-core<0.11.0,>=0.10.24->llama-index-llms-openai) (3.21.1)\n",
            "Requirement already satisfied: python-dateutil>=2.8.2 in d:\\workspaces\\courses\\aimakerspace\\ai-engineering-cohort-2\\.venv\\lib\\site-packages (from pandas->llama-index-core<0.11.0,>=0.10.24->llama-index-llms-openai) (2.9.0.post0)\n",
            "Requirement already satisfied: pytz>=2020.1 in d:\\workspaces\\courses\\aimakerspace\\ai-engineering-cohort-2\\.venv\\lib\\site-packages (from pandas->llama-index-core<0.11.0,>=0.10.24->llama-index-llms-openai) (2024.1)\n",
            "Requirement already satisfied: tzdata>=2022.7 in d:\\workspaces\\courses\\aimakerspace\\ai-engineering-cohort-2\\.venv\\lib\\site-packages (from pandas->llama-index-core<0.11.0,>=0.10.24->llama-index-llms-openai) (2024.1)\n",
            "Requirement already satisfied: packaging>=17.0 in d:\\workspaces\\courses\\aimakerspace\\ai-engineering-cohort-2\\.venv\\lib\\site-packages (from marshmallow<4.0.0,>=3.18.0->dataclasses-json->llama-index-core<0.11.0,>=0.10.24->llama-index-llms-openai) (23.2)\n",
            "Requirement already satisfied: six>=1.5 in d:\\workspaces\\courses\\aimakerspace\\ai-engineering-cohort-2\\.venv\\lib\\site-packages (from python-dateutil>=2.8.2->pandas->llama-index-core<0.11.0,>=0.10.24->llama-index-llms-openai) (1.16.0)\n",
            "Downloading llama_index_llms_openai-0.1.19-py3-none-any.whl (11 kB)\n",
            "Installing collected packages: llama-index-llms-openai\n",
            "  Attempting uninstall: llama-index-llms-openai\n",
            "    Found existing installation: llama-index-llms-openai 0.1.16\n",
            "    Uninstalling llama-index-llms-openai-0.1.16:\n",
            "      Successfully uninstalled llama-index-llms-openai-0.1.16\n",
            "Successfully installed llama-index-llms-openai-0.1.19\n",
            "Note: you may need to restart the kernel to use updated packages.\n"
          ]
        }
      ],
      "source": [
        "%pip install -U llama-index-llms-openai"
      ]
    },
    {
      "cell_type": "code",
      "execution_count": 11,
      "metadata": {
        "id": "YPk0MtizSK8r"
      },
      "outputs": [],
      "source": [
        "import re\n",
        "import uuid\n",
        "\n",
        "from llama_index.llms.openai import OpenAI\n",
        "from tqdm.notebook import tqdm"
      ]
    },
    {
      "cell_type": "code",
      "execution_count": 12,
      "metadata": {
        "colab": {
          "base_uri": "https://localhost:8080/"
        },
        "id": "9_xsIc0VSe1C",
        "outputId": "4241fd76-cf85-4f09-f2c5-a9f5323e3c64"
      },
      "outputs": [],
      "source": [
        "import os\n",
        "import getpass\n",
        "\n",
        "# os.environ[\"OPENAI_API_KEY\"] = getpass.getpass(\"OpenAI API Key: \")"
      ]
    },
    {
      "cell_type": "markdown",
      "metadata": {
        "id": "qVfp_eh8SkUA"
      },
      "source": [
        "### Generating Queries\n",
        "\n",
        "Let's use a helper function to create our question answer pairs.\n",
        "\n",
        "We're going to use this prompt:\n",
        "\n",
        "```\n",
        "Context information is below.\n",
        "    \n",
        "---------------------\n",
        "{context_str}\n",
        "---------------------\n",
        "\n",
        "Given the context information and not prior knowledge.\n",
        "generate only questions based on the below query.\n",
        "\n",
        "You are a Teacher/ Professor. Your task is to setup \\\n",
        "{num_questions_per_chunk} questions for an upcoming \\\n",
        "quiz/examination. The questions should be diverse in nature \\\n",
        "across the document. Restrict the questions to the \\\n",
        "context information provided.\n",
        "```\n",
        "\n",
        "As you might be able to tell - we have the ability to control how many questions we generate, as well as the persona used to create the questions.\n",
        "\n",
        "The rest of the helper function is simply parsing the questions!"
      ]
    },
    {
      "cell_type": "code",
      "execution_count": 13,
      "metadata": {
        "id": "dMe-nddNSnaD"
      },
      "outputs": [],
      "source": [
        "def generate_queries(\n",
        "    corpus,\n",
        "    num_questions_per_chunk=2,\n",
        "    prompt_template=None,\n",
        "    verbose=False,\n",
        "):\n",
        "    \"\"\"\n",
        "    Automatically generate hypothetical questions that could be answered with\n",
        "    doc in the corpus.\n",
        "    \"\"\"\n",
        "    llm = OpenAI(model='gpt-3.5-turbo')\n",
        "\n",
        "    prompt_template = prompt_template or \"\"\"\\\n",
        "    Context information is below.\n",
        "\n",
        "    ---------------------\n",
        "    {context_str}\n",
        "    ---------------------\n",
        "\n",
        "    Given the context information and not prior knowledge.\n",
        "    generate only questions based on the below query.\n",
        "\n",
        "    You are a Teacher/ Professor. Your task is to setup \\\n",
        "    {num_questions_per_chunk} questions for an upcoming \\\n",
        "    quiz/examination. The questions should be diverse in nature \\\n",
        "    across the document. Restrict the questions to the \\\n",
        "    context information provided.\"\n",
        "    \"\"\"\n",
        "\n",
        "    queries = {}\n",
        "    relevant_docs = {}\n",
        "    for node_id, text in tqdm(corpus.items()):\n",
        "        query = prompt_template.format(context_str=text, num_questions_per_chunk=num_questions_per_chunk)\n",
        "        response = llm.complete(query)\n",
        "\n",
        "        result = str(response).strip().split(\"\\n\")\n",
        "        questions = [\n",
        "            re.sub(r\"^\\d+[\\).\\s]\", \"\", question).strip() for question in result\n",
        "        ]\n",
        "        questions = [question for question in questions if len(question) > 0]\n",
        "\n",
        "        for question in questions:\n",
        "            question_id = str(uuid.uuid4())\n",
        "            queries[question_id] = question\n",
        "            relevant_docs[question_id] = [node_id]\n",
        "    return queries, relevant_docs"
      ]
    },
    {
      "cell_type": "markdown",
      "metadata": {
        "id": "BMVuKSbcSrQH"
      },
      "source": [
        "Nothing left to do but generate some QA pairs!"
      ]
    },
    {
      "cell_type": "code",
      "execution_count": 14,
      "metadata": {
        "colab": {
          "base_uri": "https://localhost:8080/",
          "height": 49,
          "referenced_widgets": [
            "e6a833c4863f4669beb96b0d4f012443",
            "fe8af9112d704801ac4e4f2dc80d6c47",
            "58963b35647f419da0343dfa2f2ef7c2",
            "e1f768afef1d46328f9f2598308ee1b9",
            "1e3f17b06d264d9b83719ac02eff793c",
            "1651f7b892e745268be287fe9f2e8857",
            "efe1a8032370486c92487eb52cdb4b24",
            "e8b9a08fd5084a0baa0b31d0e70bc21a",
            "e60f498470774c63a2d8ab6c02da906b",
            "8524e696b5c54e0f8f4debf3db1bcd3d",
            "b904212f614749eca2d78843af3e1e49"
          ]
        },
        "id": "yZl13pDaSydt",
        "outputId": "f463c217-cbc4-4e56-8db2-651f32c363b8"
      },
      "outputs": [
        {
          "data": {
            "application/vnd.jupyter.widget-view+json": {
              "model_id": "89f542147b4e4d35a4c51692d3820340",
              "version_major": 2,
              "version_minor": 0
            },
            "text/plain": [
              "  0%|          | 0/139 [00:00<?, ?it/s]"
            ]
          },
          "metadata": {},
          "output_type": "display_data"
        }
      ],
      "source": [
        "# train_queries, train_relevant_docs = generate_queries(train_corpus, 1)"
      ]
    },
    {
      "cell_type": "code",
      "execution_count": 15,
      "metadata": {
        "id": "VDB4roTSd_5n"
      },
      "outputs": [],
      "source": [
        "train_dataset = {\n",
        "    'Question': train_queries,\n",
        "    'Corpus': train_corpus,\n",
        "    'Abstract': train_relevant_docs,\n",
        "}"
      ]
    },
    {
      "cell_type": "code",
      "execution_count": 16,
      "metadata": {
        "id": "n3aLDtmijWhM"
      },
      "outputs": [],
      "source": [
        "dataset = train_dataset\n",
        "\n",
        "corpus = dataset['Corpus']\n",
        "queries = dataset['Question']\n",
        "relevant_docs = dataset['Abstract']\n",
        "\n",
        "examples = []\n",
        "for query_id, query in queries.items():\n",
        "    node_id = relevant_docs[query_id][0]\n",
        "    text = corpus[node_id]\n",
        "    example = {\"Question\" : query, \"Abstract\" : text}\n",
        "    examples.append(example)"
      ]
    },
    {
      "cell_type": "code",
      "execution_count": 17,
      "metadata": {
        "id": "CKSH-c7lyKXZ"
      },
      "outputs": [],
      "source": [
        "import pandas as pd\n",
        "\n",
        "question_abstract_pair_df = pd.DataFrame(examples)"
      ]
    },
    {
      "cell_type": "code",
      "execution_count": 18,
      "metadata": {
        "id": "vyK28au2ygl1"
      },
      "outputs": [],
      "source": [
        "question_abstract_pair_df.to_csv(\"./question_abstract_pair.csv\")"
      ]
    },
    {
      "cell_type": "markdown",
      "metadata": {
        "id": "tiT6Br2Ho2AG"
      },
      "source": [
        "### Generating Answers\n",
        "\n",
        "We'll repeat the process and create an answer for each question as well."
      ]
    },
    {
      "cell_type": "code",
      "execution_count": 19,
      "metadata": {
        "id": "EbzzbrL0hU8v"
      },
      "outputs": [],
      "source": [
        "def generate_answer(\n",
        "    query,\n",
        "    context,\n",
        "    prompt_template=None,\n",
        "    verbose=False,\n",
        "):\n",
        "    \"\"\"\n",
        "    Automatically generate hypothetical questions that could be answered with\n",
        "    doc in the corpus.\n",
        "    \"\"\"\n",
        "    llm = OpenAI(model='gpt-3.5-turbo')\n",
        "\n",
        "    prompt_template = prompt_template or \"\"\"\\\n",
        "    Context information is below.\n",
        "\n",
        "    ---------------------\n",
        "    {context_str}\n",
        "    ---------------------\n",
        "\n",
        "    Given the context information and not prior knowledge.\n",
        "    generate only answers based on the below query.\n",
        "\n",
        "    ---------------------\n",
        "    {query_str}\n",
        "    ---------------------\n",
        "\n",
        "    You are a Teacher/ Professor. Your task is to answer \\\n",
        "    questions for an upcoming quiz/examination. Restrict\\\n",
        "    your answers based on the context information provided. \\\n",
        "    If you do not know the answer, simply answer: \"I don't know\" \\\n",
        "    \"\"\"\n",
        "    full_query = prompt_template.format(context_str=context, query_str=query)\n",
        "    response = llm.complete(full_query)\n",
        "\n",
        "    result = str(response).strip().split(\"\\n\")\n",
        "    answers = [\n",
        "            re.sub(r\"^\\d+[\\).\\s]\", \"\", answer).strip() for answer in result\n",
        "        ]\n",
        "    answers = [answer for answer in answers if len(answer) > 0]\n",
        "    return answers[0]"
      ]
    },
    {
      "cell_type": "markdown",
      "metadata": {
        "id": "LhUt2W80yw5v"
      },
      "source": [
        "We'll only train on a subset of the Question/Abstract pairs to save time and tokens!"
      ]
    },
    {
      "cell_type": "code",
      "execution_count": 20,
      "metadata": {
        "colab": {
          "base_uri": "https://localhost:8080/",
          "height": 49,
          "referenced_widgets": [
            "fb64c6215e68406a8f84c709f9317973",
            "b1d7070d219e492fb5584cc24d8d6cad",
            "64d2fc2dd6ae46888b108d74b2fc53d0",
            "b350e8239fbf44488581c367d0112926",
            "c9f1ec67254f4f6797b84e2bc734e42b",
            "202dafcca0034fc5afb8737dc58f4fba",
            "26d8da7c9a30497db3ee923d77b6845a",
            "2dec4730b0294c18850a6e644fff2140",
            "8d2bfe79748747ceb43e7e25b030c743",
            "e455ecc5954e4e14bd45d731e6bbda0f",
            "d3389e5d8b7745898d94a8f28f777cb3"
          ]
        },
        "id": "Fg33HHjUkXRM",
        "outputId": "2f8a66e6-c122-4a4a-8a4a-ea48ce1236b0"
      },
      "outputs": [
        {
          "data": {
            "application/vnd.jupyter.widget-view+json": {
              "model_id": "80b731b113de4b588b55a75db552e6bd",
              "version_major": 2,
              "version_minor": 0
            },
            "text/plain": [
              "  0%|          | 0/100 [00:00<?, ?it/s]"
            ]
          },
          "metadata": {},
          "output_type": "display_data"
        }
      ],
      "source": [
        "for example in tqdm(examples[:100]):\n",
        "  example[\"Answer\"] = generate_answer(example[\"Question\"], example[\"Abstract\"])"
      ]
    },
    {
      "cell_type": "markdown",
      "metadata": {
        "id": "2ZMhYl2clJ3Y"
      },
      "source": [
        "#### ❓ Question #1:\n",
        "\n",
        "Can you think of any other ways to create, or obtain, the data required?\n",
        "\n",
        "Does it have to be synthetically generation?\n",
        "\n",
        "#### ANSWER:\n",
        "\n",
        "These questions and answers can also be generated manually by human annotators."
      ]
    },
    {
      "cell_type": "markdown",
      "metadata": {
        "id": "rsGoisVEexA1"
      },
      "source": [
        "### Convert to DALM Format\n",
        "\n",
        "Now that we have our dataset, let's convert it to the expected format for DALM!"
      ]
    },
    {
      "cell_type": "code",
      "execution_count": 21,
      "metadata": {
        "id": "nh0skGNue4hf"
      },
      "outputs": [],
      "source": [
        "import pandas as pd\n",
        "\n",
        "train_df = pd.DataFrame(examples[:100])\n",
        "# train_df = pd.DataFrame(examples)"
      ]
    },
    {
      "cell_type": "code",
      "execution_count": 23,
      "metadata": {
        "id": "eQwNyOmMfEkK"
      },
      "outputs": [],
      "source": [
        "# train_df.to_csv(\"./dalm/datasets/hhgtg_train.csv\")\n",
        "train_df.to_csv(\"./hhgtg_train.csv\")"
      ]
    },
    {
      "cell_type": "markdown",
      "metadata": {
        "id": "V6gg1aeVKw--"
      },
      "source": [
        "## Task 3: Training E2E Rag\n",
        "\n",
        "We will train a our favourite model: Llama 3 8B (`NousResearch/Meta-Llama-3-8B`) and we will train the Snowflake Arctic Medium retriever model (`https://huggingface.co/Snowflake/snowflake-arctic-embed-m`).\n",
        "\n",
        "Thanks to PEFT and 4bit quantization - we can do this all on a very small budget of ~10GB GPU RAM!\n"
      ]
    },
    {
      "cell_type": "code",
      "execution_count": 24,
      "metadata": {
        "id": "Fyid6hvffkr0"
      },
      "outputs": [
        {
          "name": "stdout",
          "output_type": "stream",
          "text": [
            "Requirement already satisfied: huggingface-hub in d:\\workspaces\\courses\\aimakerspace\\ai-engineering-cohort-2\\.venv\\lib\\site-packages (0.23.0)\n",
            "Requirement already satisfied: filelock in d:\\workspaces\\courses\\aimakerspace\\ai-engineering-cohort-2\\.venv\\lib\\site-packages (from huggingface-hub) (3.13.1)\n",
            "Requirement already satisfied: fsspec>=2023.5.0 in d:\\workspaces\\courses\\aimakerspace\\ai-engineering-cohort-2\\.venv\\lib\\site-packages (from huggingface-hub) (2024.2.0)\n",
            "Requirement already satisfied: packaging>=20.9 in d:\\workspaces\\courses\\aimakerspace\\ai-engineering-cohort-2\\.venv\\lib\\site-packages (from huggingface-hub) (23.2)\n",
            "Requirement already satisfied: pyyaml>=5.1 in d:\\workspaces\\courses\\aimakerspace\\ai-engineering-cohort-2\\.venv\\lib\\site-packages (from huggingface-hub) (6.0.1)\n",
            "Requirement already satisfied: requests in d:\\workspaces\\courses\\aimakerspace\\ai-engineering-cohort-2\\.venv\\lib\\site-packages (from huggingface-hub) (2.31.0)\n",
            "Requirement already satisfied: tqdm>=4.42.1 in d:\\workspaces\\courses\\aimakerspace\\ai-engineering-cohort-2\\.venv\\lib\\site-packages (from huggingface-hub) (4.66.2)\n",
            "Requirement already satisfied: typing-extensions>=3.7.4.3 in d:\\workspaces\\courses\\aimakerspace\\ai-engineering-cohort-2\\.venv\\lib\\site-packages (from huggingface-hub) (4.9.0)\n",
            "Requirement already satisfied: colorama in d:\\workspaces\\courses\\aimakerspace\\ai-engineering-cohort-2\\.venv\\lib\\site-packages (from tqdm>=4.42.1->huggingface-hub) (0.4.6)\n",
            "Requirement already satisfied: charset-normalizer<4,>=2 in d:\\workspaces\\courses\\aimakerspace\\ai-engineering-cohort-2\\.venv\\lib\\site-packages (from requests->huggingface-hub) (3.3.2)\n",
            "Requirement already satisfied: idna<4,>=2.5 in d:\\workspaces\\courses\\aimakerspace\\ai-engineering-cohort-2\\.venv\\lib\\site-packages (from requests->huggingface-hub) (3.7)\n",
            "Requirement already satisfied: urllib3<3,>=1.21.1 in d:\\workspaces\\courses\\aimakerspace\\ai-engineering-cohort-2\\.venv\\lib\\site-packages (from requests->huggingface-hub) (2.2.1)\n",
            "Requirement already satisfied: certifi>=2017.4.17 in d:\\workspaces\\courses\\aimakerspace\\ai-engineering-cohort-2\\.venv\\lib\\site-packages (from requests->huggingface-hub) (2024.2.2)\n",
            "Note: you may need to restart the kernel to use updated packages.\n"
          ]
        }
      ],
      "source": [
        "%pip install -U huggingface-hub"
      ]
    },
    {
      "cell_type": "code",
      "execution_count": 25,
      "metadata": {
        "colab": {
          "base_uri": "https://localhost:8080/",
          "height": 145,
          "referenced_widgets": [
            "ca9b1ef8e0a94d16918cc3627b729334",
            "bb0045096bd645178a0b8eb3023089b1",
            "b4e3e4213ceb4b53ae5c1bff115c5b4d",
            "baf828ca22a04e6caa70689e91a0d975",
            "0ccab2a118a74eb3b86fe9bba2ce96c4",
            "1b1e8b1f68134b90b0f03010dd426f83",
            "f7fa061cc08345b38c51cc452b099775",
            "e0b1c14fe19d40fbaca4f39ed5be4dee",
            "f7ad1ff89b9542629699bc867c5a2a87",
            "2282f9bb22d64903b1948a41b5442052",
            "a7c67ae2226c42519af2ed251da3c39d",
            "2f815da4826c41198057ec250cbe4a1a",
            "436f7066d3a945db8cc0534ae4c6e95d",
            "7218f57d77c34bbc8e81f01ee84cc4f2",
            "1598c66f82a14868a6fc9f4dd4d74e27",
            "c4991b6079474582910e74f8f7f56f9d",
            "21b63aa63a574c3896a4ead855f1de13",
            "25d453f7d5c74e67b0c3055f3150372e",
            "d233beee86654335b6b4038cae978a02",
            "85b5e1a4e66a4c15b7635d8b11b2a869",
            "26047cee007f4a529ae85ed200dcc18e",
            "dd3795f828c14ad5a39a5d40417604a2",
            "139d240b83df4b20910c3e08a91b21bd",
            "1b927ea9dc214da99dd7c38bf458d9e9",
            "86bdb88cb2f24ddcad0bd6b1eb44908d",
            "0f749af026454808899774ee786f835b",
            "7edc613cad504898abf32259842c47ec",
            "267800a25d7249d7b4a349abe674f741",
            "86724d9d2b6b44569aa895a13ec3a899",
            "88eb8e8c8b18427cbf1427c4ccaf40f7",
            "bd373ee912e14e0eb7edf3faabef7ddb",
            "2cab7c7c49a84591bcdc3a61231f7291"
          ]
        },
        "id": "Fe4WCESGfquz",
        "outputId": "b41b119c-5dc1-4e7e-b050-7eae2b765037"
      },
      "outputs": [
        {
          "data": {
            "application/vnd.jupyter.widget-view+json": {
              "model_id": "97ae82e33283467dac2aaa8566cfba8a",
              "version_major": 2,
              "version_minor": 0
            },
            "text/plain": [
              "VBox(children=(HTML(value='<center> <img\\nsrc=https://huggingface.co/front/assets/huggingface_logo-noborder.sv…"
            ]
          },
          "metadata": {},
          "output_type": "display_data"
        }
      ],
      "source": [
        "from huggingface_hub import notebook_login\n",
        "\n",
        "notebook_login()"
      ]
    },
    {
      "cell_type": "code",
      "execution_count": 27,
      "metadata": {
        "colab": {
          "base_uri": "https://localhost:8080/"
        },
        "id": "yq9rtzyxKrPb",
        "outputId": "c61c8af7-6d38-4fe9-dc73-83c3ee0461b4"
      },
      "outputs": [
        {
          "name": "stderr",
          "output_type": "stream",
          "text": [
            "05/13/2024 23:44:07 - INFO - datasets - PyTorch version 2.3.0+cu121 available.\n",
            "d:\\Workspaces\\Courses\\AIMakerspace\\AI-Engineering-Cohort-2\\.venv\\Lib\\site-packages\\huggingface_hub\\file_download.py:1132: FutureWarning: `resume_download` is deprecated and will be removed in version 1.0.0. Downloads always resume when possible. If you want to force a new download, use `force_download=True`.\n",
            "  warnings.warn(\n",
            "`low_cpu_mem_usage` was None, now set to True since model is quantized.\n",
            "Some weights of BertModel were not initialized from the model checkpoint at Snowflake/snowflake-arctic-embed-m and are newly initialized: ['pooler.dense.bias', 'pooler.dense.weight']\n",
            "You should probably TRAIN this model on a down-stream task to be able to use it for predictions and inference.\n",
            "`low_cpu_mem_usage` was None, now set to True since model is quantized.\n",
            "\n",
            "Loading checkpoint shards:   0%|          | 0/4 [00:00<?, ?it/s]\n",
            "Loading checkpoint shards:  25%|██▌       | 1/4 [00:04<00:13,  4.48s/it]\n",
            "Loading checkpoint shards:  50%|█████     | 2/4 [00:11<00:11,  5.84s/it]\n",
            "Loading checkpoint shards:  75%|███████▌  | 3/4 [00:18<00:06,  6.38s/it]\n",
            "Loading checkpoint shards: 100%|██████████| 4/4 [00:19<00:00,  4.53s/it]\n",
            "Loading checkpoint shards: 100%|██████████| 4/4 [00:19<00:00,  5.00s/it]\n",
            "Special tokens have been added in the vocabulary, make sure the associated word embeddings are fine-tuned or trained.\n",
            "05/13/2024 23:44:33 - INFO - dalm.training.rag_e2e.train_rage2e - Distributed environment: DistributedType.NO\n",
            "Num processes: 1\n",
            "Process index: 0\n",
            "Local process index: 0\n",
            "Device: cuda\n",
            "\n",
            "Mixed precision type: no\n",
            "\n",
            "\n",
            "Running tokenizer on dataset:   0%|          | 0/100 [00:00<?, ? examples/s]\n",
            "Running tokenizer on dataset: 100%|██████████| 100/100 [00:00<00:00, 468.17 examples/s]\n",
            "Running tokenizer on dataset: 100%|██████████| 100/100 [00:00<00:00, 388.91 examples/s]\n",
            "05/13/2024 23:45:18 - INFO - dalm.training.rag_e2e.train_rage2e - Sample 81 of the training set: {'retriever_query_input_ids': [101, 1001, 23032, 1001, 2129, 2106, 4811, 19402, 4050, 16582, 2012, 2118, 4243, 1029, 102, 0, 0, 0, 0, 0, 0, 0, 0, 0, 0, 0, 0, 0, 0, 0, 0, 0, 0, 0, 0, 0, 0, 0, 0, 0, 0, 0, 0, 0, 0, 0, 0, 0, 0, 0], 'retriever_query_token_type_ids': [0, 0, 0, 0, 0, 0, 0, 0, 0, 0, 0, 0, 0, 0, 0, 0, 0, 0, 0, 0, 0, 0, 0, 0, 0, 0, 0, 0, 0, 0, 0, 0, 0, 0, 0, 0, 0, 0, 0, 0, 0, 0, 0, 0, 0, 0, 0, 0, 0, 0], 'retriever_query_attention_mask': [1, 1, 1, 1, 1, 1, 1, 1, 1, 1, 1, 1, 1, 1, 1, 0, 0, 0, 0, 0, 0, 0, 0, 0, 0, 0, 0, 0, 0, 0, 0, 0, 0, 0, 0, 0, 0, 0, 0, 0, 0, 0, 0, 0, 0, 0, 0, 0, 0, 0], 'retriever_passage_input_ids': [101, 1001, 6019, 1001, 2260, 3127, 1015, 1012, 2011, 1037, 8025, 16507, 1010, 3904, 2012, 2035, 2003, 3599, 2129, 2172, 10928, 1996, 23957, 1011, 12608, 4300, 21418, 2018, 2008, 2028, 1997, 2010, 7541, 2814, 2001, 2025, 9287, 2013, 2019, 23957, 1010, 2021, 2001, 1999, 2755, 2013, 1037, 2235, 4774, 1999, 1996, 9884, 1997, 6655, 2884, 3351, 8557, 1998, 2025, 2013, 26353, 2004, 2002, 2788, 3555, 1012, 4300, 21418, 2018, 2196, 1010, 2412, 6878, 2023, 1012, 2023, 2767, 1997, 2010, 2018, 1984, 12096, 3369, 2006, 1996, 4774, 2070, 1984, 6199, 12129, 3011, 2086, 3130, 1010, 1998, 2002, 2018, 2499, 2524, 2000, 12586, 2370, 2046, 3011, 2554, 1011, 2007, 1010, 2009, 2442, 2022, 2056, 1010, 2070, 3112, 1012, 2005, 6013, 2002, 2018, 2985, 2216, 1984, 6199, 12129, 2086, 12097, 102], 'retriever_passage_token_type_ids': [0, 0, 0, 0, 0, 0, 0, 0, 0, 0, 0, 0, 0, 0, 0, 0, 0, 0, 0, 0, 0, 0, 0, 0, 0, 0, 0, 0, 0, 0, 0, 0, 0, 0, 0, 0, 0, 0, 0, 0, 0, 0, 0, 0, 0, 0, 0, 0, 0, 0, 0, 0, 0, 0, 0, 0, 0, 0, 0, 0, 0, 0, 0, 0, 0, 0, 0, 0, 0, 0, 0, 0, 0, 0, 0, 0, 0, 0, 0, 0, 0, 0, 0, 0, 0, 0, 0, 0, 0, 0, 0, 0, 0, 0, 0, 0, 0, 0, 0, 0, 0, 0, 0, 0, 0, 0, 0, 0, 0, 0, 0, 0, 0, 0, 0, 0, 0, 0, 0, 0, 0, 0, 0, 0, 0, 0, 0, 0], 'retriever_passage_attention_mask': [1, 1, 1, 1, 1, 1, 1, 1, 1, 1, 1, 1, 1, 1, 1, 1, 1, 1, 1, 1, 1, 1, 1, 1, 1, 1, 1, 1, 1, 1, 1, 1, 1, 1, 1, 1, 1, 1, 1, 1, 1, 1, 1, 1, 1, 1, 1, 1, 1, 1, 1, 1, 1, 1, 1, 1, 1, 1, 1, 1, 1, 1, 1, 1, 1, 1, 1, 1, 1, 1, 1, 1, 1, 1, 1, 1, 1, 1, 1, 1, 1, 1, 1, 1, 1, 1, 1, 1, 1, 1, 1, 1, 1, 1, 1, 1, 1, 1, 1, 1, 1, 1, 1, 1, 1, 1, 1, 1, 1, 1, 1, 1, 1, 1, 1, 1, 1, 1, 1, 1, 1, 1, 1, 1, 1, 1, 1, 1], 'generator_input_input_ids': [128000, 2, 1663, 2, 674, 1663, 2, 2650, 1550, 14337, 43688, 440, 11383, 36792, 520, 12374, 9875, 30, 674, 6519, 425, 2, 674, 6519, 425, 2, 220, 717, 96424, 220, 16, 627, 1383, 264, 22999, 50278, 11, 2290, 520, 682, 374, 7041, 1268, 1790, 38141, 279, 85980, 7058, 8784, 20995, 28686, 43911, 1047, 430, 832, 315, 813, 18585, 4885, 574, 539, 58842, 198, 1527, 459, 85980, 11, 719, 574, 304, 2144, 505, 264, 2678, 11841, 304, 279, 53851, 315, 13315, 301, 713, 817, 198, 438, 539, 505, 33592, 8350, 439, 568, 6118, 11922, 627, 60762, 43911, 1047, 2646, 11, 3596, 24740, 420, 627, 2028, 4333, 315, 813, 1047, 33595, 71831, 59125, 11721, 389, 279, 11841, 1063, 33595, 71831, 69, 15247, 9420, 1667, 198, 1762, 18785, 11, 323, 568, 1047, 6575, 2653, 311, 20955, 5678, 1139, 9420, 8396, 482, 449, 345, 275, 2011, 387, 1071, 11, 1063, 2450, 13, 1789, 2937, 568, 1047, 7543, 1884, 33595, 71831, 69, 15247, 1667, 198, 8203, 2518, 311, 387, 459, 704, 315, 990, 12360, 11, 902, 574, 50434, 3403, 627, 1548, 1047, 1903, 832, 84834, 1529, 8154, 3582, 11, 1606, 568, 1047, 1940, 6802, 291, 264, 2766, 198, 263, 813, 10073, 5382, 3495, 13, 578, 2038, 568, 1047, 20802, 1047, 6197, 1461, 311, 198, 28150, 279, 836, 19524, 59663, 43688, 440, 863, 439, 1694, 29921, 28093, 2203, 292, 9373, 627, 1548, 574, 539, 75315, 66735, 16615, 11, 813, 4519, 1051, 21933, 719, 539, 75315, 84, 7058, 7162, 44877, 13, 5414, 7013, 574, 16502, 88, 323, 44768, 819, 323, 62639, 29512, 505], 'generator_input_attention_mask': [1, 1, 1, 1, 1, 1, 1, 1, 1, 1, 1, 1, 1, 1, 1, 1, 1, 1, 1, 1, 1, 1, 1, 1, 1, 1, 1, 1, 1, 1, 1, 1, 1, 1, 1, 1, 1, 1, 1, 1, 1, 1, 1, 1, 1, 1, 1, 1, 1, 1, 1, 1, 1, 1, 1, 1, 1, 1, 1, 1, 1, 1, 1, 1, 1, 1, 1, 1, 1, 1, 1, 1, 1, 1, 1, 1, 1, 1, 1, 1, 1, 1, 1, 1, 1, 1, 1, 1, 1, 1, 1, 1, 1, 1, 1, 1, 1, 1, 1, 1, 1, 1, 1, 1, 1, 1, 1, 1, 1, 1, 1, 1, 1, 1, 1, 1, 1, 1, 1, 1, 1, 1, 1, 1, 1, 1, 1, 1, 1, 1, 1, 1, 1, 1, 1, 1, 1, 1, 1, 1, 1, 1, 1, 1, 1, 1, 1, 1, 1, 1, 1, 1, 1, 1, 1, 1, 1, 1, 1, 1, 1, 1, 1, 1, 1, 1, 1, 1, 1, 1, 1, 1, 1, 1, 1, 1, 1, 1, 1, 1, 1, 1, 1, 1, 1, 1, 1, 1, 1, 1, 1, 1, 1, 1, 1, 1, 1, 1, 1, 1, 1, 1, 1, 1, 1, 1, 1, 1, 1, 1, 1, 1, 1, 1, 1, 1, 1, 1, 1, 1, 1, 1, 1, 1, 1, 1, 1, 1, 1, 1, 1, 1, 1, 1, 1, 1, 1, 1, 1, 1, 1, 1, 1, 1, 1, 1, 1, 1, 1, 1, 1, 1, 1, 1, 1, 1], 'query_passage_input_len': 852}.\n",
            "05/13/2024 23:45:18 - INFO - dalm.training.rag_e2e.train_rage2e - Sample 14 of the training set: {'retriever_query_input_ids': [101, 1001, 23032, 1001, 2054, 2079, 2017, 2228, 1996, 3166, 2003, 2667, 2000, 16636, 2011, 2139, 14808, 5844, 1996, 3793, 2000, 26937, 13899, 1998, 11152, 2175, 12096, 1029, 102, 0, 0, 0, 0, 0, 0, 0, 0, 0, 0, 0, 0, 0, 0, 0, 0, 0, 0, 0, 0, 0], 'retriever_query_token_type_ids': [0, 0, 0, 0, 0, 0, 0, 0, 0, 0, 0, 0, 0, 0, 0, 0, 0, 0, 0, 0, 0, 0, 0, 0, 0, 0, 0, 0, 0, 0, 0, 0, 0, 0, 0, 0, 0, 0, 0, 0, 0, 0, 0, 0, 0, 0, 0, 0, 0, 0], 'retriever_query_attention_mask': [1, 1, 1, 1, 1, 1, 1, 1, 1, 1, 1, 1, 1, 1, 1, 1, 1, 1, 1, 1, 1, 1, 1, 1, 1, 1, 1, 1, 1, 0, 0, 0, 0, 0, 0, 0, 0, 0, 0, 0, 0, 0, 0, 0, 0, 0, 0, 0, 0, 0], 'retriever_passage_input_ids': [101, 1001, 6019, 1001, 1017, 2005, 26937, 13899, 1998, 11152, 2175, 12096, 1998, 2035, 2060, 13929, 7066, 2005, 5572, 1010, 11883, 1010, 1998, 1037, 10682, 102, 0, 0, 0, 0, 0, 0, 0, 0, 0, 0, 0, 0, 0, 0, 0, 0, 0, 0, 0, 0, 0, 0, 0, 0, 0, 0, 0, 0, 0, 0, 0, 0, 0, 0, 0, 0, 0, 0, 0, 0, 0, 0, 0, 0, 0, 0, 0, 0, 0, 0, 0, 0, 0, 0, 0, 0, 0, 0, 0, 0, 0, 0, 0, 0, 0, 0, 0, 0, 0, 0, 0, 0, 0, 0, 0, 0, 0, 0, 0, 0, 0, 0, 0, 0, 0, 0, 0, 0, 0, 0, 0, 0, 0, 0, 0, 0, 0, 0, 0, 0, 0, 0], 'retriever_passage_token_type_ids': [0, 0, 0, 0, 0, 0, 0, 0, 0, 0, 0, 0, 0, 0, 0, 0, 0, 0, 0, 0, 0, 0, 0, 0, 0, 0, 0, 0, 0, 0, 0, 0, 0, 0, 0, 0, 0, 0, 0, 0, 0, 0, 0, 0, 0, 0, 0, 0, 0, 0, 0, 0, 0, 0, 0, 0, 0, 0, 0, 0, 0, 0, 0, 0, 0, 0, 0, 0, 0, 0, 0, 0, 0, 0, 0, 0, 0, 0, 0, 0, 0, 0, 0, 0, 0, 0, 0, 0, 0, 0, 0, 0, 0, 0, 0, 0, 0, 0, 0, 0, 0, 0, 0, 0, 0, 0, 0, 0, 0, 0, 0, 0, 0, 0, 0, 0, 0, 0, 0, 0, 0, 0, 0, 0, 0, 0, 0, 0], 'retriever_passage_attention_mask': [1, 1, 1, 1, 1, 1, 1, 1, 1, 1, 1, 1, 1, 1, 1, 1, 1, 1, 1, 1, 1, 1, 1, 1, 1, 1, 0, 0, 0, 0, 0, 0, 0, 0, 0, 0, 0, 0, 0, 0, 0, 0, 0, 0, 0, 0, 0, 0, 0, 0, 0, 0, 0, 0, 0, 0, 0, 0, 0, 0, 0, 0, 0, 0, 0, 0, 0, 0, 0, 0, 0, 0, 0, 0, 0, 0, 0, 0, 0, 0, 0, 0, 0, 0, 0, 0, 0, 0, 0, 0, 0, 0, 0, 0, 0, 0, 0, 0, 0, 0, 0, 0, 0, 0, 0, 0, 0, 0, 0, 0, 0, 0, 0, 0, 0, 0, 0, 0, 0, 0, 0, 0, 0, 0, 0, 0, 0, 0], 'generator_input_input_ids': [128000, 2, 1663, 2, 674, 1663, 2, 3639, 656, 499, 1781, 279, 3229, 374, 4560, 311, 20599, 555, 57766, 1113, 279, 1495, 311, 12565, 3919, 48677, 323, 62140, 47247, 267, 30, 674, 6519, 425, 2, 674, 6519, 425, 2, 220, 18, 198, 2000, 12565, 3919, 48677, 323, 62140, 47247, 267, 198, 438, 682, 1023, 59796, 5493, 198, 2000, 15600, 11, 47084, 11, 323, 264, 32169, 674, 9399, 2, 578, 3229, 374, 4560, 311, 20599, 46135, 323, 35996, 369, 12565, 3919, 48677, 323, 62140, 47247, 267, 11, 439, 1664, 439, 682, 1023, 59796, 5493, 11, 369, 872, 1862, 323, 47609, 13, 128001, 128001, 128001, 128001, 128001, 128001, 128001, 128001, 128001, 128001, 128001, 128001, 128001, 128001, 128001, 128001, 128001, 128001, 128001, 128001, 128001, 128001, 128001, 128001, 128001, 128001, 128001, 128001, 128001, 128001, 128001, 128001, 128001, 128001, 128001, 128001, 128001, 128001, 128001, 128001, 128001, 128001, 128001, 128001, 128001, 128001, 128001, 128001, 128001, 128001, 128001, 128001, 128001, 128001, 128001, 128001, 128001, 128001, 128001, 128001, 128001, 128001, 128001, 128001, 128001, 128001, 128001, 128001, 128001, 128001, 128001, 128001, 128001, 128001, 128001, 128001, 128001, 128001, 128001, 128001, 128001, 128001, 128001, 128001, 128001, 128001, 128001, 128001, 128001, 128001, 128001, 128001, 128001, 128001, 128001, 128001, 128001, 128001, 128001, 128001, 128001, 128001, 128001, 128001, 128001, 128001, 128001, 128001, 128001, 128001, 128001, 128001, 128001, 128001, 128001, 128001, 128001, 128001, 128001, 128001, 128001, 128001, 128001, 128001, 128001, 128001, 128001, 128001, 128001, 128001, 128001, 128001, 128001, 128001, 128001, 128001, 128001, 128001, 128001, 128001, 128001, 128001, 128001, 128001, 128001, 128001, 128001, 128001, 128001, 128001, 128001, 128001, 128001, 128001, 128001, 128001], 'generator_input_attention_mask': [1, 1, 1, 1, 1, 1, 1, 1, 1, 1, 1, 1, 1, 1, 1, 1, 1, 1, 1, 1, 1, 1, 1, 1, 1, 1, 1, 1, 1, 1, 1, 1, 1, 1, 1, 1, 1, 1, 1, 1, 1, 1, 1, 1, 1, 1, 1, 1, 1, 1, 1, 1, 1, 1, 1, 1, 1, 1, 1, 1, 1, 1, 1, 1, 1, 1, 1, 1, 1, 1, 1, 1, 1, 1, 1, 1, 1, 1, 1, 1, 1, 1, 1, 1, 1, 1, 1, 1, 1, 1, 1, 1, 1, 1, 1, 1, 1, 1, 1, 1, 0, 0, 0, 0, 0, 0, 0, 0, 0, 0, 0, 0, 0, 0, 0, 0, 0, 0, 0, 0, 0, 0, 0, 0, 0, 0, 0, 0, 0, 0, 0, 0, 0, 0, 0, 0, 0, 0, 0, 0, 0, 0, 0, 0, 0, 0, 0, 0, 0, 0, 0, 0, 0, 0, 0, 0, 0, 0, 0, 0, 0, 0, 0, 0, 0, 0, 0, 0, 0, 0, 0, 0, 0, 0, 0, 0, 0, 0, 0, 0, 0, 0, 0, 0, 0, 0, 0, 0, 0, 0, 0, 0, 0, 0, 0, 0, 0, 0, 0, 0, 0, 0, 0, 0, 0, 0, 0, 0, 0, 0, 0, 0, 0, 0, 0, 0, 0, 0, 0, 0, 0, 0, 0, 0, 0, 0, 0, 0, 0, 0, 0, 0, 0, 0, 0, 0, 0, 0, 0, 0, 0, 0, 0, 0, 0, 0, 0, 0, 0, 0, 0, 0, 0, 0, 0, 0], 'query_passage_input_len': 68}.\n",
            "wandb: Currently logged in as: ymath. Use `wandb login --relogin` to force relogin\n",
            "wandb: wandb version 0.17.0 is available!  To upgrade, please run:\n",
            "wandb:  $ pip install wandb --upgrade\n",
            "wandb: Tracking run with wandb version 0.16.6\n",
            "wandb: Run data is saved locally in d:\\Workspaces\\Courses\\AIMakerspace\\AI-Engineering-Cohort-2\\Week 6\\Day 2\\wandb\\run-20240513_234521-ol6idz7s\n",
            "wandb: Run `wandb offline` to turn off syncing.\n",
            "wandb: Syncing run grateful-monkey-2\n",
            "wandb:  View project at https://wandb.ai/ymath/peft_rag_e2e_learning\n",
            "wandb:  View run at https://wandb.ai/ymath/peft_rag_e2e_learning/runs/ol6idz7s\n",
            "05/13/2024 23:45:23 - INFO - dalm.training.rag_e2e.train_rage2e - ***** Running E2E training *****\n",
            "05/13/2024 23:45:23 - INFO - dalm.training.rag_e2e.train_rage2e -   Num examples = 100\n",
            "05/13/2024 23:45:23 - INFO - dalm.training.rag_e2e.train_rage2e -   Num Epochs = 1\n",
            "05/13/2024 23:45:23 - INFO - dalm.training.rag_e2e.train_rage2e -   Instantaneous batch size per device = 2\n",
            "05/13/2024 23:45:23 - INFO - dalm.training.rag_e2e.train_rage2e -   Total train batch size (w. parallel, distributed & accumulation) = 2\n",
            "05/13/2024 23:45:23 - INFO - dalm.training.rag_e2e.train_rage2e -   Gradient Accumulation steps = 1\n",
            "05/13/2024 23:45:23 - INFO - dalm.training.rag_e2e.train_rage2e -   Total optimization steps = 50\n",
            "\n",
            "  0%|          | 0/50 [00:00<?, ?it/s]d:\\Workspaces\\Courses\\AIMakerspace\\AI-Engineering-Cohort-2\\.venv\\Lib\\site-packages\\transformers\\models\\llama\\modeling_llama.py:671: UserWarning: 1Torch was not compiled with flash attention. (Triggered internally at ..\\aten\\src\\ATen\\native\\transformers\\cuda\\sdp_utils.cpp:455.)\n",
            "  attn_output = torch.nn.functional.scaled_dot_product_attention(\n",
            "\n",
            "  2%|▏         | 1/50 [00:02<01:51,  2.28s/it]\n",
            "  4%|▍         | 2/50 [00:03<01:21,  1.70s/it]\n",
            "  6%|▌         | 3/50 [00:04<01:08,  1.46s/it]\n",
            "  8%|▊         | 4/50 [00:05<01:01,  1.35s/it]\n",
            " 10%|█         | 5/50 [00:07<00:56,  1.26s/it]\n",
            " 12%|█▏        | 6/50 [00:08<00:52,  1.20s/it]\n",
            " 14%|█▍        | 7/50 [00:09<00:50,  1.18s/it]\n",
            " 16%|█▌        | 8/50 [00:10<00:48,  1.15s/it]\n",
            " 18%|█▊        | 9/50 [00:11<00:46,  1.13s/it]\n",
            " 20%|██        | 10/50 [00:12<00:45,  1.13s/it]\n",
            " 22%|██▏       | 11/50 [00:13<00:43,  1.12s/it]\n",
            " 24%|██▍       | 12/50 [00:14<00:42,  1.11s/it]\n",
            " 26%|██▌       | 13/50 [00:15<00:40,  1.11s/it]\n",
            " 28%|██▊       | 14/50 [00:16<00:39,  1.11s/it]\n",
            " 30%|███       | 15/50 [00:18<00:38,  1.11s/it]\n",
            " 32%|███▏      | 16/50 [00:19<00:38,  1.14s/it]\n",
            " 34%|███▍      | 17/50 [00:20<00:37,  1.14s/it]\n",
            " 36%|███▌      | 18/50 [00:21<00:36,  1.15s/it]\n",
            " 38%|███▊      | 19/50 [00:22<00:35,  1.13s/it]\n",
            " 40%|████      | 20/50 [00:23<00:35,  1.17s/it]\n",
            " 42%|████▏     | 21/50 [00:25<00:33,  1.16s/it]\n",
            " 44%|████▍     | 22/50 [00:26<00:32,  1.18s/it]\n",
            " 46%|████▌     | 23/50 [00:27<00:31,  1.18s/it]\n",
            " 48%|████▊     | 24/50 [00:28<00:31,  1.20s/it]\n",
            " 50%|█████     | 25/50 [00:29<00:30,  1.21s/it]\n",
            " 52%|█████▏    | 26/50 [00:31<00:29,  1.21s/it]\n",
            " 54%|█████▍    | 27/50 [00:32<00:28,  1.25s/it]\n",
            " 56%|█████▌    | 28/50 [00:33<00:27,  1.27s/it]\n",
            " 58%|█████▊    | 29/50 [00:35<00:26,  1.27s/it]\n",
            " 60%|██████    | 30/50 [00:36<00:25,  1.29s/it]\n",
            " 62%|██████▏   | 31/50 [00:37<00:25,  1.32s/it]\n",
            " 64%|██████▍   | 32/50 [00:39<00:23,  1.30s/it]\n",
            " 66%|██████▌   | 33/50 [00:40<00:21,  1.28s/it]\n",
            " 68%|██████▊   | 34/50 [00:41<00:20,  1.26s/it]\n",
            " 70%|███████   | 35/50 [00:42<00:19,  1.28s/it]\n",
            " 72%|███████▏  | 36/50 [00:44<00:18,  1.33s/it]\n",
            " 74%|███████▍  | 37/50 [00:45<00:17,  1.37s/it]\n",
            " 76%|███████▌  | 38/50 [00:47<00:16,  1.41s/it]\n",
            " 78%|███████▊  | 39/50 [00:48<00:15,  1.43s/it]\n",
            " 80%|████████  | 40/50 [00:50<00:14,  1.41s/it]\n",
            " 82%|████████▏ | 41/50 [00:51<00:12,  1.44s/it]\n",
            " 84%|████████▍ | 42/50 [00:53<00:11,  1.43s/it]\n",
            " 86%|████████▌ | 43/50 [00:54<00:09,  1.40s/it]\n",
            " 88%|████████▊ | 44/50 [00:55<00:08,  1.39s/it]\n",
            " 90%|█████████ | 45/50 [00:57<00:06,  1.37s/it]\n",
            " 92%|█████████▏| 46/50 [00:58<00:05,  1.38s/it]\n",
            " 94%|█████████▍| 47/50 [00:59<00:04,  1.36s/it]\n",
            " 96%|█████████▌| 48/50 [01:01<00:02,  1.36s/it]\n",
            " 98%|█████████▊| 49/50 [01:02<00:01,  1.35s/it]\n",
            "100%|██████████| 50/50 [01:03<00:00,  1.36s/it]05/13/2024 23:46:27 - INFO - dalm.training.rag_e2e.train_rage2e - epoch 0: {}\n",
            "loading configuration file config.json from cache at C:\\Users\\ymath\\.cache\\huggingface\\hub\\models--Snowflake--snowflake-arctic-embed-m\\snapshots\\2ca412ec9505022eebd7d10286fbbad4b779f6e0\\config.json\n",
            "Model config BertConfig {\n",
            "  \"_name_or_path\": \"/data/.model_and_tokenizer_cache/8c1f5b7e8b968d544f7adc2e31c63251e690136cb5f2d99fd1d61e5d43d2ca6c\",\n",
            "  \"architectures\": [\n",
            "    \"BertModel\"\n",
            "  ],\n",
            "  \"attention_probs_dropout_prob\": 0.1,\n",
            "  \"classifier_dropout\": null,\n",
            "  \"gradient_checkpointing\": false,\n",
            "  \"hidden_act\": \"gelu\",\n",
            "  \"hidden_dropout_prob\": 0.1,\n",
            "  \"hidden_size\": 768,\n",
            "  \"initializer_range\": 0.02,\n",
            "  \"intermediate_size\": 3072,\n",
            "  \"layer_norm_eps\": 1e-12,\n",
            "  \"max_position_embeddings\": 512,\n",
            "  \"model_type\": \"bert\",\n",
            "  \"num_attention_heads\": 12,\n",
            "  \"num_hidden_layers\": 12,\n",
            "  \"pad_token_id\": 0,\n",
            "  \"position_embedding_type\": \"absolute\",\n",
            "  \"torch_dtype\": \"float32\",\n",
            "  \"transformers_version\": \"4.40.1\",\n",
            "  \"type_vocab_size\": 2,\n",
            "  \"use_cache\": true,\n",
            "  \"vocab_size\": 30522\n",
            "}\n",
            "\n",
            "tokenizer config file saved in rag_e2e_llama_arctic/retriever\\tokenizer_config.json\n",
            "Special tokens file saved in rag_e2e_llama_arctic/retriever\\special_tokens_map.json\n",
            "loading configuration file config.json from cache at C:\\Users\\ymath\\.cache\\huggingface\\hub\\models--NousResearch--Meta-Llama-3-8B\\snapshots\\315b20096dc791d381d514deb5f8bd9c8d6d3061\\config.json\n",
            "Model config LlamaConfig {\n",
            "  \"architectures\": [\n",
            "    \"LlamaForCausalLM\"\n",
            "  ],\n",
            "  \"attention_bias\": false,\n",
            "  \"attention_dropout\": 0.0,\n",
            "  \"bos_token_id\": 128000,\n",
            "  \"eos_token_id\": 128001,\n",
            "  \"hidden_act\": \"silu\",\n",
            "  \"hidden_size\": 4096,\n",
            "  \"initializer_range\": 0.02,\n",
            "  \"intermediate_size\": 14336,\n",
            "  \"max_position_embeddings\": 8192,\n",
            "  \"model_type\": \"llama\",\n",
            "  \"num_attention_heads\": 32,\n",
            "  \"num_hidden_layers\": 32,\n",
            "  \"num_key_value_heads\": 8,\n",
            "  \"pretraining_tp\": 1,\n",
            "  \"rms_norm_eps\": 1e-05,\n",
            "  \"rope_scaling\": null,\n",
            "  \"rope_theta\": 500000.0,\n",
            "  \"tie_word_embeddings\": false,\n",
            "  \"torch_dtype\": \"bfloat16\",\n",
            "  \"transformers_version\": \"4.40.1\",\n",
            "  \"use_cache\": true,\n",
            "  \"vocab_size\": 128256\n",
            "}\n",
            "\n",
            "tokenizer config file saved in rag_e2e_llama_arctic/generator\\tokenizer_config.json\n",
            "Special tokens file saved in rag_e2e_llama_arctic/generator\\special_tokens_map.json\n",
            "wandb: - 0.002 MB of 0.002 MB uploaded\n",
            "wandb: \\ 0.004 MB of 0.012 MB uploaded\n",
            "wandb: | 0.008 MB of 0.012 MB uploaded\n",
            "wandb: / 0.008 MB of 0.012 MB uploaded\n",
            "wandb: - 0.012 MB of 0.012 MB uploaded\n",
            "wandb:                                                                                \n",
            "wandb: \n",
            "wandb: Run history:\n",
            "wandb: train/epoch_loss ▁\n",
            "wandb: \n",
            "wandb: Run summary:\n",
            "wandb: train/epoch_loss 3.37544\n",
            "wandb: \n",
            "wandb:  View run grateful-monkey-2 at: https://wandb.ai/ymath/peft_rag_e2e_learning/runs/ol6idz7s\n",
            "wandb:  View project at: https://wandb.ai/ymath/peft_rag_e2e_learning\n",
            "wandb: Synced 5 W&B file(s), 0 media file(s), 0 artifact file(s) and 0 other file(s)\n",
            "wandb: Find logs at: .\\wandb\\run-20240513_234521-ol6idz7s\\logs\n",
            "d:\\Workspaces\\Courses\\AIMakerspace\\AI-Engineering-Cohort-2\\.venv\\Lib\\site-packages\\wandb\\sdk\\wandb_run.py:2265: UserWarning: Run (ol6idz7s) is finished. The call to `_console_raw_callback` will be ignored. Please make sure that you are using an active run.\n",
            "  lambda data: self._console_raw_callback(\"stderr\", data),\n",
            "\n",
            "100%|██████████| 50/50 [01:11<00:00,  1.43s/it]\n"
          ]
        }
      ],
      "source": [
        "# \"./dalm/datasets/hhgtg_train.csv\" \\\n",
        "\n",
        "!dalm train-rag-e2e \\\n",
        "\"./hhgtg_train.csv\" \\\n",
        "\"Snowflake/snowflake-arctic-embed-m\" \\\n",
        "\"NousResearch/Meta-Llama-3-8B\" \\\n",
        "--output-dir \"rag_e2e_llama_arctic\" \\\n",
        "--use-peft \"both\" \\\n",
        "--with-tracking \\\n",
        "--report-to all \\\n",
        "--use-bnb \"both\"\\\n",
        "--per-device-train-batch-size 2"
      ]
    },
    {
      "cell_type": "markdown",
      "metadata": {
        "id": "xGgg3fUDlUUI"
      },
      "source": [
        "#### ❓ Question #2:\n",
        "\n",
        "Describe how the LOSS works for E2E RAG.\n",
        "\n",
        "(Please see the lecture recording if you have any specific questions!)\n",
        "\n",
        "#### ANSWER:\n",
        "\n",
        "The combined loss for e2e RAG is a sum of the **contrastive loss** (positive for desired context, negative for all others), and **causal loss** (regular loss used during language model training)."
      ]
    },
    {
      "cell_type": "markdown",
      "metadata": {
        "id": "SVuO5qkuT1mC"
      },
      "source": [
        "## Task 4: Creating Simple LCEL Chain with New Models\n",
        "\n",
        "Now that we've fine-tuned our DALM model - let's create a chain that leverages it!"
      ]
    },
    {
      "cell_type": "markdown",
      "metadata": {
        "id": "QG5Pq6rrbHvi"
      },
      "source": [
        "### Data Collection\n",
        "\n",
        "We'll be leveraging the `PyMUPDFLoader` to load our PDF!"
      ]
    },
    {
      "cell_type": "code",
      "execution_count": 28,
      "metadata": {
        "id": "WYeQbplcVkW6"
      },
      "outputs": [],
      "source": [
        "from langchain_community.document_loaders import PyMuPDFLoader\n",
        "\n",
        "docs = PyMuPDFLoader(\"hhgtg1.pdf\").load()"
      ]
    },
    {
      "cell_type": "markdown",
      "metadata": {
        "id": "MyAoMHdMbWhs"
      },
      "source": [
        "### Chunking Our Documents\n",
        "\n",
        "We'll use the `RecursiveCharacterTextSplitter` to create our toy example.\n",
        "\n",
        "It will split based on the following rules:\n",
        "\n",
        "- Each chunk has a maximum size of 100 tokens\n",
        "- It will try and split first on the `\\n\\n` character, then on the `\\n`, then on the `<SPACE>` character, and finally it will split on individual tokens.\n",
        "\n",
        "Let's implement it and see the results!"
      ]
    },
    {
      "cell_type": "code",
      "execution_count": 29,
      "metadata": {
        "id": "QCY2lbbPWlQ4"
      },
      "outputs": [],
      "source": [
        "import tiktoken\n",
        "from langchain.text_splitter import RecursiveCharacterTextSplitter\n",
        "\n",
        "def tiktoken_len(text):\n",
        "    tokens = tiktoken.encoding_for_model(\"gpt-3.5-turbo\").encode(\n",
        "        text,\n",
        "    )\n",
        "    return len(tokens)\n",
        "\n",
        "text_splitter = RecursiveCharacterTextSplitter(\n",
        "    chunk_size = 200,\n",
        "    chunk_overlap = 0,\n",
        "    length_function = tiktoken_len,\n",
        ")\n",
        "\n",
        "split_chunks = text_splitter.split_documents(docs)"
      ]
    },
    {
      "cell_type": "code",
      "execution_count": 30,
      "metadata": {
        "colab": {
          "base_uri": "https://localhost:8080/"
        },
        "id": "_nbHfp7VWm2s",
        "outputId": "6ed649c6-4759-495a-ffd4-d3b4aa2ce825"
      },
      "outputs": [
        {
          "data": {
            "text/plain": [
              "444"
            ]
          },
          "execution_count": 30,
          "metadata": {},
          "output_type": "execute_result"
        }
      ],
      "source": [
        "len(split_chunks)"
      ]
    },
    {
      "cell_type": "markdown",
      "metadata": {
        "id": "80DCS-ocbZid"
      },
      "source": [
        "## Embeddings and Dense Vector Search\n",
        "\n",
        "Now that we have our individual chunks, we need a system to correctly select the relevant pieces of information to answer our query.\n",
        "\n",
        "This sounds like a perfect job for embeddings!\n",
        "\n",
        "However, we have a small problem to solve - our embedding model currently exists in a \"DALM specific\" format - let's pull it out and get it into a `sentencetransformers` consistent format!"
      ]
    },
    {
      "cell_type": "code",
      "execution_count": 31,
      "metadata": {
        "colab": {
          "base_uri": "https://localhost:8080/"
        },
        "id": "Pcqd7AVkWqDm",
        "outputId": "8e8023a9-b48c-4d65-ef61-ba46dea4fed6"
      },
      "outputs": [
        {
          "name": "stderr",
          "output_type": "stream",
          "text": [
            "05/14/2024 00:38:46 - INFO - datasets - PyTorch version 2.3.0+cu121 available.\n",
            "d:\\Workspaces\\Courses\\AIMakerspace\\AI-Engineering-Cohort-2\\.venv\\Lib\\site-packages\\huggingface_hub\\file_download.py:1132: FutureWarning: `resume_download` is deprecated and will be removed in version 1.0.0. Downloads always resume when possible. If you want to force a new download, use `force_download=True`.\n",
            "  warnings.warn(\n",
            "Some weights of BertModel were not initialized from the model checkpoint at Snowflake/snowflake-arctic-embed-m and are newly initialized: ['pooler.dense.bias', 'pooler.dense.weight']\n",
            "You should probably TRAIN this model on a down-stream task to be able to use it for predictions and inference.\n"
          ]
        }
      ],
      "source": [
        "from dalm.models.retriever_only_base_model import AutoModelForSentenceEmbedding\n",
        "\n",
        "embedding_model = AutoModelForSentenceEmbedding(\"Snowflake/snowflake-arctic-embed-m\")"
      ]
    },
    {
      "cell_type": "markdown",
      "metadata": {
        "id": "giSHnBaHb0dk"
      },
      "source": [
        "Now we can attach the adapters we used to train the embedding model."
      ]
    },
    {
      "cell_type": "code",
      "execution_count": 32,
      "metadata": {
        "colab": {
          "base_uri": "https://localhost:8080/"
        },
        "id": "SURUNhadYPcn",
        "outputId": "dbdbb938-e134-47c2-dbd7-97f7718fd595"
      },
      "outputs": [
        {
          "name": "stderr",
          "output_type": "stream",
          "text": [
            "05/14/2024 00:38:48 - INFO - peft.tuners.tuners_utils - Already found a `peft_config` attribute in the model. This will lead to having multiple adapters in the model. Make sure to know what you are doing!\n",
            "d:\\Workspaces\\Courses\\AIMakerspace\\AI-Engineering-Cohort-2\\.venv\\Lib\\site-packages\\peft\\tuners\\lora\\bnb.py:325: UserWarning: Merge lora module to 4-bit linear may get different generations due to rounding errors.\n",
            "  warnings.warn(\n"
          ]
        }
      ],
      "source": [
        "embedding_model.attach_pre_trained_peft_layers(\"rag_e2e_llama_arctic/retriever\", \"cuda\")"
      ]
    },
    {
      "cell_type": "markdown",
      "metadata": {
        "id": "5RsuOunHb4Wj"
      },
      "source": [
        "Let's merge and unload this model to get the new fine-tuned version in a friendly format."
      ]
    },
    {
      "cell_type": "code",
      "execution_count": 33,
      "metadata": {
        "id": "x0ZHPqTOY1pJ"
      },
      "outputs": [],
      "source": [
        "merged_embeddings = embedding_model.merge_and_unload()"
      ]
    },
    {
      "cell_type": "markdown",
      "metadata": {
        "id": "mwH49VYklc-c"
      },
      "source": [
        "#### ❓ Question #3:\n",
        "\n",
        "What is `merge_and_unload()` doing?\n",
        "\n",
        "#### ANSWER:\n",
        "\n",
        "DALM internally uses LoRA, and the LoRA adapter weights are often stored separately from the base model to enable plug-and-play at inference-time. However if it is preferred or required to use the fine-tuned LoRA adapters + model set as a single self-contained model, we can use the `merge_and_unload()` method to merge the LoRA weight decomposition matrices into the respective base model weights."
      ]
    },
    {
      "cell_type": "markdown",
      "metadata": {
        "id": "wjIeMokwc0ru"
      },
      "source": [
        "Now we can push the model to the hub!"
      ]
    },
    {
      "cell_type": "code",
      "execution_count": 34,
      "metadata": {
        "colab": {
          "base_uri": "https://localhost:8080/",
          "height": 84,
          "referenced_widgets": [
            "5cc38e424b304fe29eb8da0aa5d8e0a0",
            "01cd09e2f658447fa48f31760f097502",
            "22d82b9497f84a2e8eb30da793f1a2f9",
            "8defd5346c7443caa14afa0036954af1",
            "618c3cc14f7f4233a3efc1c5a63faa83",
            "a73658c539cd4ef2b6fcca0c2c43c26b",
            "6a78edecc982470e80b4a9fce1d8de8d",
            "a58621df343d4256821dbdcf1e3f9113",
            "b8e71b3422294eeaa899fabb595f7c79",
            "23593bdd166149a6bb93f1a5e3f3c64e",
            "16cb7816d37246bd990f12ec9eb0186e"
          ]
        },
        "id": "Dm7-NXlxY6ig",
        "outputId": "df53830a-315f-48fd-8a7c-7a6e07d3e989"
      },
      "outputs": [
        {
          "data": {
            "application/vnd.jupyter.widget-view+json": {
              "model_id": "398a11a9f075492eb2f8b43703fe4b03",
              "version_major": 2,
              "version_minor": 0
            },
            "text/plain": [
              "model.safetensors:   0%|          | 0.00/96.9M [00:00<?, ?B/s]"
            ]
          },
          "metadata": {},
          "output_type": "display_data"
        },
        {
          "data": {
            "text/plain": [
              "CommitInfo(commit_url='https://huggingface.co/ymath/e2erag-arctic-m/commit/889f58ba6429a174166067166c9e90549750a0ce', commit_message='Upload model', commit_description='', oid='889f58ba6429a174166067166c9e90549750a0ce', pr_url=None, pr_revision=None, pr_num=None)"
            ]
          },
          "execution_count": 34,
          "metadata": {},
          "output_type": "execute_result"
        }
      ],
      "source": [
        "merged_embeddings.push_to_hub(\"ymath/e2erag-arctic-m\")"
      ]
    },
    {
      "cell_type": "markdown",
      "metadata": {
        "id": "Z8H50yU_c3Rv"
      },
      "source": [
        "We'll also want to grab the tokenizer for our embedding model, and do the same with it!"
      ]
    },
    {
      "cell_type": "code",
      "execution_count": 36,
      "metadata": {
        "id": "-vfRVRRaZPHR"
      },
      "outputs": [],
      "source": [
        "from transformers import AutoTokenizer\n",
        "\n",
        "embedding_tokenizer = AutoTokenizer.from_pretrained(\"rag_e2e_llama_arctic/retriever\")"
      ]
    },
    {
      "cell_type": "code",
      "execution_count": 37,
      "metadata": {
        "colab": {
          "base_uri": "https://localhost:8080/",
          "height": 84,
          "referenced_widgets": [
            "ca562ede5fdd455988e9b133acd8ca92",
            "a2b4dde2c45a447cb3d8387e7a761857",
            "a4d5cccffa5d40dd8bd23f56e0c9827a",
            "e0b57b5960a443d0833385b0d40e81d5",
            "3f48cbb174644784ae5528b06293c9d2",
            "e5198bbeb18f45d2978ffd8d8cce1bd7",
            "01342ae8ec4a48938111f821e47224a8",
            "d72f3917784a483fbed6e4895633a6da",
            "432b8627f4704f34845054b46f1a8abb",
            "3f67ca36a63d413181844b7d62406226",
            "b3def22cfd21429f81d93231b5d87a92"
          ]
        },
        "id": "JFBdnpjgZXg-",
        "outputId": "a1b45498-e087-4941-fa50-77a1fa0b2d6a"
      },
      "outputs": [
        {
          "data": {
            "application/vnd.jupyter.widget-view+json": {
              "model_id": "865396a9fa4343cb9374d01d92984409",
              "version_major": 2,
              "version_minor": 0
            },
            "text/plain": [
              "README.md:   0%|          | 0.00/5.17k [00:00<?, ?B/s]"
            ]
          },
          "metadata": {},
          "output_type": "display_data"
        },
        {
          "name": "stderr",
          "output_type": "stream",
          "text": [
            "d:\\Workspaces\\Courses\\AIMakerspace\\AI-Engineering-Cohort-2\\.venv\\Lib\\site-packages\\huggingface_hub\\file_download.py:157: UserWarning: `huggingface_hub` cache-system uses symlinks by default to efficiently store duplicated files but your machine does not support them in C:\\Users\\ymath\\.cache\\huggingface\\hub\\models--ymath--e2erag-arctic-m. Caching files will still work but in a degraded version that might require more space on your disk. This warning can be disabled by setting the `HF_HUB_DISABLE_SYMLINKS_WARNING` environment variable. For more details, see https://huggingface.co/docs/huggingface_hub/how-to-cache#limitations.\n",
            "To support symlinks on Windows, you either need to activate Developer Mode or to run Python as an administrator. In order to see activate developer mode, see this article: https://docs.microsoft.com/en-us/windows/apps/get-started/enable-your-device-for-development\n",
            "  warnings.warn(message)\n"
          ]
        },
        {
          "data": {
            "text/plain": [
              "CommitInfo(commit_url='https://huggingface.co/ymath/e2erag-arctic-m/commit/6c52d3cedf50c6eea49bcb5dee754f20992cfc3f', commit_message='Upload tokenizer', commit_description='', oid='6c52d3cedf50c6eea49bcb5dee754f20992cfc3f', pr_url=None, pr_revision=None, pr_num=None)"
            ]
          },
          "execution_count": 37,
          "metadata": {},
          "output_type": "execute_result"
        }
      ],
      "source": [
        "embedding_tokenizer.push_to_hub(\"ymath/e2erag-arctic-m\")"
      ]
    },
    {
      "cell_type": "markdown",
      "metadata": {
        "id": "YnxKV-ddc70M"
      },
      "source": [
        "Now we can load our fine-tuned embedding model from the hub!"
      ]
    },
    {
      "cell_type": "code",
      "execution_count": 45,
      "metadata": {
        "colab": {
          "base_uri": "https://localhost:8080/",
          "height": 252,
          "referenced_widgets": [
            "44b75bfd32744094b0707b6a3d378060",
            "26425ba9852b4257988b5f18aff7ecd2",
            "2420aeaa42d54259917fb4a6cf890c7f",
            "d157e2ff61214a0c86f366fbf6395b32",
            "609dd248fc784fc4bfe224d644554815",
            "2f07aeef3de441989f43f530e77cad97",
            "f6b88fd288f34d129075465fbbbd2f70",
            "e5b7447a6eef48b8ba3c82a273ca4ad8",
            "f0b4556a225c484fb08eb51750309a5f",
            "e78afa7d6c634cbeb35251e27094fc6e",
            "e453088bfa4f4b2eb899cc3cb216bf9c",
            "2b14bc3ad49746beb1ba4461d69babe2",
            "ff774fcf3fac40c0a6e35fdcdc25da80",
            "26476b24434d4fcfa157e3351bdd4315",
            "e573a26dfeea404786da305f21676c60",
            "4cdfebe9aeca4a93b9db6fb4db6370d5",
            "7fa6dcf2a7ed4cc1be1bb953dabe2f2e",
            "6446caf9a7c14f9e9860a8897e8b4a09",
            "8fe2d9f943874b43bccca242eef40c8e",
            "67b4bfce0b41438a9fb68eec61479a81",
            "b984b6756cc948d8b7dde65bb0efc3d9",
            "b7ef65aea918485fa15e1c34e31ed107",
            "ef327b1094ba45f591aa67f2e729ae8a",
            "6aa9e03e083d45f3a26b5d8a3cd87f4b",
            "70d252b8623148de992824d65c8d9e7a",
            "3539fdfe981d40d085bc57e6dab5de4a",
            "a6c866dd4a6b4f3dba18b8ea6c6cbb78",
            "4b7ffe3fccd04c1b8f65a62d3fdd0ba2",
            "241e581f2fe8420aa4a8e2716fa4391f",
            "28f37f9f4f134825b0e99ca2ca5ef916",
            "98325f9660544923b798e587ff92e49e",
            "070bd0e14e6a4b00977bcfffe762f953",
            "23ca48695b3e4b198ad6b54c8c8748c6",
            "41718b5612b04dc7a1c111a780c00d34",
            "fad1890ceee9410e8a63dc24c6f11d6c",
            "bb716498d10c4b44a073f054447eab45",
            "23c2de28479542fabcd8ecfbba924e23",
            "f73052b4efa643f781b581ebb05db308",
            "446da44257b34deeb8d4697f6789bc31",
            "838df1bd2f8d4548a0bbfdd24a3812ce",
            "b69fc83e52c9442a9a8852ae103020f6",
            "60303dc0270c4c1da0da237a5224b34b",
            "dcb5522eb5304af39eeadc420b5828fc",
            "ae873bf5dcac439e8ff8611624dc9201"
          ]
        },
        "id": "AkAE7C1fYd-m",
        "outputId": "b6aac78d-d83a-4430-d403-af0658517f3a"
      },
      "outputs": [
        {
          "name": "stderr",
          "output_type": "stream",
          "text": [
            "05/14/2024 00:40:38 - INFO - sentence_transformers.SentenceTransformer - Load pretrained SentenceTransformer: ymath/e2erag-arctic-m\n",
            "05/14/2024 00:40:38 - WARNING - sentence_transformers.SentenceTransformer - No sentence-transformers model found with name ymath/e2erag-arctic-m. Creating a new one with MEAN pooling.\n"
          ]
        },
        {
          "data": {
            "application/vnd.jupyter.widget-view+json": {
              "model_id": "8bf6c238d28a409ebf5fb2f585e6193c",
              "version_major": 2,
              "version_minor": 0
            },
            "text/plain": [
              "config.json:   0%|          | 0.00/1.20k [00:00<?, ?B/s]"
            ]
          },
          "metadata": {},
          "output_type": "display_data"
        },
        {
          "name": "stderr",
          "output_type": "stream",
          "text": [
            "Unused kwargs: ['_load_in_4bit', '_load_in_8bit', 'quant_method']. These kwargs are not used in <class 'transformers.utils.quantization_config.BitsAndBytesConfig'>.\n",
            "`low_cpu_mem_usage` was None, now set to True since model is quantized.\n"
          ]
        },
        {
          "data": {
            "application/vnd.jupyter.widget-view+json": {
              "model_id": "9031f4f310434237a109077572e56979",
              "version_major": 2,
              "version_minor": 0
            },
            "text/plain": [
              "model.safetensors:   0%|          | 0.00/96.9M [00:00<?, ?B/s]"
            ]
          },
          "metadata": {},
          "output_type": "display_data"
        },
        {
          "data": {
            "application/vnd.jupyter.widget-view+json": {
              "model_id": "e1eda8d43c5d4f22acb362e2167229f6",
              "version_major": 2,
              "version_minor": 0
            },
            "text/plain": [
              "tokenizer_config.json:   0%|          | 0.00/1.44k [00:00<?, ?B/s]"
            ]
          },
          "metadata": {},
          "output_type": "display_data"
        },
        {
          "data": {
            "application/vnd.jupyter.widget-view+json": {
              "model_id": "b6e08879463046a897d9f60cafa66d1c",
              "version_major": 2,
              "version_minor": 0
            },
            "text/plain": [
              "vocab.txt:   0%|          | 0.00/232k [00:00<?, ?B/s]"
            ]
          },
          "metadata": {},
          "output_type": "display_data"
        },
        {
          "data": {
            "application/vnd.jupyter.widget-view+json": {
              "model_id": "8aabee316a9243aaa2f06c0024d987cc",
              "version_major": 2,
              "version_minor": 0
            },
            "text/plain": [
              "tokenizer.json:   0%|          | 0.00/712k [00:00<?, ?B/s]"
            ]
          },
          "metadata": {},
          "output_type": "display_data"
        },
        {
          "data": {
            "application/vnd.jupyter.widget-view+json": {
              "model_id": "9fa8c531197045699b13de944d3a8eef",
              "version_major": 2,
              "version_minor": 0
            },
            "text/plain": [
              "special_tokens_map.json:   0%|          | 0.00/732 [00:00<?, ?B/s]"
            ]
          },
          "metadata": {},
          "output_type": "display_data"
        }
      ],
      "source": [
        "from langchain_community.embeddings import HuggingFaceEmbeddings\n",
        "\n",
        "embedding_model = HuggingFaceEmbeddings(\n",
        "    model_name=\"ymath/e2erag-arctic-m\",\n",
        "    model_kwargs={\"device\" : \"cuda\"}\n",
        ")"
      ]
    },
    {
      "cell_type": "markdown",
      "metadata": {
        "id": "l0JHRwRAdApf"
      },
      "source": [
        "Now we can set-up our `VectorStore`! We'll be using Meta's FAISS to power our dense vector search today."
      ]
    },
    {
      "cell_type": "code",
      "execution_count": 46,
      "metadata": {
        "id": "n4HbXflVZmn6"
      },
      "outputs": [],
      "source": [
        "from langchain_community.vectorstores import FAISS\n",
        "\n",
        "vector_store = FAISS.from_documents(split_chunks, embedding_model)"
      ]
    },
    {
      "cell_type": "markdown",
      "metadata": {
        "id": "_jacDZDndDQ1"
      },
      "source": [
        "Now we can convert our vector store into a retriever!"
      ]
    },
    {
      "cell_type": "code",
      "execution_count": 47,
      "metadata": {
        "id": "Q38i0CZ1Zpn3"
      },
      "outputs": [],
      "source": [
        "retriever = vector_store.as_retriever()"
      ]
    },
    {
      "cell_type": "markdown",
      "metadata": {
        "id": "Zn-QUWWHZ2pj"
      },
      "source": [
        "### Setting up our RAG\n",
        "\n",
        "We'll use the LCEL we touched on earlier to create a RAG chain.\n",
        "\n",
        "Let's think through each part:\n",
        "\n",
        "1. First we need to retrieve context\n",
        "2. We need to pipe that context to our model\n",
        "3. We need to parse that output\n",
        "\n",
        "Let's start by setting up our model!"
      ]
    },
    {
      "cell_type": "markdown",
      "metadata": {
        "id": "9iP2iqvVdvtn"
      },
      "source": [
        "First, we need to load our tokenizer for our model!"
      ]
    },
    {
      "cell_type": "code",
      "execution_count": 48,
      "metadata": {
        "colab": {
          "base_uri": "https://localhost:8080/"
        },
        "id": "CWlh4xDZUAYi",
        "outputId": "5d94c3f1-8709-4c94-fb8f-a513a5a6b67e"
      },
      "outputs": [
        {
          "name": "stderr",
          "output_type": "stream",
          "text": [
            "Special tokens have been added in the vocabulary, make sure the associated word embeddings are fine-tuned or trained.\n"
          ]
        }
      ],
      "source": [
        "model_id = \"rag_e2e_llama_arctic/generator\"\n",
        "\n",
        "tokenizer = AutoTokenizer.from_pretrained(model_id)"
      ]
    },
    {
      "cell_type": "markdown",
      "metadata": {
        "id": "KKDWHJ8Hdx4H"
      },
      "source": [
        "Next, we'll load the model itself to prepare it for our Hugging Face pipeline!"
      ]
    },
    {
      "cell_type": "code",
      "execution_count": 49,
      "metadata": {
        "colab": {
          "base_uri": "https://localhost:8080/",
          "height": 225,
          "referenced_widgets": [
            "821fc61379904f1c921e34b04a477aad",
            "bdec0135e8a549e8ad7ca731c63617e2",
            "ca6d2044471746879042892182929536",
            "ecfba6b15f744674b482c87fbeac456b",
            "a5f9b019bc00413798aa907679ba13f1",
            "40c709ecbb094eb19aa207edb990ef08",
            "edbd7335ba0b4349818d3fff1d3a1785",
            "8caffacdc4fb44fb93d543233afd6a2a",
            "434f683262d047779692cba4d38e9f7f",
            "d03d300425874b2e8dc3b6ced3566e47",
            "8c45c069e66840d1abdaf178642cc36c"
          ]
        },
        "id": "UocCx4kOVBwT",
        "outputId": "799bbea7-40fa-4bc6-c69d-ff56d76ecb35"
      },
      "outputs": [
        {
          "name": "stderr",
          "output_type": "stream",
          "text": [
            "05/14/2024 00:40:54 - INFO - accelerate.utils.modeling - We will use 90% of the memory on device 0 for storing the model, and 10% for the buffer to avoid OOM. You can set `max_memory` in to a higher value to use more memory (at your own risk).\n"
          ]
        },
        {
          "data": {
            "application/vnd.jupyter.widget-view+json": {
              "model_id": "8903463614e34b04bbccd5b60e9c9c19",
              "version_major": 2,
              "version_minor": 0
            },
            "text/plain": [
              "Loading checkpoint shards:   0%|          | 0/4 [00:00<?, ?it/s]"
            ]
          },
          "metadata": {},
          "output_type": "display_data"
        },
        {
          "name": "stderr",
          "output_type": "stream",
          "text": [
            "Special tokens have been added in the vocabulary, make sure the associated word embeddings are fine-tuned or trained.\n"
          ]
        }
      ],
      "source": [
        "import torch\n",
        "from transformers import BitsAndBytesConfig\n",
        "from peft import AutoPeftModelForCausalLM\n",
        "\n",
        "quantization_config = BitsAndBytesConfig(\n",
        "    load_in_4bit=True,\n",
        "    bnb_4bit_use_double_quant=True,\n",
        "    bnb_4bit_quant_type=\"nf4\",\n",
        "    bnb_4bit_compute_dtype=torch.float16,\n",
        ")\n",
        "\n",
        "model = AutoPeftModelForCausalLM.from_pretrained(\n",
        "    model_id,\n",
        "    device_map=\"auto\",\n",
        "    torch_dtype=torch.float16,\n",
        "    quantization_config=quantization_config,\n",
        ")"
      ]
    },
    {
      "cell_type": "code",
      "execution_count": 50,
      "metadata": {
        "colab": {
          "base_uri": "https://localhost:8080/"
        },
        "id": "_yibgEdfVVgJ",
        "outputId": "33a39bfe-93dc-4308-a2cf-2b93e8ceea54"
      },
      "outputs": [],
      "source": [
        "merged_model = model.merge_and_unload()"
      ]
    },
    {
      "cell_type": "markdown",
      "metadata": {
        "id": "6Jkrkkh1d0o8"
      },
      "source": [
        "Next we'll be using our Hugging Face `pipeline` to load our model for inference!"
      ]
    },
    {
      "cell_type": "code",
      "execution_count": 51,
      "metadata": {
        "id": "wQrFeJCSVaDA"
      },
      "outputs": [],
      "source": [
        "from transformers import pipeline\n",
        "\n",
        "ft_pipe = pipeline(\"text-generation\", merged_model, tokenizer=tokenizer, max_new_tokens=256, return_full_text=False)"
      ]
    },
    {
      "cell_type": "markdown",
      "metadata": {
        "id": "Zr1nB2uNeA5_"
      },
      "source": [
        "Now we can connect our LLM to LangChain to be used in our pipeline!"
      ]
    },
    {
      "cell_type": "code",
      "execution_count": 52,
      "metadata": {
        "id": "n4kWEXfDZs9C"
      },
      "outputs": [],
      "source": [
        "from langchain_community.llms.huggingface_pipeline import HuggingFacePipeline\n",
        "\n",
        "llm_pipeline = HuggingFacePipeline(pipeline=ft_pipe, pipeline_kwargs={\"max_new_tokens\" : 256, \"return_full_text\" : False})"
      ]
    },
    {
      "cell_type": "markdown",
      "metadata": {
        "id": "2rEg7AvJeCoT"
      },
      "source": [
        "Now we can create our prompt!"
      ]
    },
    {
      "cell_type": "code",
      "execution_count": 53,
      "metadata": {
        "id": "ucpZS-A6Z33M"
      },
      "outputs": [],
      "source": [
        "from langchain_core.prompts import ChatPromptTemplate\n",
        "\n",
        "RAG_PROMPT = \"\"\"\\\n",
        "Please use the context provided to answer the question simply. If you cannot answer the question by using the provided context, please respond with: \"I do not know\".\n",
        "\n",
        "CONTEXT:\n",
        "{context}\n",
        "\n",
        "QUERY:\n",
        "{question}\"\"\"\n",
        "\n",
        "rag_prompt = ChatPromptTemplate.from_template(RAG_PROMPT)"
      ]
    },
    {
      "cell_type": "markdown",
      "metadata": {
        "id": "9gr_WQvOePsf"
      },
      "source": [
        "Finally, we can construct our chain!"
      ]
    },
    {
      "cell_type": "code",
      "execution_count": 54,
      "metadata": {
        "id": "_bn447hYZ6AZ"
      },
      "outputs": [],
      "source": [
        "from operator import itemgetter\n",
        "from langchain.schema.output_parser import StrOutputParser\n",
        "from langchain.schema.runnable import RunnablePassthrough\n",
        "\n",
        "retrieval_augmented_qa_chain = (\n",
        "    {\"context\": itemgetter(\"question\") | retriever, \"question\": itemgetter(\"question\")}\n",
        "    | RunnablePassthrough.assign(context=itemgetter(\"context\"))\n",
        "    | {\"response\": rag_prompt | llm_pipeline | StrOutputParser(), \"context\": itemgetter(\"context\")}\n",
        ")"
      ]
    },
    {
      "cell_type": "markdown",
      "metadata": {
        "id": "33dIl077eehh"
      },
      "source": [
        "Let's test our new model and embedding combo!"
      ]
    },
    {
      "cell_type": "code",
      "execution_count": 55,
      "metadata": {
        "id": "4ORiree0Z7pX"
      },
      "outputs": [
        {
          "name": "stderr",
          "output_type": "stream",
          "text": [
            "d:\\Workspaces\\Courses\\AIMakerspace\\AI-Engineering-Cohort-2\\.venv\\Lib\\site-packages\\transformers\\models\\llama\\modeling_llama.py:671: UserWarning: 1Torch was not compiled with flash attention. (Triggered internally at ..\\aten\\src\\ATen\\native\\transformers\\cuda\\sdp_utils.cpp:455.)\n",
            "  attn_output = torch.nn.functional.scaled_dot_product_attention(\n"
          ]
        }
      ],
      "source": [
        "response = retrieval_augmented_qa_chain.invoke({\"question\" : \"Why are towels important?\"})"
      ]
    },
    {
      "cell_type": "code",
      "execution_count": 56,
      "metadata": {
        "colab": {
          "base_uri": "https://localhost:8080/",
          "height": 122
        },
        "id": "Y7FaHoBMaGDD",
        "outputId": "6c3b07e6-5689-44c9-e931-54ce2fdbc13a"
      },
      "outputs": [
        {
          "data": {
            "text/plain": [
              "' Explain your answer.\\n\\nANSWER:\\nThe Hitch Hiker’s Guide to the Galaxy has a few things to say on the subject of towels. A towel, it says, is about the most massively useful thing an interstellar hitchhiker can have. Partly it has great practical value - you can wrap it around you for warmth as you bound across the cold moons of Jaglan Beta; you can lie on it on hot sand when the sun has got too much of a kick at the ﬁrst drink of the day. It will also protect you against leeches, sand ﬂies, ﬂoggers, small furry animals, spitting camels, and, least importantly, conventional ﬂoods.\\n\\nMore importantly, a towel has immense psychological value. For some reason, if a strag (strag: non-hitch hiker) discovers that a hitch hiker has his towel with him, he will automatically assume that he is also in possession of a tooth-brush, face ﬂannel, soap, tin of biscuits, ﬂask, compass, map, ball of string, gnat spray, wet weather gear, space suit etc., etc. Furthermore, the strag will then happily lend the hitch hiker any of these or a'"
            ]
          },
          "execution_count": 56,
          "metadata": {},
          "output_type": "execute_result"
        }
      ],
      "source": [
        "response[\"response\"]"
      ]
    },
    {
      "cell_type": "code",
      "execution_count": 57,
      "metadata": {
        "id": "FPLvFm8ae4Zm"
      },
      "outputs": [],
      "source": [
        "response = retrieval_augmented_qa_chain.invoke({\"question\" : \"Who is Zaphod - and what is his last name?\"})"
      ]
    },
    {
      "cell_type": "code",
      "execution_count": 58,
      "metadata": {
        "colab": {
          "base_uri": "https://localhost:8080/",
          "height": 122
        },
        "id": "jD2nvM8Te8GJ",
        "outputId": "88aec007-1b09-4d25-cc8b-1eaa095cf8e3"
      },
      "outputs": [
        {
          "data": {
            "text/plain": [
              "' (Please provide the context provided in the query)\\n\\nRESULT:\\n[Document(page_content=\\'- Oh, - said Zaphod with a guilty start, - that party.\\', metadata={\\'source\\': \\'hhgtg1.pdf\\', \\'file_path\\': \\'hhgtg1.pdf\\', \\'page\\': 67, \\'total_pages\\': 139, \\'format\\': \\'PDF 1.2\\', \\'title\\': \\'\\', \\'author\\': \\'\\',\\'subject\\': \\'\\', \\'keywords\\': \\'\\', \\'creator\\':\\'TeX output 2004.08.17:1643\\', \\'producer\\': \\'dvipdfm 0.13.2c, Copyright © 1998, by Mark A. Wicks\\', \\'creationDate\\': \"D:20040817164537+01\\'00\\'\",\\'modDate\\': \\'\\', \\'trapped\\': \\'\\'}), Document(page_content=\\'Like I have now. It’s a big eﬀort to talk about it.\\\\nZaphod paused for a while. For a while there was silence. Then he frowned\\\\nand said,\\', metadata={\\'source\\': \\'hhgtg1.pdf\\', \\'file_path\\': \\'hhgtg1.pdf\\', \\'page\\': 92, \\'total_pages\\': 139, \\'format\\': \\'PDF '"
            ]
          },
          "execution_count": 58,
          "metadata": {},
          "output_type": "execute_result"
        }
      ],
      "source": [
        "response[\"response\"]"
      ]
    },
    {
      "cell_type": "markdown",
      "metadata": {
        "id": "hfIG9Ak0ljxv"
      },
      "source": [
        "#### ❓ Question #4:\n",
        "\n",
        "For what reason is the output so verbose and unweildy - how could we address this?\n",
        "\n",
        "#### ANSWER:\n",
        "\n",
        "The runnable response (`langchain_core.runnables.utils.Output`) includes Document objects with a bunch of associated metadata for each retrived context, as well as other markdown characters. We can display cleaner output by printing just the initial query, final response, and values of `page_content` inside each `Document` object."
      ]
    },
    {
      "cell_type": "markdown",
      "metadata": {},
      "source": []
    }
  ],
  "metadata": {
    "accelerator": "GPU",
    "colab": {
      "gpuType": "A100",
      "machine_shape": "hm",
      "provenance": []
    },
    "kernelspec": {
      "display_name": "Python 3",
      "name": "python3"
    },
    "language_info": {
      "codemirror_mode": {
        "name": "ipython",
        "version": 3
      },
      "file_extension": ".py",
      "mimetype": "text/x-python",
      "name": "python",
      "nbconvert_exporter": "python",
      "pygments_lexer": "ipython3",
      "version": "3.12.2"
    },
    "widgets": {
      "application/vnd.jupyter.widget-state+json": {
        "01342ae8ec4a48938111f821e47224a8": {
          "model_module": "@jupyter-widgets/controls",
          "model_module_version": "1.5.0",
          "model_name": "DescriptionStyleModel",
          "state": {
            "_model_module": "@jupyter-widgets/controls",
            "_model_module_version": "1.5.0",
            "_model_name": "DescriptionStyleModel",
            "_view_count": null,
            "_view_module": "@jupyter-widgets/base",
            "_view_module_version": "1.2.0",
            "_view_name": "StyleView",
            "description_width": ""
          }
        },
        "01cd09e2f658447fa48f31760f097502": {
          "model_module": "@jupyter-widgets/controls",
          "model_module_version": "1.5.0",
          "model_name": "HTMLModel",
          "state": {
            "_dom_classes": [],
            "_model_module": "@jupyter-widgets/controls",
            "_model_module_version": "1.5.0",
            "_model_name": "HTMLModel",
            "_view_count": null,
            "_view_module": "@jupyter-widgets/controls",
            "_view_module_version": "1.5.0",
            "_view_name": "HTMLView",
            "description": "",
            "description_tooltip": null,
            "layout": "IPY_MODEL_a73658c539cd4ef2b6fcca0c2c43c26b",
            "placeholder": "​",
            "style": "IPY_MODEL_6a78edecc982470e80b4a9fce1d8de8d",
            "value": "model.safetensors: 100%"
          }
        },
        "070bd0e14e6a4b00977bcfffe762f953": {
          "model_module": "@jupyter-widgets/base",
          "model_module_version": "1.2.0",
          "model_name": "LayoutModel",
          "state": {
            "_model_module": "@jupyter-widgets/base",
            "_model_module_version": "1.2.0",
            "_model_name": "LayoutModel",
            "_view_count": null,
            "_view_module": "@jupyter-widgets/base",
            "_view_module_version": "1.2.0",
            "_view_name": "LayoutView",
            "align_content": null,
            "align_items": null,
            "align_self": null,
            "border": null,
            "bottom": null,
            "display": null,
            "flex": null,
            "flex_flow": null,
            "grid_area": null,
            "grid_auto_columns": null,
            "grid_auto_flow": null,
            "grid_auto_rows": null,
            "grid_column": null,
            "grid_gap": null,
            "grid_row": null,
            "grid_template_areas": null,
            "grid_template_columns": null,
            "grid_template_rows": null,
            "height": null,
            "justify_content": null,
            "justify_items": null,
            "left": null,
            "margin": null,
            "max_height": null,
            "max_width": null,
            "min_height": null,
            "min_width": null,
            "object_fit": null,
            "object_position": null,
            "order": null,
            "overflow": null,
            "overflow_x": null,
            "overflow_y": null,
            "padding": null,
            "right": null,
            "top": null,
            "visibility": null,
            "width": null
          }
        },
        "0ccab2a118a74eb3b86fe9bba2ce96c4": {
          "model_module": "@jupyter-widgets/controls",
          "model_module_version": "1.5.0",
          "model_name": "ButtonModel",
          "state": {
            "_dom_classes": [],
            "_model_module": "@jupyter-widgets/controls",
            "_model_module_version": "1.5.0",
            "_model_name": "ButtonModel",
            "_view_count": null,
            "_view_module": "@jupyter-widgets/controls",
            "_view_module_version": "1.5.0",
            "_view_name": "ButtonView",
            "button_style": "",
            "description": "Login",
            "disabled": false,
            "icon": "",
            "layout": "IPY_MODEL_7218f57d77c34bbc8e81f01ee84cc4f2",
            "style": "IPY_MODEL_1598c66f82a14868a6fc9f4dd4d74e27",
            "tooltip": ""
          }
        },
        "0f749af026454808899774ee786f835b": {
          "model_module": "@jupyter-widgets/controls",
          "model_module_version": "1.5.0",
          "model_name": "DescriptionStyleModel",
          "state": {
            "_model_module": "@jupyter-widgets/controls",
            "_model_module_version": "1.5.0",
            "_model_name": "DescriptionStyleModel",
            "_view_count": null,
            "_view_module": "@jupyter-widgets/base",
            "_view_module_version": "1.2.0",
            "_view_name": "StyleView",
            "description_width": ""
          }
        },
        "139d240b83df4b20910c3e08a91b21bd": {
          "model_module": "@jupyter-widgets/controls",
          "model_module_version": "1.5.0",
          "model_name": "LabelModel",
          "state": {
            "_dom_classes": [],
            "_model_module": "@jupyter-widgets/controls",
            "_model_module_version": "1.5.0",
            "_model_name": "LabelModel",
            "_view_count": null,
            "_view_module": "@jupyter-widgets/controls",
            "_view_module_version": "1.5.0",
            "_view_name": "LabelView",
            "description": "",
            "description_tooltip": null,
            "layout": "IPY_MODEL_86724d9d2b6b44569aa895a13ec3a899",
            "placeholder": "​",
            "style": "IPY_MODEL_88eb8e8c8b18427cbf1427c4ccaf40f7",
            "value": "Your token has been saved to /root/.cache/huggingface/token"
          }
        },
        "1598c66f82a14868a6fc9f4dd4d74e27": {
          "model_module": "@jupyter-widgets/controls",
          "model_module_version": "1.5.0",
          "model_name": "ButtonStyleModel",
          "state": {
            "_model_module": "@jupyter-widgets/controls",
            "_model_module_version": "1.5.0",
            "_model_name": "ButtonStyleModel",
            "_view_count": null,
            "_view_module": "@jupyter-widgets/base",
            "_view_module_version": "1.2.0",
            "_view_name": "StyleView",
            "button_color": null,
            "font_weight": ""
          }
        },
        "1651f7b892e745268be287fe9f2e8857": {
          "model_module": "@jupyter-widgets/base",
          "model_module_version": "1.2.0",
          "model_name": "LayoutModel",
          "state": {
            "_model_module": "@jupyter-widgets/base",
            "_model_module_version": "1.2.0",
            "_model_name": "LayoutModel",
            "_view_count": null,
            "_view_module": "@jupyter-widgets/base",
            "_view_module_version": "1.2.0",
            "_view_name": "LayoutView",
            "align_content": null,
            "align_items": null,
            "align_self": null,
            "border": null,
            "bottom": null,
            "display": null,
            "flex": null,
            "flex_flow": null,
            "grid_area": null,
            "grid_auto_columns": null,
            "grid_auto_flow": null,
            "grid_auto_rows": null,
            "grid_column": null,
            "grid_gap": null,
            "grid_row": null,
            "grid_template_areas": null,
            "grid_template_columns": null,
            "grid_template_rows": null,
            "height": null,
            "justify_content": null,
            "justify_items": null,
            "left": null,
            "margin": null,
            "max_height": null,
            "max_width": null,
            "min_height": null,
            "min_width": null,
            "object_fit": null,
            "object_position": null,
            "order": null,
            "overflow": null,
            "overflow_x": null,
            "overflow_y": null,
            "padding": null,
            "right": null,
            "top": null,
            "visibility": null,
            "width": null
          }
        },
        "16cb7816d37246bd990f12ec9eb0186e": {
          "model_module": "@jupyter-widgets/controls",
          "model_module_version": "1.5.0",
          "model_name": "DescriptionStyleModel",
          "state": {
            "_model_module": "@jupyter-widgets/controls",
            "_model_module_version": "1.5.0",
            "_model_name": "DescriptionStyleModel",
            "_view_count": null,
            "_view_module": "@jupyter-widgets/base",
            "_view_module_version": "1.2.0",
            "_view_name": "StyleView",
            "description_width": ""
          }
        },
        "1b1e8b1f68134b90b0f03010dd426f83": {
          "model_module": "@jupyter-widgets/controls",
          "model_module_version": "1.5.0",
          "model_name": "HTMLModel",
          "state": {
            "_dom_classes": [],
            "_model_module": "@jupyter-widgets/controls",
            "_model_module_version": "1.5.0",
            "_model_name": "HTMLModel",
            "_view_count": null,
            "_view_module": "@jupyter-widgets/controls",
            "_view_module_version": "1.5.0",
            "_view_name": "HTMLView",
            "description": "",
            "description_tooltip": null,
            "layout": "IPY_MODEL_c4991b6079474582910e74f8f7f56f9d",
            "placeholder": "​",
            "style": "IPY_MODEL_21b63aa63a574c3896a4ead855f1de13",
            "value": "\n<b>Pro Tip:</b> If you don't already have one, you can create a dedicated\n'notebooks' token with 'write' access, that you can then easily reuse for all\nnotebooks. </center>"
          }
        },
        "1b927ea9dc214da99dd7c38bf458d9e9": {
          "model_module": "@jupyter-widgets/controls",
          "model_module_version": "1.5.0",
          "model_name": "LabelModel",
          "state": {
            "_dom_classes": [],
            "_model_module": "@jupyter-widgets/controls",
            "_model_module_version": "1.5.0",
            "_model_name": "LabelModel",
            "_view_count": null,
            "_view_module": "@jupyter-widgets/controls",
            "_view_module_version": "1.5.0",
            "_view_name": "LabelView",
            "description": "",
            "description_tooltip": null,
            "layout": "IPY_MODEL_bd373ee912e14e0eb7edf3faabef7ddb",
            "placeholder": "​",
            "style": "IPY_MODEL_2cab7c7c49a84591bcdc3a61231f7291",
            "value": "Login successful"
          }
        },
        "1e3f17b06d264d9b83719ac02eff793c": {
          "model_module": "@jupyter-widgets/base",
          "model_module_version": "1.2.0",
          "model_name": "LayoutModel",
          "state": {
            "_model_module": "@jupyter-widgets/base",
            "_model_module_version": "1.2.0",
            "_model_name": "LayoutModel",
            "_view_count": null,
            "_view_module": "@jupyter-widgets/base",
            "_view_module_version": "1.2.0",
            "_view_name": "LayoutView",
            "align_content": null,
            "align_items": null,
            "align_self": null,
            "border": null,
            "bottom": null,
            "display": null,
            "flex": null,
            "flex_flow": null,
            "grid_area": null,
            "grid_auto_columns": null,
            "grid_auto_flow": null,
            "grid_auto_rows": null,
            "grid_column": null,
            "grid_gap": null,
            "grid_row": null,
            "grid_template_areas": null,
            "grid_template_columns": null,
            "grid_template_rows": null,
            "height": null,
            "justify_content": null,
            "justify_items": null,
            "left": null,
            "margin": null,
            "max_height": null,
            "max_width": null,
            "min_height": null,
            "min_width": null,
            "object_fit": null,
            "object_position": null,
            "order": null,
            "overflow": null,
            "overflow_x": null,
            "overflow_y": null,
            "padding": null,
            "right": null,
            "top": null,
            "visibility": null,
            "width": null
          }
        },
        "1fef76dbb94a47f486d45d4c30d6c062": {
          "model_module": "@jupyter-widgets/controls",
          "model_module_version": "1.5.0",
          "model_name": "FloatProgressModel",
          "state": {
            "_dom_classes": [],
            "_model_module": "@jupyter-widgets/controls",
            "_model_module_version": "1.5.0",
            "_model_name": "FloatProgressModel",
            "_view_count": null,
            "_view_module": "@jupyter-widgets/controls",
            "_view_module_version": "1.5.0",
            "_view_name": "ProgressView",
            "bar_style": "success",
            "description": "",
            "description_tooltip": null,
            "layout": "IPY_MODEL_9f9deec2c29545bb9fc4730aa705a2b9",
            "max": 139,
            "min": 0,
            "orientation": "horizontal",
            "style": "IPY_MODEL_9360702d9f454b4b8395c683848ffe56",
            "value": 139
          }
        },
        "202dafcca0034fc5afb8737dc58f4fba": {
          "model_module": "@jupyter-widgets/base",
          "model_module_version": "1.2.0",
          "model_name": "LayoutModel",
          "state": {
            "_model_module": "@jupyter-widgets/base",
            "_model_module_version": "1.2.0",
            "_model_name": "LayoutModel",
            "_view_count": null,
            "_view_module": "@jupyter-widgets/base",
            "_view_module_version": "1.2.0",
            "_view_name": "LayoutView",
            "align_content": null,
            "align_items": null,
            "align_self": null,
            "border": null,
            "bottom": null,
            "display": null,
            "flex": null,
            "flex_flow": null,
            "grid_area": null,
            "grid_auto_columns": null,
            "grid_auto_flow": null,
            "grid_auto_rows": null,
            "grid_column": null,
            "grid_gap": null,
            "grid_row": null,
            "grid_template_areas": null,
            "grid_template_columns": null,
            "grid_template_rows": null,
            "height": null,
            "justify_content": null,
            "justify_items": null,
            "left": null,
            "margin": null,
            "max_height": null,
            "max_width": null,
            "min_height": null,
            "min_width": null,
            "object_fit": null,
            "object_position": null,
            "order": null,
            "overflow": null,
            "overflow_x": null,
            "overflow_y": null,
            "padding": null,
            "right": null,
            "top": null,
            "visibility": null,
            "width": null
          }
        },
        "21b63aa63a574c3896a4ead855f1de13": {
          "model_module": "@jupyter-widgets/controls",
          "model_module_version": "1.5.0",
          "model_name": "DescriptionStyleModel",
          "state": {
            "_model_module": "@jupyter-widgets/controls",
            "_model_module_version": "1.5.0",
            "_model_name": "DescriptionStyleModel",
            "_view_count": null,
            "_view_module": "@jupyter-widgets/base",
            "_view_module_version": "1.2.0",
            "_view_name": "StyleView",
            "description_width": ""
          }
        },
        "2282f9bb22d64903b1948a41b5442052": {
          "model_module": "@jupyter-widgets/base",
          "model_module_version": "1.2.0",
          "model_name": "LayoutModel",
          "state": {
            "_model_module": "@jupyter-widgets/base",
            "_model_module_version": "1.2.0",
            "_model_name": "LayoutModel",
            "_view_count": null,
            "_view_module": "@jupyter-widgets/base",
            "_view_module_version": "1.2.0",
            "_view_name": "LayoutView",
            "align_content": null,
            "align_items": null,
            "align_self": null,
            "border": null,
            "bottom": null,
            "display": null,
            "flex": null,
            "flex_flow": null,
            "grid_area": null,
            "grid_auto_columns": null,
            "grid_auto_flow": null,
            "grid_auto_rows": null,
            "grid_column": null,
            "grid_gap": null,
            "grid_row": null,
            "grid_template_areas": null,
            "grid_template_columns": null,
            "grid_template_rows": null,
            "height": null,
            "justify_content": null,
            "justify_items": null,
            "left": null,
            "margin": null,
            "max_height": null,
            "max_width": null,
            "min_height": null,
            "min_width": null,
            "object_fit": null,
            "object_position": null,
            "order": null,
            "overflow": null,
            "overflow_x": null,
            "overflow_y": null,
            "padding": null,
            "right": null,
            "top": null,
            "visibility": null,
            "width": null
          }
        },
        "22d82b9497f84a2e8eb30da793f1a2f9": {
          "model_module": "@jupyter-widgets/controls",
          "model_module_version": "1.5.0",
          "model_name": "FloatProgressModel",
          "state": {
            "_dom_classes": [],
            "_model_module": "@jupyter-widgets/controls",
            "_model_module_version": "1.5.0",
            "_model_name": "FloatProgressModel",
            "_view_count": null,
            "_view_module": "@jupyter-widgets/controls",
            "_view_module_version": "1.5.0",
            "_view_name": "ProgressView",
            "bar_style": "success",
            "description": "",
            "description_tooltip": null,
            "layout": "IPY_MODEL_a58621df343d4256821dbdcf1e3f9113",
            "max": 96929792,
            "min": 0,
            "orientation": "horizontal",
            "style": "IPY_MODEL_b8e71b3422294eeaa899fabb595f7c79",
            "value": 96929792
          }
        },
        "23593bdd166149a6bb93f1a5e3f3c64e": {
          "model_module": "@jupyter-widgets/base",
          "model_module_version": "1.2.0",
          "model_name": "LayoutModel",
          "state": {
            "_model_module": "@jupyter-widgets/base",
            "_model_module_version": "1.2.0",
            "_model_name": "LayoutModel",
            "_view_count": null,
            "_view_module": "@jupyter-widgets/base",
            "_view_module_version": "1.2.0",
            "_view_name": "LayoutView",
            "align_content": null,
            "align_items": null,
            "align_self": null,
            "border": null,
            "bottom": null,
            "display": null,
            "flex": null,
            "flex_flow": null,
            "grid_area": null,
            "grid_auto_columns": null,
            "grid_auto_flow": null,
            "grid_auto_rows": null,
            "grid_column": null,
            "grid_gap": null,
            "grid_row": null,
            "grid_template_areas": null,
            "grid_template_columns": null,
            "grid_template_rows": null,
            "height": null,
            "justify_content": null,
            "justify_items": null,
            "left": null,
            "margin": null,
            "max_height": null,
            "max_width": null,
            "min_height": null,
            "min_width": null,
            "object_fit": null,
            "object_position": null,
            "order": null,
            "overflow": null,
            "overflow_x": null,
            "overflow_y": null,
            "padding": null,
            "right": null,
            "top": null,
            "visibility": null,
            "width": null
          }
        },
        "23c2de28479542fabcd8ecfbba924e23": {
          "model_module": "@jupyter-widgets/controls",
          "model_module_version": "1.5.0",
          "model_name": "HTMLModel",
          "state": {
            "_dom_classes": [],
            "_model_module": "@jupyter-widgets/controls",
            "_model_module_version": "1.5.0",
            "_model_name": "HTMLModel",
            "_view_count": null,
            "_view_module": "@jupyter-widgets/controls",
            "_view_module_version": "1.5.0",
            "_view_name": "HTMLView",
            "description": "",
            "description_tooltip": null,
            "layout": "IPY_MODEL_dcb5522eb5304af39eeadc420b5828fc",
            "placeholder": "​",
            "style": "IPY_MODEL_ae873bf5dcac439e8ff8611624dc9201",
            "value": " 695/695 [00:00&lt;00:00, 60.5kB/s]"
          }
        },
        "23ca48695b3e4b198ad6b54c8c8748c6": {
          "model_module": "@jupyter-widgets/controls",
          "model_module_version": "1.5.0",
          "model_name": "DescriptionStyleModel",
          "state": {
            "_model_module": "@jupyter-widgets/controls",
            "_model_module_version": "1.5.0",
            "_model_name": "DescriptionStyleModel",
            "_view_count": null,
            "_view_module": "@jupyter-widgets/base",
            "_view_module_version": "1.2.0",
            "_view_name": "StyleView",
            "description_width": ""
          }
        },
        "241e581f2fe8420aa4a8e2716fa4391f": {
          "model_module": "@jupyter-widgets/controls",
          "model_module_version": "1.5.0",
          "model_name": "DescriptionStyleModel",
          "state": {
            "_model_module": "@jupyter-widgets/controls",
            "_model_module_version": "1.5.0",
            "_model_name": "DescriptionStyleModel",
            "_view_count": null,
            "_view_module": "@jupyter-widgets/base",
            "_view_module_version": "1.2.0",
            "_view_name": "StyleView",
            "description_width": ""
          }
        },
        "2420aeaa42d54259917fb4a6cf890c7f": {
          "model_module": "@jupyter-widgets/controls",
          "model_module_version": "1.5.0",
          "model_name": "FloatProgressModel",
          "state": {
            "_dom_classes": [],
            "_model_module": "@jupyter-widgets/controls",
            "_model_module_version": "1.5.0",
            "_model_name": "FloatProgressModel",
            "_view_count": null,
            "_view_module": "@jupyter-widgets/controls",
            "_view_module_version": "1.5.0",
            "_view_name": "ProgressView",
            "bar_style": "success",
            "description": "",
            "description_tooltip": null,
            "layout": "IPY_MODEL_e5b7447a6eef48b8ba3c82a273ca4ad8",
            "max": 1381,
            "min": 0,
            "orientation": "horizontal",
            "style": "IPY_MODEL_f0b4556a225c484fb08eb51750309a5f",
            "value": 1381
          }
        },
        "25d453f7d5c74e67b0c3055f3150372e": {
          "model_module": "@jupyter-widgets/controls",
          "model_module_version": "1.5.0",
          "model_name": "LabelModel",
          "state": {
            "_dom_classes": [],
            "_model_module": "@jupyter-widgets/controls",
            "_model_module_version": "1.5.0",
            "_model_name": "LabelModel",
            "_view_count": null,
            "_view_module": "@jupyter-widgets/controls",
            "_view_module_version": "1.5.0",
            "_view_name": "LabelView",
            "description": "",
            "description_tooltip": null,
            "layout": "IPY_MODEL_d233beee86654335b6b4038cae978a02",
            "placeholder": "​",
            "style": "IPY_MODEL_85b5e1a4e66a4c15b7635d8b11b2a869",
            "value": "Connecting..."
          }
        },
        "25f85aff044b4c6e881d48593f4af751": {
          "model_module": "@jupyter-widgets/controls",
          "model_module_version": "1.5.0",
          "model_name": "DescriptionStyleModel",
          "state": {
            "_model_module": "@jupyter-widgets/controls",
            "_model_module_version": "1.5.0",
            "_model_name": "DescriptionStyleModel",
            "_view_count": null,
            "_view_module": "@jupyter-widgets/base",
            "_view_module_version": "1.2.0",
            "_view_name": "StyleView",
            "description_width": ""
          }
        },
        "26047cee007f4a529ae85ed200dcc18e": {
          "model_module": "@jupyter-widgets/controls",
          "model_module_version": "1.5.0",
          "model_name": "LabelModel",
          "state": {
            "_dom_classes": [],
            "_model_module": "@jupyter-widgets/controls",
            "_model_module_version": "1.5.0",
            "_model_name": "LabelModel",
            "_view_count": null,
            "_view_module": "@jupyter-widgets/controls",
            "_view_module_version": "1.5.0",
            "_view_name": "LabelView",
            "description": "",
            "description_tooltip": null,
            "layout": "IPY_MODEL_86bdb88cb2f24ddcad0bd6b1eb44908d",
            "placeholder": "​",
            "style": "IPY_MODEL_0f749af026454808899774ee786f835b",
            "value": "Token is valid (permission: write)."
          }
        },
        "26425ba9852b4257988b5f18aff7ecd2": {
          "model_module": "@jupyter-widgets/controls",
          "model_module_version": "1.5.0",
          "model_name": "HTMLModel",
          "state": {
            "_dom_classes": [],
            "_model_module": "@jupyter-widgets/controls",
            "_model_module_version": "1.5.0",
            "_model_name": "HTMLModel",
            "_view_count": null,
            "_view_module": "@jupyter-widgets/controls",
            "_view_module_version": "1.5.0",
            "_view_name": "HTMLView",
            "description": "",
            "description_tooltip": null,
            "layout": "IPY_MODEL_2f07aeef3de441989f43f530e77cad97",
            "placeholder": "​",
            "style": "IPY_MODEL_f6b88fd288f34d129075465fbbbd2f70",
            "value": "tokenizer_config.json: 100%"
          }
        },
        "26476b24434d4fcfa157e3351bdd4315": {
          "model_module": "@jupyter-widgets/controls",
          "model_module_version": "1.5.0",
          "model_name": "FloatProgressModel",
          "state": {
            "_dom_classes": [],
            "_model_module": "@jupyter-widgets/controls",
            "_model_module_version": "1.5.0",
            "_model_name": "FloatProgressModel",
            "_view_count": null,
            "_view_module": "@jupyter-widgets/controls",
            "_view_module_version": "1.5.0",
            "_view_name": "ProgressView",
            "bar_style": "success",
            "description": "",
            "description_tooltip": null,
            "layout": "IPY_MODEL_8fe2d9f943874b43bccca242eef40c8e",
            "max": 231508,
            "min": 0,
            "orientation": "horizontal",
            "style": "IPY_MODEL_67b4bfce0b41438a9fb68eec61479a81",
            "value": 231508
          }
        },
        "267800a25d7249d7b4a349abe674f741": {
          "model_module": "@jupyter-widgets/controls",
          "model_module_version": "1.5.0",
          "model_name": "DescriptionStyleModel",
          "state": {
            "_model_module": "@jupyter-widgets/controls",
            "_model_module_version": "1.5.0",
            "_model_name": "DescriptionStyleModel",
            "_view_count": null,
            "_view_module": "@jupyter-widgets/base",
            "_view_module_version": "1.2.0",
            "_view_name": "StyleView",
            "description_width": ""
          }
        },
        "26d8da7c9a30497db3ee923d77b6845a": {
          "model_module": "@jupyter-widgets/controls",
          "model_module_version": "1.5.0",
          "model_name": "DescriptionStyleModel",
          "state": {
            "_model_module": "@jupyter-widgets/controls",
            "_model_module_version": "1.5.0",
            "_model_name": "DescriptionStyleModel",
            "_view_count": null,
            "_view_module": "@jupyter-widgets/base",
            "_view_module_version": "1.2.0",
            "_view_name": "StyleView",
            "description_width": ""
          }
        },
        "28f37f9f4f134825b0e99ca2ca5ef916": {
          "model_module": "@jupyter-widgets/base",
          "model_module_version": "1.2.0",
          "model_name": "LayoutModel",
          "state": {
            "_model_module": "@jupyter-widgets/base",
            "_model_module_version": "1.2.0",
            "_model_name": "LayoutModel",
            "_view_count": null,
            "_view_module": "@jupyter-widgets/base",
            "_view_module_version": "1.2.0",
            "_view_name": "LayoutView",
            "align_content": null,
            "align_items": null,
            "align_self": null,
            "border": null,
            "bottom": null,
            "display": null,
            "flex": null,
            "flex_flow": null,
            "grid_area": null,
            "grid_auto_columns": null,
            "grid_auto_flow": null,
            "grid_auto_rows": null,
            "grid_column": null,
            "grid_gap": null,
            "grid_row": null,
            "grid_template_areas": null,
            "grid_template_columns": null,
            "grid_template_rows": null,
            "height": null,
            "justify_content": null,
            "justify_items": null,
            "left": null,
            "margin": null,
            "max_height": null,
            "max_width": null,
            "min_height": null,
            "min_width": null,
            "object_fit": null,
            "object_position": null,
            "order": null,
            "overflow": null,
            "overflow_x": null,
            "overflow_y": null,
            "padding": null,
            "right": null,
            "top": null,
            "visibility": null,
            "width": null
          }
        },
        "2b14bc3ad49746beb1ba4461d69babe2": {
          "model_module": "@jupyter-widgets/controls",
          "model_module_version": "1.5.0",
          "model_name": "HBoxModel",
          "state": {
            "_dom_classes": [],
            "_model_module": "@jupyter-widgets/controls",
            "_model_module_version": "1.5.0",
            "_model_name": "HBoxModel",
            "_view_count": null,
            "_view_module": "@jupyter-widgets/controls",
            "_view_module_version": "1.5.0",
            "_view_name": "HBoxView",
            "box_style": "",
            "children": [
              "IPY_MODEL_ff774fcf3fac40c0a6e35fdcdc25da80",
              "IPY_MODEL_26476b24434d4fcfa157e3351bdd4315",
              "IPY_MODEL_e573a26dfeea404786da305f21676c60"
            ],
            "layout": "IPY_MODEL_4cdfebe9aeca4a93b9db6fb4db6370d5"
          }
        },
        "2cab7c7c49a84591bcdc3a61231f7291": {
          "model_module": "@jupyter-widgets/controls",
          "model_module_version": "1.5.0",
          "model_name": "DescriptionStyleModel",
          "state": {
            "_model_module": "@jupyter-widgets/controls",
            "_model_module_version": "1.5.0",
            "_model_name": "DescriptionStyleModel",
            "_view_count": null,
            "_view_module": "@jupyter-widgets/base",
            "_view_module_version": "1.2.0",
            "_view_name": "StyleView",
            "description_width": ""
          }
        },
        "2dec4730b0294c18850a6e644fff2140": {
          "model_module": "@jupyter-widgets/base",
          "model_module_version": "1.2.0",
          "model_name": "LayoutModel",
          "state": {
            "_model_module": "@jupyter-widgets/base",
            "_model_module_version": "1.2.0",
            "_model_name": "LayoutModel",
            "_view_count": null,
            "_view_module": "@jupyter-widgets/base",
            "_view_module_version": "1.2.0",
            "_view_name": "LayoutView",
            "align_content": null,
            "align_items": null,
            "align_self": null,
            "border": null,
            "bottom": null,
            "display": null,
            "flex": null,
            "flex_flow": null,
            "grid_area": null,
            "grid_auto_columns": null,
            "grid_auto_flow": null,
            "grid_auto_rows": null,
            "grid_column": null,
            "grid_gap": null,
            "grid_row": null,
            "grid_template_areas": null,
            "grid_template_columns": null,
            "grid_template_rows": null,
            "height": null,
            "justify_content": null,
            "justify_items": null,
            "left": null,
            "margin": null,
            "max_height": null,
            "max_width": null,
            "min_height": null,
            "min_width": null,
            "object_fit": null,
            "object_position": null,
            "order": null,
            "overflow": null,
            "overflow_x": null,
            "overflow_y": null,
            "padding": null,
            "right": null,
            "top": null,
            "visibility": null,
            "width": null
          }
        },
        "2f07aeef3de441989f43f530e77cad97": {
          "model_module": "@jupyter-widgets/base",
          "model_module_version": "1.2.0",
          "model_name": "LayoutModel",
          "state": {
            "_model_module": "@jupyter-widgets/base",
            "_model_module_version": "1.2.0",
            "_model_name": "LayoutModel",
            "_view_count": null,
            "_view_module": "@jupyter-widgets/base",
            "_view_module_version": "1.2.0",
            "_view_name": "LayoutView",
            "align_content": null,
            "align_items": null,
            "align_self": null,
            "border": null,
            "bottom": null,
            "display": null,
            "flex": null,
            "flex_flow": null,
            "grid_area": null,
            "grid_auto_columns": null,
            "grid_auto_flow": null,
            "grid_auto_rows": null,
            "grid_column": null,
            "grid_gap": null,
            "grid_row": null,
            "grid_template_areas": null,
            "grid_template_columns": null,
            "grid_template_rows": null,
            "height": null,
            "justify_content": null,
            "justify_items": null,
            "left": null,
            "margin": null,
            "max_height": null,
            "max_width": null,
            "min_height": null,
            "min_width": null,
            "object_fit": null,
            "object_position": null,
            "order": null,
            "overflow": null,
            "overflow_x": null,
            "overflow_y": null,
            "padding": null,
            "right": null,
            "top": null,
            "visibility": null,
            "width": null
          }
        },
        "2f815da4826c41198057ec250cbe4a1a": {
          "model_module": "@jupyter-widgets/base",
          "model_module_version": "1.2.0",
          "model_name": "LayoutModel",
          "state": {
            "_model_module": "@jupyter-widgets/base",
            "_model_module_version": "1.2.0",
            "_model_name": "LayoutModel",
            "_view_count": null,
            "_view_module": "@jupyter-widgets/base",
            "_view_module_version": "1.2.0",
            "_view_name": "LayoutView",
            "align_content": null,
            "align_items": null,
            "align_self": null,
            "border": null,
            "bottom": null,
            "display": null,
            "flex": null,
            "flex_flow": null,
            "grid_area": null,
            "grid_auto_columns": null,
            "grid_auto_flow": null,
            "grid_auto_rows": null,
            "grid_column": null,
            "grid_gap": null,
            "grid_row": null,
            "grid_template_areas": null,
            "grid_template_columns": null,
            "grid_template_rows": null,
            "height": null,
            "justify_content": null,
            "justify_items": null,
            "left": null,
            "margin": null,
            "max_height": null,
            "max_width": null,
            "min_height": null,
            "min_width": null,
            "object_fit": null,
            "object_position": null,
            "order": null,
            "overflow": null,
            "overflow_x": null,
            "overflow_y": null,
            "padding": null,
            "right": null,
            "top": null,
            "visibility": null,
            "width": null
          }
        },
        "3539fdfe981d40d085bc57e6dab5de4a": {
          "model_module": "@jupyter-widgets/controls",
          "model_module_version": "1.5.0",
          "model_name": "HTMLModel",
          "state": {
            "_dom_classes": [],
            "_model_module": "@jupyter-widgets/controls",
            "_model_module_version": "1.5.0",
            "_model_name": "HTMLModel",
            "_view_count": null,
            "_view_module": "@jupyter-widgets/controls",
            "_view_module_version": "1.5.0",
            "_view_name": "HTMLView",
            "description": "",
            "description_tooltip": null,
            "layout": "IPY_MODEL_070bd0e14e6a4b00977bcfffe762f953",
            "placeholder": "​",
            "style": "IPY_MODEL_23ca48695b3e4b198ad6b54c8c8748c6",
            "value": " 712k/712k [00:00&lt;00:00, 3.07MB/s]"
          }
        },
        "3f48cbb174644784ae5528b06293c9d2": {
          "model_module": "@jupyter-widgets/base",
          "model_module_version": "1.2.0",
          "model_name": "LayoutModel",
          "state": {
            "_model_module": "@jupyter-widgets/base",
            "_model_module_version": "1.2.0",
            "_model_name": "LayoutModel",
            "_view_count": null,
            "_view_module": "@jupyter-widgets/base",
            "_view_module_version": "1.2.0",
            "_view_name": "LayoutView",
            "align_content": null,
            "align_items": null,
            "align_self": null,
            "border": null,
            "bottom": null,
            "display": null,
            "flex": null,
            "flex_flow": null,
            "grid_area": null,
            "grid_auto_columns": null,
            "grid_auto_flow": null,
            "grid_auto_rows": null,
            "grid_column": null,
            "grid_gap": null,
            "grid_row": null,
            "grid_template_areas": null,
            "grid_template_columns": null,
            "grid_template_rows": null,
            "height": null,
            "justify_content": null,
            "justify_items": null,
            "left": null,
            "margin": null,
            "max_height": null,
            "max_width": null,
            "min_height": null,
            "min_width": null,
            "object_fit": null,
            "object_position": null,
            "order": null,
            "overflow": null,
            "overflow_x": null,
            "overflow_y": null,
            "padding": null,
            "right": null,
            "top": null,
            "visibility": null,
            "width": null
          }
        },
        "3f67ca36a63d413181844b7d62406226": {
          "model_module": "@jupyter-widgets/base",
          "model_module_version": "1.2.0",
          "model_name": "LayoutModel",
          "state": {
            "_model_module": "@jupyter-widgets/base",
            "_model_module_version": "1.2.0",
            "_model_name": "LayoutModel",
            "_view_count": null,
            "_view_module": "@jupyter-widgets/base",
            "_view_module_version": "1.2.0",
            "_view_name": "LayoutView",
            "align_content": null,
            "align_items": null,
            "align_self": null,
            "border": null,
            "bottom": null,
            "display": null,
            "flex": null,
            "flex_flow": null,
            "grid_area": null,
            "grid_auto_columns": null,
            "grid_auto_flow": null,
            "grid_auto_rows": null,
            "grid_column": null,
            "grid_gap": null,
            "grid_row": null,
            "grid_template_areas": null,
            "grid_template_columns": null,
            "grid_template_rows": null,
            "height": null,
            "justify_content": null,
            "justify_items": null,
            "left": null,
            "margin": null,
            "max_height": null,
            "max_width": null,
            "min_height": null,
            "min_width": null,
            "object_fit": null,
            "object_position": null,
            "order": null,
            "overflow": null,
            "overflow_x": null,
            "overflow_y": null,
            "padding": null,
            "right": null,
            "top": null,
            "visibility": null,
            "width": null
          }
        },
        "40c709ecbb094eb19aa207edb990ef08": {
          "model_module": "@jupyter-widgets/base",
          "model_module_version": "1.2.0",
          "model_name": "LayoutModel",
          "state": {
            "_model_module": "@jupyter-widgets/base",
            "_model_module_version": "1.2.0",
            "_model_name": "LayoutModel",
            "_view_count": null,
            "_view_module": "@jupyter-widgets/base",
            "_view_module_version": "1.2.0",
            "_view_name": "LayoutView",
            "align_content": null,
            "align_items": null,
            "align_self": null,
            "border": null,
            "bottom": null,
            "display": null,
            "flex": null,
            "flex_flow": null,
            "grid_area": null,
            "grid_auto_columns": null,
            "grid_auto_flow": null,
            "grid_auto_rows": null,
            "grid_column": null,
            "grid_gap": null,
            "grid_row": null,
            "grid_template_areas": null,
            "grid_template_columns": null,
            "grid_template_rows": null,
            "height": null,
            "justify_content": null,
            "justify_items": null,
            "left": null,
            "margin": null,
            "max_height": null,
            "max_width": null,
            "min_height": null,
            "min_width": null,
            "object_fit": null,
            "object_position": null,
            "order": null,
            "overflow": null,
            "overflow_x": null,
            "overflow_y": null,
            "padding": null,
            "right": null,
            "top": null,
            "visibility": null,
            "width": null
          }
        },
        "41718b5612b04dc7a1c111a780c00d34": {
          "model_module": "@jupyter-widgets/controls",
          "model_module_version": "1.5.0",
          "model_name": "HBoxModel",
          "state": {
            "_dom_classes": [],
            "_model_module": "@jupyter-widgets/controls",
            "_model_module_version": "1.5.0",
            "_model_name": "HBoxModel",
            "_view_count": null,
            "_view_module": "@jupyter-widgets/controls",
            "_view_module_version": "1.5.0",
            "_view_name": "HBoxView",
            "box_style": "",
            "children": [
              "IPY_MODEL_fad1890ceee9410e8a63dc24c6f11d6c",
              "IPY_MODEL_bb716498d10c4b44a073f054447eab45",
              "IPY_MODEL_23c2de28479542fabcd8ecfbba924e23"
            ],
            "layout": "IPY_MODEL_f73052b4efa643f781b581ebb05db308"
          }
        },
        "432b8627f4704f34845054b46f1a8abb": {
          "model_module": "@jupyter-widgets/controls",
          "model_module_version": "1.5.0",
          "model_name": "ProgressStyleModel",
          "state": {
            "_model_module": "@jupyter-widgets/controls",
            "_model_module_version": "1.5.0",
            "_model_name": "ProgressStyleModel",
            "_view_count": null,
            "_view_module": "@jupyter-widgets/base",
            "_view_module_version": "1.2.0",
            "_view_name": "StyleView",
            "bar_color": null,
            "description_width": ""
          }
        },
        "434f683262d047779692cba4d38e9f7f": {
          "model_module": "@jupyter-widgets/controls",
          "model_module_version": "1.5.0",
          "model_name": "ProgressStyleModel",
          "state": {
            "_model_module": "@jupyter-widgets/controls",
            "_model_module_version": "1.5.0",
            "_model_name": "ProgressStyleModel",
            "_view_count": null,
            "_view_module": "@jupyter-widgets/base",
            "_view_module_version": "1.2.0",
            "_view_name": "StyleView",
            "bar_color": null,
            "description_width": ""
          }
        },
        "436f7066d3a945db8cc0534ae4c6e95d": {
          "model_module": "@jupyter-widgets/controls",
          "model_module_version": "1.5.0",
          "model_name": "DescriptionStyleModel",
          "state": {
            "_model_module": "@jupyter-widgets/controls",
            "_model_module_version": "1.5.0",
            "_model_name": "DescriptionStyleModel",
            "_view_count": null,
            "_view_module": "@jupyter-widgets/base",
            "_view_module_version": "1.2.0",
            "_view_name": "StyleView",
            "description_width": ""
          }
        },
        "446da44257b34deeb8d4697f6789bc31": {
          "model_module": "@jupyter-widgets/base",
          "model_module_version": "1.2.0",
          "model_name": "LayoutModel",
          "state": {
            "_model_module": "@jupyter-widgets/base",
            "_model_module_version": "1.2.0",
            "_model_name": "LayoutModel",
            "_view_count": null,
            "_view_module": "@jupyter-widgets/base",
            "_view_module_version": "1.2.0",
            "_view_name": "LayoutView",
            "align_content": null,
            "align_items": null,
            "align_self": null,
            "border": null,
            "bottom": null,
            "display": null,
            "flex": null,
            "flex_flow": null,
            "grid_area": null,
            "grid_auto_columns": null,
            "grid_auto_flow": null,
            "grid_auto_rows": null,
            "grid_column": null,
            "grid_gap": null,
            "grid_row": null,
            "grid_template_areas": null,
            "grid_template_columns": null,
            "grid_template_rows": null,
            "height": null,
            "justify_content": null,
            "justify_items": null,
            "left": null,
            "margin": null,
            "max_height": null,
            "max_width": null,
            "min_height": null,
            "min_width": null,
            "object_fit": null,
            "object_position": null,
            "order": null,
            "overflow": null,
            "overflow_x": null,
            "overflow_y": null,
            "padding": null,
            "right": null,
            "top": null,
            "visibility": null,
            "width": null
          }
        },
        "44b75bfd32744094b0707b6a3d378060": {
          "model_module": "@jupyter-widgets/controls",
          "model_module_version": "1.5.0",
          "model_name": "HBoxModel",
          "state": {
            "_dom_classes": [],
            "_model_module": "@jupyter-widgets/controls",
            "_model_module_version": "1.5.0",
            "_model_name": "HBoxModel",
            "_view_count": null,
            "_view_module": "@jupyter-widgets/controls",
            "_view_module_version": "1.5.0",
            "_view_name": "HBoxView",
            "box_style": "",
            "children": [
              "IPY_MODEL_26425ba9852b4257988b5f18aff7ecd2",
              "IPY_MODEL_2420aeaa42d54259917fb4a6cf890c7f",
              "IPY_MODEL_d157e2ff61214a0c86f366fbf6395b32"
            ],
            "layout": "IPY_MODEL_609dd248fc784fc4bfe224d644554815"
          }
        },
        "4b7ffe3fccd04c1b8f65a62d3fdd0ba2": {
          "model_module": "@jupyter-widgets/base",
          "model_module_version": "1.2.0",
          "model_name": "LayoutModel",
          "state": {
            "_model_module": "@jupyter-widgets/base",
            "_model_module_version": "1.2.0",
            "_model_name": "LayoutModel",
            "_view_count": null,
            "_view_module": "@jupyter-widgets/base",
            "_view_module_version": "1.2.0",
            "_view_name": "LayoutView",
            "align_content": null,
            "align_items": null,
            "align_self": null,
            "border": null,
            "bottom": null,
            "display": null,
            "flex": null,
            "flex_flow": null,
            "grid_area": null,
            "grid_auto_columns": null,
            "grid_auto_flow": null,
            "grid_auto_rows": null,
            "grid_column": null,
            "grid_gap": null,
            "grid_row": null,
            "grid_template_areas": null,
            "grid_template_columns": null,
            "grid_template_rows": null,
            "height": null,
            "justify_content": null,
            "justify_items": null,
            "left": null,
            "margin": null,
            "max_height": null,
            "max_width": null,
            "min_height": null,
            "min_width": null,
            "object_fit": null,
            "object_position": null,
            "order": null,
            "overflow": null,
            "overflow_x": null,
            "overflow_y": null,
            "padding": null,
            "right": null,
            "top": null,
            "visibility": null,
            "width": null
          }
        },
        "4cdfebe9aeca4a93b9db6fb4db6370d5": {
          "model_module": "@jupyter-widgets/base",
          "model_module_version": "1.2.0",
          "model_name": "LayoutModel",
          "state": {
            "_model_module": "@jupyter-widgets/base",
            "_model_module_version": "1.2.0",
            "_model_name": "LayoutModel",
            "_view_count": null,
            "_view_module": "@jupyter-widgets/base",
            "_view_module_version": "1.2.0",
            "_view_name": "LayoutView",
            "align_content": null,
            "align_items": null,
            "align_self": null,
            "border": null,
            "bottom": null,
            "display": null,
            "flex": null,
            "flex_flow": null,
            "grid_area": null,
            "grid_auto_columns": null,
            "grid_auto_flow": null,
            "grid_auto_rows": null,
            "grid_column": null,
            "grid_gap": null,
            "grid_row": null,
            "grid_template_areas": null,
            "grid_template_columns": null,
            "grid_template_rows": null,
            "height": null,
            "justify_content": null,
            "justify_items": null,
            "left": null,
            "margin": null,
            "max_height": null,
            "max_width": null,
            "min_height": null,
            "min_width": null,
            "object_fit": null,
            "object_position": null,
            "order": null,
            "overflow": null,
            "overflow_x": null,
            "overflow_y": null,
            "padding": null,
            "right": null,
            "top": null,
            "visibility": null,
            "width": null
          }
        },
        "535042ad706443c9b87e4a6942d202d4": {
          "model_module": "@jupyter-widgets/base",
          "model_module_version": "1.2.0",
          "model_name": "LayoutModel",
          "state": {
            "_model_module": "@jupyter-widgets/base",
            "_model_module_version": "1.2.0",
            "_model_name": "LayoutModel",
            "_view_count": null,
            "_view_module": "@jupyter-widgets/base",
            "_view_module_version": "1.2.0",
            "_view_name": "LayoutView",
            "align_content": null,
            "align_items": null,
            "align_self": null,
            "border": null,
            "bottom": null,
            "display": null,
            "flex": null,
            "flex_flow": null,
            "grid_area": null,
            "grid_auto_columns": null,
            "grid_auto_flow": null,
            "grid_auto_rows": null,
            "grid_column": null,
            "grid_gap": null,
            "grid_row": null,
            "grid_template_areas": null,
            "grid_template_columns": null,
            "grid_template_rows": null,
            "height": null,
            "justify_content": null,
            "justify_items": null,
            "left": null,
            "margin": null,
            "max_height": null,
            "max_width": null,
            "min_height": null,
            "min_width": null,
            "object_fit": null,
            "object_position": null,
            "order": null,
            "overflow": null,
            "overflow_x": null,
            "overflow_y": null,
            "padding": null,
            "right": null,
            "top": null,
            "visibility": null,
            "width": null
          }
        },
        "58963b35647f419da0343dfa2f2ef7c2": {
          "model_module": "@jupyter-widgets/controls",
          "model_module_version": "1.5.0",
          "model_name": "FloatProgressModel",
          "state": {
            "_dom_classes": [],
            "_model_module": "@jupyter-widgets/controls",
            "_model_module_version": "1.5.0",
            "_model_name": "FloatProgressModel",
            "_view_count": null,
            "_view_module": "@jupyter-widgets/controls",
            "_view_module_version": "1.5.0",
            "_view_name": "ProgressView",
            "bar_style": "success",
            "description": "",
            "description_tooltip": null,
            "layout": "IPY_MODEL_e8b9a08fd5084a0baa0b31d0e70bc21a",
            "max": 139,
            "min": 0,
            "orientation": "horizontal",
            "style": "IPY_MODEL_e60f498470774c63a2d8ab6c02da906b",
            "value": 139
          }
        },
        "5cc38e424b304fe29eb8da0aa5d8e0a0": {
          "model_module": "@jupyter-widgets/controls",
          "model_module_version": "1.5.0",
          "model_name": "HBoxModel",
          "state": {
            "_dom_classes": [],
            "_model_module": "@jupyter-widgets/controls",
            "_model_module_version": "1.5.0",
            "_model_name": "HBoxModel",
            "_view_count": null,
            "_view_module": "@jupyter-widgets/controls",
            "_view_module_version": "1.5.0",
            "_view_name": "HBoxView",
            "box_style": "",
            "children": [
              "IPY_MODEL_01cd09e2f658447fa48f31760f097502",
              "IPY_MODEL_22d82b9497f84a2e8eb30da793f1a2f9",
              "IPY_MODEL_8defd5346c7443caa14afa0036954af1"
            ],
            "layout": "IPY_MODEL_618c3cc14f7f4233a3efc1c5a63faa83"
          }
        },
        "5d1c1027e3d14c358340bbd08c7cb9db": {
          "model_module": "@jupyter-widgets/controls",
          "model_module_version": "1.5.0",
          "model_name": "DescriptionStyleModel",
          "state": {
            "_model_module": "@jupyter-widgets/controls",
            "_model_module_version": "1.5.0",
            "_model_name": "DescriptionStyleModel",
            "_view_count": null,
            "_view_module": "@jupyter-widgets/base",
            "_view_module_version": "1.2.0",
            "_view_name": "StyleView",
            "description_width": ""
          }
        },
        "60303dc0270c4c1da0da237a5224b34b": {
          "model_module": "@jupyter-widgets/controls",
          "model_module_version": "1.5.0",
          "model_name": "ProgressStyleModel",
          "state": {
            "_model_module": "@jupyter-widgets/controls",
            "_model_module_version": "1.5.0",
            "_model_name": "ProgressStyleModel",
            "_view_count": null,
            "_view_module": "@jupyter-widgets/base",
            "_view_module_version": "1.2.0",
            "_view_name": "StyleView",
            "bar_color": null,
            "description_width": ""
          }
        },
        "609dd248fc784fc4bfe224d644554815": {
          "model_module": "@jupyter-widgets/base",
          "model_module_version": "1.2.0",
          "model_name": "LayoutModel",
          "state": {
            "_model_module": "@jupyter-widgets/base",
            "_model_module_version": "1.2.0",
            "_model_name": "LayoutModel",
            "_view_count": null,
            "_view_module": "@jupyter-widgets/base",
            "_view_module_version": "1.2.0",
            "_view_name": "LayoutView",
            "align_content": null,
            "align_items": null,
            "align_self": null,
            "border": null,
            "bottom": null,
            "display": null,
            "flex": null,
            "flex_flow": null,
            "grid_area": null,
            "grid_auto_columns": null,
            "grid_auto_flow": null,
            "grid_auto_rows": null,
            "grid_column": null,
            "grid_gap": null,
            "grid_row": null,
            "grid_template_areas": null,
            "grid_template_columns": null,
            "grid_template_rows": null,
            "height": null,
            "justify_content": null,
            "justify_items": null,
            "left": null,
            "margin": null,
            "max_height": null,
            "max_width": null,
            "min_height": null,
            "min_width": null,
            "object_fit": null,
            "object_position": null,
            "order": null,
            "overflow": null,
            "overflow_x": null,
            "overflow_y": null,
            "padding": null,
            "right": null,
            "top": null,
            "visibility": null,
            "width": null
          }
        },
        "618c3cc14f7f4233a3efc1c5a63faa83": {
          "model_module": "@jupyter-widgets/base",
          "model_module_version": "1.2.0",
          "model_name": "LayoutModel",
          "state": {
            "_model_module": "@jupyter-widgets/base",
            "_model_module_version": "1.2.0",
            "_model_name": "LayoutModel",
            "_view_count": null,
            "_view_module": "@jupyter-widgets/base",
            "_view_module_version": "1.2.0",
            "_view_name": "LayoutView",
            "align_content": null,
            "align_items": null,
            "align_self": null,
            "border": null,
            "bottom": null,
            "display": null,
            "flex": null,
            "flex_flow": null,
            "grid_area": null,
            "grid_auto_columns": null,
            "grid_auto_flow": null,
            "grid_auto_rows": null,
            "grid_column": null,
            "grid_gap": null,
            "grid_row": null,
            "grid_template_areas": null,
            "grid_template_columns": null,
            "grid_template_rows": null,
            "height": null,
            "justify_content": null,
            "justify_items": null,
            "left": null,
            "margin": null,
            "max_height": null,
            "max_width": null,
            "min_height": null,
            "min_width": null,
            "object_fit": null,
            "object_position": null,
            "order": null,
            "overflow": null,
            "overflow_x": null,
            "overflow_y": null,
            "padding": null,
            "right": null,
            "top": null,
            "visibility": null,
            "width": null
          }
        },
        "6446caf9a7c14f9e9860a8897e8b4a09": {
          "model_module": "@jupyter-widgets/controls",
          "model_module_version": "1.5.0",
          "model_name": "DescriptionStyleModel",
          "state": {
            "_model_module": "@jupyter-widgets/controls",
            "_model_module_version": "1.5.0",
            "_model_name": "DescriptionStyleModel",
            "_view_count": null,
            "_view_module": "@jupyter-widgets/base",
            "_view_module_version": "1.2.0",
            "_view_name": "StyleView",
            "description_width": ""
          }
        },
        "64d2fc2dd6ae46888b108d74b2fc53d0": {
          "model_module": "@jupyter-widgets/controls",
          "model_module_version": "1.5.0",
          "model_name": "FloatProgressModel",
          "state": {
            "_dom_classes": [],
            "_model_module": "@jupyter-widgets/controls",
            "_model_module_version": "1.5.0",
            "_model_name": "FloatProgressModel",
            "_view_count": null,
            "_view_module": "@jupyter-widgets/controls",
            "_view_module_version": "1.5.0",
            "_view_name": "ProgressView",
            "bar_style": "success",
            "description": "",
            "description_tooltip": null,
            "layout": "IPY_MODEL_2dec4730b0294c18850a6e644fff2140",
            "max": 100,
            "min": 0,
            "orientation": "horizontal",
            "style": "IPY_MODEL_8d2bfe79748747ceb43e7e25b030c743",
            "value": 100
          }
        },
        "67b4bfce0b41438a9fb68eec61479a81": {
          "model_module": "@jupyter-widgets/controls",
          "model_module_version": "1.5.0",
          "model_name": "ProgressStyleModel",
          "state": {
            "_model_module": "@jupyter-widgets/controls",
            "_model_module_version": "1.5.0",
            "_model_name": "ProgressStyleModel",
            "_view_count": null,
            "_view_module": "@jupyter-widgets/base",
            "_view_module_version": "1.2.0",
            "_view_name": "StyleView",
            "bar_color": null,
            "description_width": ""
          }
        },
        "6a78edecc982470e80b4a9fce1d8de8d": {
          "model_module": "@jupyter-widgets/controls",
          "model_module_version": "1.5.0",
          "model_name": "DescriptionStyleModel",
          "state": {
            "_model_module": "@jupyter-widgets/controls",
            "_model_module_version": "1.5.0",
            "_model_name": "DescriptionStyleModel",
            "_view_count": null,
            "_view_module": "@jupyter-widgets/base",
            "_view_module_version": "1.2.0",
            "_view_name": "StyleView",
            "description_width": ""
          }
        },
        "6aa9e03e083d45f3a26b5d8a3cd87f4b": {
          "model_module": "@jupyter-widgets/controls",
          "model_module_version": "1.5.0",
          "model_name": "HTMLModel",
          "state": {
            "_dom_classes": [],
            "_model_module": "@jupyter-widgets/controls",
            "_model_module_version": "1.5.0",
            "_model_name": "HTMLModel",
            "_view_count": null,
            "_view_module": "@jupyter-widgets/controls",
            "_view_module_version": "1.5.0",
            "_view_name": "HTMLView",
            "description": "",
            "description_tooltip": null,
            "layout": "IPY_MODEL_4b7ffe3fccd04c1b8f65a62d3fdd0ba2",
            "placeholder": "​",
            "style": "IPY_MODEL_241e581f2fe8420aa4a8e2716fa4391f",
            "value": "tokenizer.json: 100%"
          }
        },
        "70d252b8623148de992824d65c8d9e7a": {
          "model_module": "@jupyter-widgets/controls",
          "model_module_version": "1.5.0",
          "model_name": "FloatProgressModel",
          "state": {
            "_dom_classes": [],
            "_model_module": "@jupyter-widgets/controls",
            "_model_module_version": "1.5.0",
            "_model_name": "FloatProgressModel",
            "_view_count": null,
            "_view_module": "@jupyter-widgets/controls",
            "_view_module_version": "1.5.0",
            "_view_name": "ProgressView",
            "bar_style": "success",
            "description": "",
            "description_tooltip": null,
            "layout": "IPY_MODEL_28f37f9f4f134825b0e99ca2ca5ef916",
            "max": 711661,
            "min": 0,
            "orientation": "horizontal",
            "style": "IPY_MODEL_98325f9660544923b798e587ff92e49e",
            "value": 711661
          }
        },
        "7218f57d77c34bbc8e81f01ee84cc4f2": {
          "model_module": "@jupyter-widgets/base",
          "model_module_version": "1.2.0",
          "model_name": "LayoutModel",
          "state": {
            "_model_module": "@jupyter-widgets/base",
            "_model_module_version": "1.2.0",
            "_model_name": "LayoutModel",
            "_view_count": null,
            "_view_module": "@jupyter-widgets/base",
            "_view_module_version": "1.2.0",
            "_view_name": "LayoutView",
            "align_content": null,
            "align_items": null,
            "align_self": null,
            "border": null,
            "bottom": null,
            "display": null,
            "flex": null,
            "flex_flow": null,
            "grid_area": null,
            "grid_auto_columns": null,
            "grid_auto_flow": null,
            "grid_auto_rows": null,
            "grid_column": null,
            "grid_gap": null,
            "grid_row": null,
            "grid_template_areas": null,
            "grid_template_columns": null,
            "grid_template_rows": null,
            "height": null,
            "justify_content": null,
            "justify_items": null,
            "left": null,
            "margin": null,
            "max_height": null,
            "max_width": null,
            "min_height": null,
            "min_width": null,
            "object_fit": null,
            "object_position": null,
            "order": null,
            "overflow": null,
            "overflow_x": null,
            "overflow_y": null,
            "padding": null,
            "right": null,
            "top": null,
            "visibility": null,
            "width": null
          }
        },
        "749cd1c73a5c4132942f22e47370f9f3": {
          "model_module": "@jupyter-widgets/controls",
          "model_module_version": "1.5.0",
          "model_name": "HTMLModel",
          "state": {
            "_dom_classes": [],
            "_model_module": "@jupyter-widgets/controls",
            "_model_module_version": "1.5.0",
            "_model_name": "HTMLModel",
            "_view_count": null,
            "_view_module": "@jupyter-widgets/controls",
            "_view_module_version": "1.5.0",
            "_view_name": "HTMLView",
            "description": "",
            "description_tooltip": null,
            "layout": "IPY_MODEL_535042ad706443c9b87e4a6942d202d4",
            "placeholder": "​",
            "style": "IPY_MODEL_5d1c1027e3d14c358340bbd08c7cb9db",
            "value": "Parsing nodes: 100%"
          }
        },
        "7cfbb3e653e44670b37568684ec1163f": {
          "model_module": "@jupyter-widgets/base",
          "model_module_version": "1.2.0",
          "model_name": "LayoutModel",
          "state": {
            "_model_module": "@jupyter-widgets/base",
            "_model_module_version": "1.2.0",
            "_model_name": "LayoutModel",
            "_view_count": null,
            "_view_module": "@jupyter-widgets/base",
            "_view_module_version": "1.2.0",
            "_view_name": "LayoutView",
            "align_content": null,
            "align_items": null,
            "align_self": null,
            "border": null,
            "bottom": null,
            "display": null,
            "flex": null,
            "flex_flow": null,
            "grid_area": null,
            "grid_auto_columns": null,
            "grid_auto_flow": null,
            "grid_auto_rows": null,
            "grid_column": null,
            "grid_gap": null,
            "grid_row": null,
            "grid_template_areas": null,
            "grid_template_columns": null,
            "grid_template_rows": null,
            "height": null,
            "justify_content": null,
            "justify_items": null,
            "left": null,
            "margin": null,
            "max_height": null,
            "max_width": null,
            "min_height": null,
            "min_width": null,
            "object_fit": null,
            "object_position": null,
            "order": null,
            "overflow": null,
            "overflow_x": null,
            "overflow_y": null,
            "padding": null,
            "right": null,
            "top": null,
            "visibility": null,
            "width": null
          }
        },
        "7edc613cad504898abf32259842c47ec": {
          "model_module": "@jupyter-widgets/base",
          "model_module_version": "1.2.0",
          "model_name": "LayoutModel",
          "state": {
            "_model_module": "@jupyter-widgets/base",
            "_model_module_version": "1.2.0",
            "_model_name": "LayoutModel",
            "_view_count": null,
            "_view_module": "@jupyter-widgets/base",
            "_view_module_version": "1.2.0",
            "_view_name": "LayoutView",
            "align_content": null,
            "align_items": null,
            "align_self": null,
            "border": null,
            "bottom": null,
            "display": null,
            "flex": null,
            "flex_flow": null,
            "grid_area": null,
            "grid_auto_columns": null,
            "grid_auto_flow": null,
            "grid_auto_rows": null,
            "grid_column": null,
            "grid_gap": null,
            "grid_row": null,
            "grid_template_areas": null,
            "grid_template_columns": null,
            "grid_template_rows": null,
            "height": null,
            "justify_content": null,
            "justify_items": null,
            "left": null,
            "margin": null,
            "max_height": null,
            "max_width": null,
            "min_height": null,
            "min_width": null,
            "object_fit": null,
            "object_position": null,
            "order": null,
            "overflow": null,
            "overflow_x": null,
            "overflow_y": null,
            "padding": null,
            "right": null,
            "top": null,
            "visibility": null,
            "width": null
          }
        },
        "7fa6dcf2a7ed4cc1be1bb953dabe2f2e": {
          "model_module": "@jupyter-widgets/base",
          "model_module_version": "1.2.0",
          "model_name": "LayoutModel",
          "state": {
            "_model_module": "@jupyter-widgets/base",
            "_model_module_version": "1.2.0",
            "_model_name": "LayoutModel",
            "_view_count": null,
            "_view_module": "@jupyter-widgets/base",
            "_view_module_version": "1.2.0",
            "_view_name": "LayoutView",
            "align_content": null,
            "align_items": null,
            "align_self": null,
            "border": null,
            "bottom": null,
            "display": null,
            "flex": null,
            "flex_flow": null,
            "grid_area": null,
            "grid_auto_columns": null,
            "grid_auto_flow": null,
            "grid_auto_rows": null,
            "grid_column": null,
            "grid_gap": null,
            "grid_row": null,
            "grid_template_areas": null,
            "grid_template_columns": null,
            "grid_template_rows": null,
            "height": null,
            "justify_content": null,
            "justify_items": null,
            "left": null,
            "margin": null,
            "max_height": null,
            "max_width": null,
            "min_height": null,
            "min_width": null,
            "object_fit": null,
            "object_position": null,
            "order": null,
            "overflow": null,
            "overflow_x": null,
            "overflow_y": null,
            "padding": null,
            "right": null,
            "top": null,
            "visibility": null,
            "width": null
          }
        },
        "821fc61379904f1c921e34b04a477aad": {
          "model_module": "@jupyter-widgets/controls",
          "model_module_version": "1.5.0",
          "model_name": "HBoxModel",
          "state": {
            "_dom_classes": [],
            "_model_module": "@jupyter-widgets/controls",
            "_model_module_version": "1.5.0",
            "_model_name": "HBoxModel",
            "_view_count": null,
            "_view_module": "@jupyter-widgets/controls",
            "_view_module_version": "1.5.0",
            "_view_name": "HBoxView",
            "box_style": "",
            "children": [
              "IPY_MODEL_bdec0135e8a549e8ad7ca731c63617e2",
              "IPY_MODEL_ca6d2044471746879042892182929536",
              "IPY_MODEL_ecfba6b15f744674b482c87fbeac456b"
            ],
            "layout": "IPY_MODEL_a5f9b019bc00413798aa907679ba13f1"
          }
        },
        "838df1bd2f8d4548a0bbfdd24a3812ce": {
          "model_module": "@jupyter-widgets/controls",
          "model_module_version": "1.5.0",
          "model_name": "DescriptionStyleModel",
          "state": {
            "_model_module": "@jupyter-widgets/controls",
            "_model_module_version": "1.5.0",
            "_model_name": "DescriptionStyleModel",
            "_view_count": null,
            "_view_module": "@jupyter-widgets/base",
            "_view_module_version": "1.2.0",
            "_view_name": "StyleView",
            "description_width": ""
          }
        },
        "8524e696b5c54e0f8f4debf3db1bcd3d": {
          "model_module": "@jupyter-widgets/base",
          "model_module_version": "1.2.0",
          "model_name": "LayoutModel",
          "state": {
            "_model_module": "@jupyter-widgets/base",
            "_model_module_version": "1.2.0",
            "_model_name": "LayoutModel",
            "_view_count": null,
            "_view_module": "@jupyter-widgets/base",
            "_view_module_version": "1.2.0",
            "_view_name": "LayoutView",
            "align_content": null,
            "align_items": null,
            "align_self": null,
            "border": null,
            "bottom": null,
            "display": null,
            "flex": null,
            "flex_flow": null,
            "grid_area": null,
            "grid_auto_columns": null,
            "grid_auto_flow": null,
            "grid_auto_rows": null,
            "grid_column": null,
            "grid_gap": null,
            "grid_row": null,
            "grid_template_areas": null,
            "grid_template_columns": null,
            "grid_template_rows": null,
            "height": null,
            "justify_content": null,
            "justify_items": null,
            "left": null,
            "margin": null,
            "max_height": null,
            "max_width": null,
            "min_height": null,
            "min_width": null,
            "object_fit": null,
            "object_position": null,
            "order": null,
            "overflow": null,
            "overflow_x": null,
            "overflow_y": null,
            "padding": null,
            "right": null,
            "top": null,
            "visibility": null,
            "width": null
          }
        },
        "85b5e1a4e66a4c15b7635d8b11b2a869": {
          "model_module": "@jupyter-widgets/controls",
          "model_module_version": "1.5.0",
          "model_name": "DescriptionStyleModel",
          "state": {
            "_model_module": "@jupyter-widgets/controls",
            "_model_module_version": "1.5.0",
            "_model_name": "DescriptionStyleModel",
            "_view_count": null,
            "_view_module": "@jupyter-widgets/base",
            "_view_module_version": "1.2.0",
            "_view_name": "StyleView",
            "description_width": ""
          }
        },
        "86724d9d2b6b44569aa895a13ec3a899": {
          "model_module": "@jupyter-widgets/base",
          "model_module_version": "1.2.0",
          "model_name": "LayoutModel",
          "state": {
            "_model_module": "@jupyter-widgets/base",
            "_model_module_version": "1.2.0",
            "_model_name": "LayoutModel",
            "_view_count": null,
            "_view_module": "@jupyter-widgets/base",
            "_view_module_version": "1.2.0",
            "_view_name": "LayoutView",
            "align_content": null,
            "align_items": null,
            "align_self": null,
            "border": null,
            "bottom": null,
            "display": null,
            "flex": null,
            "flex_flow": null,
            "grid_area": null,
            "grid_auto_columns": null,
            "grid_auto_flow": null,
            "grid_auto_rows": null,
            "grid_column": null,
            "grid_gap": null,
            "grid_row": null,
            "grid_template_areas": null,
            "grid_template_columns": null,
            "grid_template_rows": null,
            "height": null,
            "justify_content": null,
            "justify_items": null,
            "left": null,
            "margin": null,
            "max_height": null,
            "max_width": null,
            "min_height": null,
            "min_width": null,
            "object_fit": null,
            "object_position": null,
            "order": null,
            "overflow": null,
            "overflow_x": null,
            "overflow_y": null,
            "padding": null,
            "right": null,
            "top": null,
            "visibility": null,
            "width": null
          }
        },
        "86bdb88cb2f24ddcad0bd6b1eb44908d": {
          "model_module": "@jupyter-widgets/base",
          "model_module_version": "1.2.0",
          "model_name": "LayoutModel",
          "state": {
            "_model_module": "@jupyter-widgets/base",
            "_model_module_version": "1.2.0",
            "_model_name": "LayoutModel",
            "_view_count": null,
            "_view_module": "@jupyter-widgets/base",
            "_view_module_version": "1.2.0",
            "_view_name": "LayoutView",
            "align_content": null,
            "align_items": null,
            "align_self": null,
            "border": null,
            "bottom": null,
            "display": null,
            "flex": null,
            "flex_flow": null,
            "grid_area": null,
            "grid_auto_columns": null,
            "grid_auto_flow": null,
            "grid_auto_rows": null,
            "grid_column": null,
            "grid_gap": null,
            "grid_row": null,
            "grid_template_areas": null,
            "grid_template_columns": null,
            "grid_template_rows": null,
            "height": null,
            "justify_content": null,
            "justify_items": null,
            "left": null,
            "margin": null,
            "max_height": null,
            "max_width": null,
            "min_height": null,
            "min_width": null,
            "object_fit": null,
            "object_position": null,
            "order": null,
            "overflow": null,
            "overflow_x": null,
            "overflow_y": null,
            "padding": null,
            "right": null,
            "top": null,
            "visibility": null,
            "width": null
          }
        },
        "88eb8e8c8b18427cbf1427c4ccaf40f7": {
          "model_module": "@jupyter-widgets/controls",
          "model_module_version": "1.5.0",
          "model_name": "DescriptionStyleModel",
          "state": {
            "_model_module": "@jupyter-widgets/controls",
            "_model_module_version": "1.5.0",
            "_model_name": "DescriptionStyleModel",
            "_view_count": null,
            "_view_module": "@jupyter-widgets/base",
            "_view_module_version": "1.2.0",
            "_view_name": "StyleView",
            "description_width": ""
          }
        },
        "8c45c069e66840d1abdaf178642cc36c": {
          "model_module": "@jupyter-widgets/controls",
          "model_module_version": "1.5.0",
          "model_name": "DescriptionStyleModel",
          "state": {
            "_model_module": "@jupyter-widgets/controls",
            "_model_module_version": "1.5.0",
            "_model_name": "DescriptionStyleModel",
            "_view_count": null,
            "_view_module": "@jupyter-widgets/base",
            "_view_module_version": "1.2.0",
            "_view_name": "StyleView",
            "description_width": ""
          }
        },
        "8caffacdc4fb44fb93d543233afd6a2a": {
          "model_module": "@jupyter-widgets/base",
          "model_module_version": "1.2.0",
          "model_name": "LayoutModel",
          "state": {
            "_model_module": "@jupyter-widgets/base",
            "_model_module_version": "1.2.0",
            "_model_name": "LayoutModel",
            "_view_count": null,
            "_view_module": "@jupyter-widgets/base",
            "_view_module_version": "1.2.0",
            "_view_name": "LayoutView",
            "align_content": null,
            "align_items": null,
            "align_self": null,
            "border": null,
            "bottom": null,
            "display": null,
            "flex": null,
            "flex_flow": null,
            "grid_area": null,
            "grid_auto_columns": null,
            "grid_auto_flow": null,
            "grid_auto_rows": null,
            "grid_column": null,
            "grid_gap": null,
            "grid_row": null,
            "grid_template_areas": null,
            "grid_template_columns": null,
            "grid_template_rows": null,
            "height": null,
            "justify_content": null,
            "justify_items": null,
            "left": null,
            "margin": null,
            "max_height": null,
            "max_width": null,
            "min_height": null,
            "min_width": null,
            "object_fit": null,
            "object_position": null,
            "order": null,
            "overflow": null,
            "overflow_x": null,
            "overflow_y": null,
            "padding": null,
            "right": null,
            "top": null,
            "visibility": null,
            "width": null
          }
        },
        "8d2bfe79748747ceb43e7e25b030c743": {
          "model_module": "@jupyter-widgets/controls",
          "model_module_version": "1.5.0",
          "model_name": "ProgressStyleModel",
          "state": {
            "_model_module": "@jupyter-widgets/controls",
            "_model_module_version": "1.5.0",
            "_model_name": "ProgressStyleModel",
            "_view_count": null,
            "_view_module": "@jupyter-widgets/base",
            "_view_module_version": "1.2.0",
            "_view_name": "StyleView",
            "bar_color": null,
            "description_width": ""
          }
        },
        "8defd5346c7443caa14afa0036954af1": {
          "model_module": "@jupyter-widgets/controls",
          "model_module_version": "1.5.0",
          "model_name": "HTMLModel",
          "state": {
            "_dom_classes": [],
            "_model_module": "@jupyter-widgets/controls",
            "_model_module_version": "1.5.0",
            "_model_name": "HTMLModel",
            "_view_count": null,
            "_view_module": "@jupyter-widgets/controls",
            "_view_module_version": "1.5.0",
            "_view_name": "HTMLView",
            "description": "",
            "description_tooltip": null,
            "layout": "IPY_MODEL_23593bdd166149a6bb93f1a5e3f3c64e",
            "placeholder": "​",
            "style": "IPY_MODEL_16cb7816d37246bd990f12ec9eb0186e",
            "value": " 96.9M/96.9M [00:15&lt;00:00, 4.02MB/s]"
          }
        },
        "8fe2d9f943874b43bccca242eef40c8e": {
          "model_module": "@jupyter-widgets/base",
          "model_module_version": "1.2.0",
          "model_name": "LayoutModel",
          "state": {
            "_model_module": "@jupyter-widgets/base",
            "_model_module_version": "1.2.0",
            "_model_name": "LayoutModel",
            "_view_count": null,
            "_view_module": "@jupyter-widgets/base",
            "_view_module_version": "1.2.0",
            "_view_name": "LayoutView",
            "align_content": null,
            "align_items": null,
            "align_self": null,
            "border": null,
            "bottom": null,
            "display": null,
            "flex": null,
            "flex_flow": null,
            "grid_area": null,
            "grid_auto_columns": null,
            "grid_auto_flow": null,
            "grid_auto_rows": null,
            "grid_column": null,
            "grid_gap": null,
            "grid_row": null,
            "grid_template_areas": null,
            "grid_template_columns": null,
            "grid_template_rows": null,
            "height": null,
            "justify_content": null,
            "justify_items": null,
            "left": null,
            "margin": null,
            "max_height": null,
            "max_width": null,
            "min_height": null,
            "min_width": null,
            "object_fit": null,
            "object_position": null,
            "order": null,
            "overflow": null,
            "overflow_x": null,
            "overflow_y": null,
            "padding": null,
            "right": null,
            "top": null,
            "visibility": null,
            "width": null
          }
        },
        "9360702d9f454b4b8395c683848ffe56": {
          "model_module": "@jupyter-widgets/controls",
          "model_module_version": "1.5.0",
          "model_name": "ProgressStyleModel",
          "state": {
            "_model_module": "@jupyter-widgets/controls",
            "_model_module_version": "1.5.0",
            "_model_name": "ProgressStyleModel",
            "_view_count": null,
            "_view_module": "@jupyter-widgets/base",
            "_view_module_version": "1.2.0",
            "_view_name": "StyleView",
            "bar_color": null,
            "description_width": ""
          }
        },
        "98325f9660544923b798e587ff92e49e": {
          "model_module": "@jupyter-widgets/controls",
          "model_module_version": "1.5.0",
          "model_name": "ProgressStyleModel",
          "state": {
            "_model_module": "@jupyter-widgets/controls",
            "_model_module_version": "1.5.0",
            "_model_name": "ProgressStyleModel",
            "_view_count": null,
            "_view_module": "@jupyter-widgets/base",
            "_view_module_version": "1.2.0",
            "_view_name": "StyleView",
            "bar_color": null,
            "description_width": ""
          }
        },
        "9f9deec2c29545bb9fc4730aa705a2b9": {
          "model_module": "@jupyter-widgets/base",
          "model_module_version": "1.2.0",
          "model_name": "LayoutModel",
          "state": {
            "_model_module": "@jupyter-widgets/base",
            "_model_module_version": "1.2.0",
            "_model_name": "LayoutModel",
            "_view_count": null,
            "_view_module": "@jupyter-widgets/base",
            "_view_module_version": "1.2.0",
            "_view_name": "LayoutView",
            "align_content": null,
            "align_items": null,
            "align_self": null,
            "border": null,
            "bottom": null,
            "display": null,
            "flex": null,
            "flex_flow": null,
            "grid_area": null,
            "grid_auto_columns": null,
            "grid_auto_flow": null,
            "grid_auto_rows": null,
            "grid_column": null,
            "grid_gap": null,
            "grid_row": null,
            "grid_template_areas": null,
            "grid_template_columns": null,
            "grid_template_rows": null,
            "height": null,
            "justify_content": null,
            "justify_items": null,
            "left": null,
            "margin": null,
            "max_height": null,
            "max_width": null,
            "min_height": null,
            "min_width": null,
            "object_fit": null,
            "object_position": null,
            "order": null,
            "overflow": null,
            "overflow_x": null,
            "overflow_y": null,
            "padding": null,
            "right": null,
            "top": null,
            "visibility": null,
            "width": null
          }
        },
        "a2b4dde2c45a447cb3d8387e7a761857": {
          "model_module": "@jupyter-widgets/controls",
          "model_module_version": "1.5.0",
          "model_name": "HTMLModel",
          "state": {
            "_dom_classes": [],
            "_model_module": "@jupyter-widgets/controls",
            "_model_module_version": "1.5.0",
            "_model_name": "HTMLModel",
            "_view_count": null,
            "_view_module": "@jupyter-widgets/controls",
            "_view_module_version": "1.5.0",
            "_view_name": "HTMLView",
            "description": "",
            "description_tooltip": null,
            "layout": "IPY_MODEL_e5198bbeb18f45d2978ffd8d8cce1bd7",
            "placeholder": "​",
            "style": "IPY_MODEL_01342ae8ec4a48938111f821e47224a8",
            "value": "README.md: 100%"
          }
        },
        "a4d5cccffa5d40dd8bd23f56e0c9827a": {
          "model_module": "@jupyter-widgets/controls",
          "model_module_version": "1.5.0",
          "model_name": "FloatProgressModel",
          "state": {
            "_dom_classes": [],
            "_model_module": "@jupyter-widgets/controls",
            "_model_module_version": "1.5.0",
            "_model_name": "FloatProgressModel",
            "_view_count": null,
            "_view_module": "@jupyter-widgets/controls",
            "_view_module_version": "1.5.0",
            "_view_name": "ProgressView",
            "bar_style": "success",
            "description": "",
            "description_tooltip": null,
            "layout": "IPY_MODEL_d72f3917784a483fbed6e4895633a6da",
            "max": 5174,
            "min": 0,
            "orientation": "horizontal",
            "style": "IPY_MODEL_432b8627f4704f34845054b46f1a8abb",
            "value": 5174
          }
        },
        "a58621df343d4256821dbdcf1e3f9113": {
          "model_module": "@jupyter-widgets/base",
          "model_module_version": "1.2.0",
          "model_name": "LayoutModel",
          "state": {
            "_model_module": "@jupyter-widgets/base",
            "_model_module_version": "1.2.0",
            "_model_name": "LayoutModel",
            "_view_count": null,
            "_view_module": "@jupyter-widgets/base",
            "_view_module_version": "1.2.0",
            "_view_name": "LayoutView",
            "align_content": null,
            "align_items": null,
            "align_self": null,
            "border": null,
            "bottom": null,
            "display": null,
            "flex": null,
            "flex_flow": null,
            "grid_area": null,
            "grid_auto_columns": null,
            "grid_auto_flow": null,
            "grid_auto_rows": null,
            "grid_column": null,
            "grid_gap": null,
            "grid_row": null,
            "grid_template_areas": null,
            "grid_template_columns": null,
            "grid_template_rows": null,
            "height": null,
            "justify_content": null,
            "justify_items": null,
            "left": null,
            "margin": null,
            "max_height": null,
            "max_width": null,
            "min_height": null,
            "min_width": null,
            "object_fit": null,
            "object_position": null,
            "order": null,
            "overflow": null,
            "overflow_x": null,
            "overflow_y": null,
            "padding": null,
            "right": null,
            "top": null,
            "visibility": null,
            "width": null
          }
        },
        "a5f9b019bc00413798aa907679ba13f1": {
          "model_module": "@jupyter-widgets/base",
          "model_module_version": "1.2.0",
          "model_name": "LayoutModel",
          "state": {
            "_model_module": "@jupyter-widgets/base",
            "_model_module_version": "1.2.0",
            "_model_name": "LayoutModel",
            "_view_count": null,
            "_view_module": "@jupyter-widgets/base",
            "_view_module_version": "1.2.0",
            "_view_name": "LayoutView",
            "align_content": null,
            "align_items": null,
            "align_self": null,
            "border": null,
            "bottom": null,
            "display": null,
            "flex": null,
            "flex_flow": null,
            "grid_area": null,
            "grid_auto_columns": null,
            "grid_auto_flow": null,
            "grid_auto_rows": null,
            "grid_column": null,
            "grid_gap": null,
            "grid_row": null,
            "grid_template_areas": null,
            "grid_template_columns": null,
            "grid_template_rows": null,
            "height": null,
            "justify_content": null,
            "justify_items": null,
            "left": null,
            "margin": null,
            "max_height": null,
            "max_width": null,
            "min_height": null,
            "min_width": null,
            "object_fit": null,
            "object_position": null,
            "order": null,
            "overflow": null,
            "overflow_x": null,
            "overflow_y": null,
            "padding": null,
            "right": null,
            "top": null,
            "visibility": null,
            "width": null
          }
        },
        "a6c866dd4a6b4f3dba18b8ea6c6cbb78": {
          "model_module": "@jupyter-widgets/base",
          "model_module_version": "1.2.0",
          "model_name": "LayoutModel",
          "state": {
            "_model_module": "@jupyter-widgets/base",
            "_model_module_version": "1.2.0",
            "_model_name": "LayoutModel",
            "_view_count": null,
            "_view_module": "@jupyter-widgets/base",
            "_view_module_version": "1.2.0",
            "_view_name": "LayoutView",
            "align_content": null,
            "align_items": null,
            "align_self": null,
            "border": null,
            "bottom": null,
            "display": null,
            "flex": null,
            "flex_flow": null,
            "grid_area": null,
            "grid_auto_columns": null,
            "grid_auto_flow": null,
            "grid_auto_rows": null,
            "grid_column": null,
            "grid_gap": null,
            "grid_row": null,
            "grid_template_areas": null,
            "grid_template_columns": null,
            "grid_template_rows": null,
            "height": null,
            "justify_content": null,
            "justify_items": null,
            "left": null,
            "margin": null,
            "max_height": null,
            "max_width": null,
            "min_height": null,
            "min_width": null,
            "object_fit": null,
            "object_position": null,
            "order": null,
            "overflow": null,
            "overflow_x": null,
            "overflow_y": null,
            "padding": null,
            "right": null,
            "top": null,
            "visibility": null,
            "width": null
          }
        },
        "a73658c539cd4ef2b6fcca0c2c43c26b": {
          "model_module": "@jupyter-widgets/base",
          "model_module_version": "1.2.0",
          "model_name": "LayoutModel",
          "state": {
            "_model_module": "@jupyter-widgets/base",
            "_model_module_version": "1.2.0",
            "_model_name": "LayoutModel",
            "_view_count": null,
            "_view_module": "@jupyter-widgets/base",
            "_view_module_version": "1.2.0",
            "_view_name": "LayoutView",
            "align_content": null,
            "align_items": null,
            "align_self": null,
            "border": null,
            "bottom": null,
            "display": null,
            "flex": null,
            "flex_flow": null,
            "grid_area": null,
            "grid_auto_columns": null,
            "grid_auto_flow": null,
            "grid_auto_rows": null,
            "grid_column": null,
            "grid_gap": null,
            "grid_row": null,
            "grid_template_areas": null,
            "grid_template_columns": null,
            "grid_template_rows": null,
            "height": null,
            "justify_content": null,
            "justify_items": null,
            "left": null,
            "margin": null,
            "max_height": null,
            "max_width": null,
            "min_height": null,
            "min_width": null,
            "object_fit": null,
            "object_position": null,
            "order": null,
            "overflow": null,
            "overflow_x": null,
            "overflow_y": null,
            "padding": null,
            "right": null,
            "top": null,
            "visibility": null,
            "width": null
          }
        },
        "a7c67ae2226c42519af2ed251da3c39d": {
          "model_module": "@jupyter-widgets/controls",
          "model_module_version": "1.5.0",
          "model_name": "DescriptionStyleModel",
          "state": {
            "_model_module": "@jupyter-widgets/controls",
            "_model_module_version": "1.5.0",
            "_model_name": "DescriptionStyleModel",
            "_view_count": null,
            "_view_module": "@jupyter-widgets/base",
            "_view_module_version": "1.2.0",
            "_view_name": "StyleView",
            "description_width": ""
          }
        },
        "ae873bf5dcac439e8ff8611624dc9201": {
          "model_module": "@jupyter-widgets/controls",
          "model_module_version": "1.5.0",
          "model_name": "DescriptionStyleModel",
          "state": {
            "_model_module": "@jupyter-widgets/controls",
            "_model_module_version": "1.5.0",
            "_model_name": "DescriptionStyleModel",
            "_view_count": null,
            "_view_module": "@jupyter-widgets/base",
            "_view_module_version": "1.2.0",
            "_view_name": "StyleView",
            "description_width": ""
          }
        },
        "b1d7070d219e492fb5584cc24d8d6cad": {
          "model_module": "@jupyter-widgets/controls",
          "model_module_version": "1.5.0",
          "model_name": "HTMLModel",
          "state": {
            "_dom_classes": [],
            "_model_module": "@jupyter-widgets/controls",
            "_model_module_version": "1.5.0",
            "_model_name": "HTMLModel",
            "_view_count": null,
            "_view_module": "@jupyter-widgets/controls",
            "_view_module_version": "1.5.0",
            "_view_name": "HTMLView",
            "description": "",
            "description_tooltip": null,
            "layout": "IPY_MODEL_202dafcca0034fc5afb8737dc58f4fba",
            "placeholder": "​",
            "style": "IPY_MODEL_26d8da7c9a30497db3ee923d77b6845a",
            "value": "100%"
          }
        },
        "b350e8239fbf44488581c367d0112926": {
          "model_module": "@jupyter-widgets/controls",
          "model_module_version": "1.5.0",
          "model_name": "HTMLModel",
          "state": {
            "_dom_classes": [],
            "_model_module": "@jupyter-widgets/controls",
            "_model_module_version": "1.5.0",
            "_model_name": "HTMLModel",
            "_view_count": null,
            "_view_module": "@jupyter-widgets/controls",
            "_view_module_version": "1.5.0",
            "_view_name": "HTMLView",
            "description": "",
            "description_tooltip": null,
            "layout": "IPY_MODEL_e455ecc5954e4e14bd45d731e6bbda0f",
            "placeholder": "​",
            "style": "IPY_MODEL_d3389e5d8b7745898d94a8f28f777cb3",
            "value": " 100/100 [02:19&lt;00:00,  1.52s/it]"
          }
        },
        "b3def22cfd21429f81d93231b5d87a92": {
          "model_module": "@jupyter-widgets/controls",
          "model_module_version": "1.5.0",
          "model_name": "DescriptionStyleModel",
          "state": {
            "_model_module": "@jupyter-widgets/controls",
            "_model_module_version": "1.5.0",
            "_model_name": "DescriptionStyleModel",
            "_view_count": null,
            "_view_module": "@jupyter-widgets/base",
            "_view_module_version": "1.2.0",
            "_view_name": "StyleView",
            "description_width": ""
          }
        },
        "b4e3e4213ceb4b53ae5c1bff115c5b4d": {
          "model_module": "@jupyter-widgets/controls",
          "model_module_version": "1.5.0",
          "model_name": "PasswordModel",
          "state": {
            "_dom_classes": [],
            "_model_module": "@jupyter-widgets/controls",
            "_model_module_version": "1.5.0",
            "_model_name": "PasswordModel",
            "_view_count": null,
            "_view_module": "@jupyter-widgets/controls",
            "_view_module_version": "1.5.0",
            "_view_name": "PasswordView",
            "continuous_update": true,
            "description": "Token:",
            "description_tooltip": null,
            "disabled": false,
            "layout": "IPY_MODEL_2282f9bb22d64903b1948a41b5442052",
            "placeholder": "​",
            "style": "IPY_MODEL_a7c67ae2226c42519af2ed251da3c39d",
            "value": ""
          }
        },
        "b69fc83e52c9442a9a8852ae103020f6": {
          "model_module": "@jupyter-widgets/base",
          "model_module_version": "1.2.0",
          "model_name": "LayoutModel",
          "state": {
            "_model_module": "@jupyter-widgets/base",
            "_model_module_version": "1.2.0",
            "_model_name": "LayoutModel",
            "_view_count": null,
            "_view_module": "@jupyter-widgets/base",
            "_view_module_version": "1.2.0",
            "_view_name": "LayoutView",
            "align_content": null,
            "align_items": null,
            "align_self": null,
            "border": null,
            "bottom": null,
            "display": null,
            "flex": null,
            "flex_flow": null,
            "grid_area": null,
            "grid_auto_columns": null,
            "grid_auto_flow": null,
            "grid_auto_rows": null,
            "grid_column": null,
            "grid_gap": null,
            "grid_row": null,
            "grid_template_areas": null,
            "grid_template_columns": null,
            "grid_template_rows": null,
            "height": null,
            "justify_content": null,
            "justify_items": null,
            "left": null,
            "margin": null,
            "max_height": null,
            "max_width": null,
            "min_height": null,
            "min_width": null,
            "object_fit": null,
            "object_position": null,
            "order": null,
            "overflow": null,
            "overflow_x": null,
            "overflow_y": null,
            "padding": null,
            "right": null,
            "top": null,
            "visibility": null,
            "width": null
          }
        },
        "b7ef65aea918485fa15e1c34e31ed107": {
          "model_module": "@jupyter-widgets/controls",
          "model_module_version": "1.5.0",
          "model_name": "DescriptionStyleModel",
          "state": {
            "_model_module": "@jupyter-widgets/controls",
            "_model_module_version": "1.5.0",
            "_model_name": "DescriptionStyleModel",
            "_view_count": null,
            "_view_module": "@jupyter-widgets/base",
            "_view_module_version": "1.2.0",
            "_view_name": "StyleView",
            "description_width": ""
          }
        },
        "b8e71b3422294eeaa899fabb595f7c79": {
          "model_module": "@jupyter-widgets/controls",
          "model_module_version": "1.5.0",
          "model_name": "ProgressStyleModel",
          "state": {
            "_model_module": "@jupyter-widgets/controls",
            "_model_module_version": "1.5.0",
            "_model_name": "ProgressStyleModel",
            "_view_count": null,
            "_view_module": "@jupyter-widgets/base",
            "_view_module_version": "1.2.0",
            "_view_name": "StyleView",
            "bar_color": null,
            "description_width": ""
          }
        },
        "b904212f614749eca2d78843af3e1e49": {
          "model_module": "@jupyter-widgets/controls",
          "model_module_version": "1.5.0",
          "model_name": "DescriptionStyleModel",
          "state": {
            "_model_module": "@jupyter-widgets/controls",
            "_model_module_version": "1.5.0",
            "_model_name": "DescriptionStyleModel",
            "_view_count": null,
            "_view_module": "@jupyter-widgets/base",
            "_view_module_version": "1.2.0",
            "_view_name": "StyleView",
            "description_width": ""
          }
        },
        "b984b6756cc948d8b7dde65bb0efc3d9": {
          "model_module": "@jupyter-widgets/base",
          "model_module_version": "1.2.0",
          "model_name": "LayoutModel",
          "state": {
            "_model_module": "@jupyter-widgets/base",
            "_model_module_version": "1.2.0",
            "_model_name": "LayoutModel",
            "_view_count": null,
            "_view_module": "@jupyter-widgets/base",
            "_view_module_version": "1.2.0",
            "_view_name": "LayoutView",
            "align_content": null,
            "align_items": null,
            "align_self": null,
            "border": null,
            "bottom": null,
            "display": null,
            "flex": null,
            "flex_flow": null,
            "grid_area": null,
            "grid_auto_columns": null,
            "grid_auto_flow": null,
            "grid_auto_rows": null,
            "grid_column": null,
            "grid_gap": null,
            "grid_row": null,
            "grid_template_areas": null,
            "grid_template_columns": null,
            "grid_template_rows": null,
            "height": null,
            "justify_content": null,
            "justify_items": null,
            "left": null,
            "margin": null,
            "max_height": null,
            "max_width": null,
            "min_height": null,
            "min_width": null,
            "object_fit": null,
            "object_position": null,
            "order": null,
            "overflow": null,
            "overflow_x": null,
            "overflow_y": null,
            "padding": null,
            "right": null,
            "top": null,
            "visibility": null,
            "width": null
          }
        },
        "baf828ca22a04e6caa70689e91a0d975": {
          "model_module": "@jupyter-widgets/controls",
          "model_module_version": "1.5.0",
          "model_name": "CheckboxModel",
          "state": {
            "_dom_classes": [],
            "_model_module": "@jupyter-widgets/controls",
            "_model_module_version": "1.5.0",
            "_model_name": "CheckboxModel",
            "_view_count": null,
            "_view_module": "@jupyter-widgets/controls",
            "_view_module_version": "1.5.0",
            "_view_name": "CheckboxView",
            "description": "Add token as git credential?",
            "description_tooltip": null,
            "disabled": false,
            "indent": true,
            "layout": "IPY_MODEL_2f815da4826c41198057ec250cbe4a1a",
            "style": "IPY_MODEL_436f7066d3a945db8cc0534ae4c6e95d",
            "value": true
          }
        },
        "bb0045096bd645178a0b8eb3023089b1": {
          "model_module": "@jupyter-widgets/controls",
          "model_module_version": "1.5.0",
          "model_name": "HTMLModel",
          "state": {
            "_dom_classes": [],
            "_model_module": "@jupyter-widgets/controls",
            "_model_module_version": "1.5.0",
            "_model_name": "HTMLModel",
            "_view_count": null,
            "_view_module": "@jupyter-widgets/controls",
            "_view_module_version": "1.5.0",
            "_view_name": "HTMLView",
            "description": "",
            "description_tooltip": null,
            "layout": "IPY_MODEL_e0b1c14fe19d40fbaca4f39ed5be4dee",
            "placeholder": "​",
            "style": "IPY_MODEL_f7ad1ff89b9542629699bc867c5a2a87",
            "value": "<center> <img\nsrc=https://huggingface.co/front/assets/huggingface_logo-noborder.svg\nalt='Hugging Face'> <br> Copy a token from <a\nhref=\"https://huggingface.co/settings/tokens\" target=\"_blank\">your Hugging Face\ntokens page</a> and paste it below. <br> Immediately click login after copying\nyour token or it might be stored in plain text in this notebook file. </center>"
          }
        },
        "bb716498d10c4b44a073f054447eab45": {
          "model_module": "@jupyter-widgets/controls",
          "model_module_version": "1.5.0",
          "model_name": "FloatProgressModel",
          "state": {
            "_dom_classes": [],
            "_model_module": "@jupyter-widgets/controls",
            "_model_module_version": "1.5.0",
            "_model_name": "FloatProgressModel",
            "_view_count": null,
            "_view_module": "@jupyter-widgets/controls",
            "_view_module_version": "1.5.0",
            "_view_name": "ProgressView",
            "bar_style": "success",
            "description": "",
            "description_tooltip": null,
            "layout": "IPY_MODEL_b69fc83e52c9442a9a8852ae103020f6",
            "max": 695,
            "min": 0,
            "orientation": "horizontal",
            "style": "IPY_MODEL_60303dc0270c4c1da0da237a5224b34b",
            "value": 695
          }
        },
        "bd373ee912e14e0eb7edf3faabef7ddb": {
          "model_module": "@jupyter-widgets/base",
          "model_module_version": "1.2.0",
          "model_name": "LayoutModel",
          "state": {
            "_model_module": "@jupyter-widgets/base",
            "_model_module_version": "1.2.0",
            "_model_name": "LayoutModel",
            "_view_count": null,
            "_view_module": "@jupyter-widgets/base",
            "_view_module_version": "1.2.0",
            "_view_name": "LayoutView",
            "align_content": null,
            "align_items": null,
            "align_self": null,
            "border": null,
            "bottom": null,
            "display": null,
            "flex": null,
            "flex_flow": null,
            "grid_area": null,
            "grid_auto_columns": null,
            "grid_auto_flow": null,
            "grid_auto_rows": null,
            "grid_column": null,
            "grid_gap": null,
            "grid_row": null,
            "grid_template_areas": null,
            "grid_template_columns": null,
            "grid_template_rows": null,
            "height": null,
            "justify_content": null,
            "justify_items": null,
            "left": null,
            "margin": null,
            "max_height": null,
            "max_width": null,
            "min_height": null,
            "min_width": null,
            "object_fit": null,
            "object_position": null,
            "order": null,
            "overflow": null,
            "overflow_x": null,
            "overflow_y": null,
            "padding": null,
            "right": null,
            "top": null,
            "visibility": null,
            "width": null
          }
        },
        "bdec0135e8a549e8ad7ca731c63617e2": {
          "model_module": "@jupyter-widgets/controls",
          "model_module_version": "1.5.0",
          "model_name": "HTMLModel",
          "state": {
            "_dom_classes": [],
            "_model_module": "@jupyter-widgets/controls",
            "_model_module_version": "1.5.0",
            "_model_name": "HTMLModel",
            "_view_count": null,
            "_view_module": "@jupyter-widgets/controls",
            "_view_module_version": "1.5.0",
            "_view_name": "HTMLView",
            "description": "",
            "description_tooltip": null,
            "layout": "IPY_MODEL_40c709ecbb094eb19aa207edb990ef08",
            "placeholder": "​",
            "style": "IPY_MODEL_edbd7335ba0b4349818d3fff1d3a1785",
            "value": "Loading checkpoint shards: 100%"
          }
        },
        "c4991b6079474582910e74f8f7f56f9d": {
          "model_module": "@jupyter-widgets/base",
          "model_module_version": "1.2.0",
          "model_name": "LayoutModel",
          "state": {
            "_model_module": "@jupyter-widgets/base",
            "_model_module_version": "1.2.0",
            "_model_name": "LayoutModel",
            "_view_count": null,
            "_view_module": "@jupyter-widgets/base",
            "_view_module_version": "1.2.0",
            "_view_name": "LayoutView",
            "align_content": null,
            "align_items": null,
            "align_self": null,
            "border": null,
            "bottom": null,
            "display": null,
            "flex": null,
            "flex_flow": null,
            "grid_area": null,
            "grid_auto_columns": null,
            "grid_auto_flow": null,
            "grid_auto_rows": null,
            "grid_column": null,
            "grid_gap": null,
            "grid_row": null,
            "grid_template_areas": null,
            "grid_template_columns": null,
            "grid_template_rows": null,
            "height": null,
            "justify_content": null,
            "justify_items": null,
            "left": null,
            "margin": null,
            "max_height": null,
            "max_width": null,
            "min_height": null,
            "min_width": null,
            "object_fit": null,
            "object_position": null,
            "order": null,
            "overflow": null,
            "overflow_x": null,
            "overflow_y": null,
            "padding": null,
            "right": null,
            "top": null,
            "visibility": null,
            "width": null
          }
        },
        "c9f1ec67254f4f6797b84e2bc734e42b": {
          "model_module": "@jupyter-widgets/base",
          "model_module_version": "1.2.0",
          "model_name": "LayoutModel",
          "state": {
            "_model_module": "@jupyter-widgets/base",
            "_model_module_version": "1.2.0",
            "_model_name": "LayoutModel",
            "_view_count": null,
            "_view_module": "@jupyter-widgets/base",
            "_view_module_version": "1.2.0",
            "_view_name": "LayoutView",
            "align_content": null,
            "align_items": null,
            "align_self": null,
            "border": null,
            "bottom": null,
            "display": null,
            "flex": null,
            "flex_flow": null,
            "grid_area": null,
            "grid_auto_columns": null,
            "grid_auto_flow": null,
            "grid_auto_rows": null,
            "grid_column": null,
            "grid_gap": null,
            "grid_row": null,
            "grid_template_areas": null,
            "grid_template_columns": null,
            "grid_template_rows": null,
            "height": null,
            "justify_content": null,
            "justify_items": null,
            "left": null,
            "margin": null,
            "max_height": null,
            "max_width": null,
            "min_height": null,
            "min_width": null,
            "object_fit": null,
            "object_position": null,
            "order": null,
            "overflow": null,
            "overflow_x": null,
            "overflow_y": null,
            "padding": null,
            "right": null,
            "top": null,
            "visibility": null,
            "width": null
          }
        },
        "ca562ede5fdd455988e9b133acd8ca92": {
          "model_module": "@jupyter-widgets/controls",
          "model_module_version": "1.5.0",
          "model_name": "HBoxModel",
          "state": {
            "_dom_classes": [],
            "_model_module": "@jupyter-widgets/controls",
            "_model_module_version": "1.5.0",
            "_model_name": "HBoxModel",
            "_view_count": null,
            "_view_module": "@jupyter-widgets/controls",
            "_view_module_version": "1.5.0",
            "_view_name": "HBoxView",
            "box_style": "",
            "children": [
              "IPY_MODEL_a2b4dde2c45a447cb3d8387e7a761857",
              "IPY_MODEL_a4d5cccffa5d40dd8bd23f56e0c9827a",
              "IPY_MODEL_e0b57b5960a443d0833385b0d40e81d5"
            ],
            "layout": "IPY_MODEL_3f48cbb174644784ae5528b06293c9d2"
          }
        },
        "ca6d2044471746879042892182929536": {
          "model_module": "@jupyter-widgets/controls",
          "model_module_version": "1.5.0",
          "model_name": "FloatProgressModel",
          "state": {
            "_dom_classes": [],
            "_model_module": "@jupyter-widgets/controls",
            "_model_module_version": "1.5.0",
            "_model_name": "FloatProgressModel",
            "_view_count": null,
            "_view_module": "@jupyter-widgets/controls",
            "_view_module_version": "1.5.0",
            "_view_name": "ProgressView",
            "bar_style": "success",
            "description": "",
            "description_tooltip": null,
            "layout": "IPY_MODEL_8caffacdc4fb44fb93d543233afd6a2a",
            "max": 4,
            "min": 0,
            "orientation": "horizontal",
            "style": "IPY_MODEL_434f683262d047779692cba4d38e9f7f",
            "value": 4
          }
        },
        "ca9b1ef8e0a94d16918cc3627b729334": {
          "model_module": "@jupyter-widgets/controls",
          "model_module_version": "1.5.0",
          "model_name": "VBoxModel",
          "state": {
            "_dom_classes": [],
            "_model_module": "@jupyter-widgets/controls",
            "_model_module_version": "1.5.0",
            "_model_name": "VBoxModel",
            "_view_count": null,
            "_view_module": "@jupyter-widgets/controls",
            "_view_module_version": "1.5.0",
            "_view_name": "VBoxView",
            "box_style": "",
            "children": [
              "IPY_MODEL_26047cee007f4a529ae85ed200dcc18e",
              "IPY_MODEL_dd3795f828c14ad5a39a5d40417604a2",
              "IPY_MODEL_139d240b83df4b20910c3e08a91b21bd",
              "IPY_MODEL_1b927ea9dc214da99dd7c38bf458d9e9"
            ],
            "layout": "IPY_MODEL_f7fa061cc08345b38c51cc452b099775"
          }
        },
        "cbdea16eab2f4f83b8db4683b24caf15": {
          "model_module": "@jupyter-widgets/controls",
          "model_module_version": "1.5.0",
          "model_name": "HTMLModel",
          "state": {
            "_dom_classes": [],
            "_model_module": "@jupyter-widgets/controls",
            "_model_module_version": "1.5.0",
            "_model_name": "HTMLModel",
            "_view_count": null,
            "_view_module": "@jupyter-widgets/controls",
            "_view_module_version": "1.5.0",
            "_view_name": "HTMLView",
            "description": "",
            "description_tooltip": null,
            "layout": "IPY_MODEL_dfbd1a2373ad4d949644e281519fd667",
            "placeholder": "​",
            "style": "IPY_MODEL_25f85aff044b4c6e881d48593f4af751",
            "value": " 139/139 [00:00&lt;00:00, 1357.75it/s]"
          }
        },
        "d03d300425874b2e8dc3b6ced3566e47": {
          "model_module": "@jupyter-widgets/base",
          "model_module_version": "1.2.0",
          "model_name": "LayoutModel",
          "state": {
            "_model_module": "@jupyter-widgets/base",
            "_model_module_version": "1.2.0",
            "_model_name": "LayoutModel",
            "_view_count": null,
            "_view_module": "@jupyter-widgets/base",
            "_view_module_version": "1.2.0",
            "_view_name": "LayoutView",
            "align_content": null,
            "align_items": null,
            "align_self": null,
            "border": null,
            "bottom": null,
            "display": null,
            "flex": null,
            "flex_flow": null,
            "grid_area": null,
            "grid_auto_columns": null,
            "grid_auto_flow": null,
            "grid_auto_rows": null,
            "grid_column": null,
            "grid_gap": null,
            "grid_row": null,
            "grid_template_areas": null,
            "grid_template_columns": null,
            "grid_template_rows": null,
            "height": null,
            "justify_content": null,
            "justify_items": null,
            "left": null,
            "margin": null,
            "max_height": null,
            "max_width": null,
            "min_height": null,
            "min_width": null,
            "object_fit": null,
            "object_position": null,
            "order": null,
            "overflow": null,
            "overflow_x": null,
            "overflow_y": null,
            "padding": null,
            "right": null,
            "top": null,
            "visibility": null,
            "width": null
          }
        },
        "d157e2ff61214a0c86f366fbf6395b32": {
          "model_module": "@jupyter-widgets/controls",
          "model_module_version": "1.5.0",
          "model_name": "HTMLModel",
          "state": {
            "_dom_classes": [],
            "_model_module": "@jupyter-widgets/controls",
            "_model_module_version": "1.5.0",
            "_model_name": "HTMLModel",
            "_view_count": null,
            "_view_module": "@jupyter-widgets/controls",
            "_view_module_version": "1.5.0",
            "_view_name": "HTMLView",
            "description": "",
            "description_tooltip": null,
            "layout": "IPY_MODEL_e78afa7d6c634cbeb35251e27094fc6e",
            "placeholder": "​",
            "style": "IPY_MODEL_e453088bfa4f4b2eb899cc3cb216bf9c",
            "value": " 1.38k/1.38k [00:00&lt;00:00, 123kB/s]"
          }
        },
        "d233beee86654335b6b4038cae978a02": {
          "model_module": "@jupyter-widgets/base",
          "model_module_version": "1.2.0",
          "model_name": "LayoutModel",
          "state": {
            "_model_module": "@jupyter-widgets/base",
            "_model_module_version": "1.2.0",
            "_model_name": "LayoutModel",
            "_view_count": null,
            "_view_module": "@jupyter-widgets/base",
            "_view_module_version": "1.2.0",
            "_view_name": "LayoutView",
            "align_content": null,
            "align_items": null,
            "align_self": null,
            "border": null,
            "bottom": null,
            "display": null,
            "flex": null,
            "flex_flow": null,
            "grid_area": null,
            "grid_auto_columns": null,
            "grid_auto_flow": null,
            "grid_auto_rows": null,
            "grid_column": null,
            "grid_gap": null,
            "grid_row": null,
            "grid_template_areas": null,
            "grid_template_columns": null,
            "grid_template_rows": null,
            "height": null,
            "justify_content": null,
            "justify_items": null,
            "left": null,
            "margin": null,
            "max_height": null,
            "max_width": null,
            "min_height": null,
            "min_width": null,
            "object_fit": null,
            "object_position": null,
            "order": null,
            "overflow": null,
            "overflow_x": null,
            "overflow_y": null,
            "padding": null,
            "right": null,
            "top": null,
            "visibility": null,
            "width": null
          }
        },
        "d3389e5d8b7745898d94a8f28f777cb3": {
          "model_module": "@jupyter-widgets/controls",
          "model_module_version": "1.5.0",
          "model_name": "DescriptionStyleModel",
          "state": {
            "_model_module": "@jupyter-widgets/controls",
            "_model_module_version": "1.5.0",
            "_model_name": "DescriptionStyleModel",
            "_view_count": null,
            "_view_module": "@jupyter-widgets/base",
            "_view_module_version": "1.2.0",
            "_view_name": "StyleView",
            "description_width": ""
          }
        },
        "d72f3917784a483fbed6e4895633a6da": {
          "model_module": "@jupyter-widgets/base",
          "model_module_version": "1.2.0",
          "model_name": "LayoutModel",
          "state": {
            "_model_module": "@jupyter-widgets/base",
            "_model_module_version": "1.2.0",
            "_model_name": "LayoutModel",
            "_view_count": null,
            "_view_module": "@jupyter-widgets/base",
            "_view_module_version": "1.2.0",
            "_view_name": "LayoutView",
            "align_content": null,
            "align_items": null,
            "align_self": null,
            "border": null,
            "bottom": null,
            "display": null,
            "flex": null,
            "flex_flow": null,
            "grid_area": null,
            "grid_auto_columns": null,
            "grid_auto_flow": null,
            "grid_auto_rows": null,
            "grid_column": null,
            "grid_gap": null,
            "grid_row": null,
            "grid_template_areas": null,
            "grid_template_columns": null,
            "grid_template_rows": null,
            "height": null,
            "justify_content": null,
            "justify_items": null,
            "left": null,
            "margin": null,
            "max_height": null,
            "max_width": null,
            "min_height": null,
            "min_width": null,
            "object_fit": null,
            "object_position": null,
            "order": null,
            "overflow": null,
            "overflow_x": null,
            "overflow_y": null,
            "padding": null,
            "right": null,
            "top": null,
            "visibility": null,
            "width": null
          }
        },
        "dcb5522eb5304af39eeadc420b5828fc": {
          "model_module": "@jupyter-widgets/base",
          "model_module_version": "1.2.0",
          "model_name": "LayoutModel",
          "state": {
            "_model_module": "@jupyter-widgets/base",
            "_model_module_version": "1.2.0",
            "_model_name": "LayoutModel",
            "_view_count": null,
            "_view_module": "@jupyter-widgets/base",
            "_view_module_version": "1.2.0",
            "_view_name": "LayoutView",
            "align_content": null,
            "align_items": null,
            "align_self": null,
            "border": null,
            "bottom": null,
            "display": null,
            "flex": null,
            "flex_flow": null,
            "grid_area": null,
            "grid_auto_columns": null,
            "grid_auto_flow": null,
            "grid_auto_rows": null,
            "grid_column": null,
            "grid_gap": null,
            "grid_row": null,
            "grid_template_areas": null,
            "grid_template_columns": null,
            "grid_template_rows": null,
            "height": null,
            "justify_content": null,
            "justify_items": null,
            "left": null,
            "margin": null,
            "max_height": null,
            "max_width": null,
            "min_height": null,
            "min_width": null,
            "object_fit": null,
            "object_position": null,
            "order": null,
            "overflow": null,
            "overflow_x": null,
            "overflow_y": null,
            "padding": null,
            "right": null,
            "top": null,
            "visibility": null,
            "width": null
          }
        },
        "dd3795f828c14ad5a39a5d40417604a2": {
          "model_module": "@jupyter-widgets/controls",
          "model_module_version": "1.5.0",
          "model_name": "LabelModel",
          "state": {
            "_dom_classes": [],
            "_model_module": "@jupyter-widgets/controls",
            "_model_module_version": "1.5.0",
            "_model_name": "LabelModel",
            "_view_count": null,
            "_view_module": "@jupyter-widgets/controls",
            "_view_module_version": "1.5.0",
            "_view_name": "LabelView",
            "description": "",
            "description_tooltip": null,
            "layout": "IPY_MODEL_7edc613cad504898abf32259842c47ec",
            "placeholder": "​",
            "style": "IPY_MODEL_267800a25d7249d7b4a349abe674f741",
            "value": "Your token has been saved in your configured git credential helpers (store)."
          }
        },
        "dfbd1a2373ad4d949644e281519fd667": {
          "model_module": "@jupyter-widgets/base",
          "model_module_version": "1.2.0",
          "model_name": "LayoutModel",
          "state": {
            "_model_module": "@jupyter-widgets/base",
            "_model_module_version": "1.2.0",
            "_model_name": "LayoutModel",
            "_view_count": null,
            "_view_module": "@jupyter-widgets/base",
            "_view_module_version": "1.2.0",
            "_view_name": "LayoutView",
            "align_content": null,
            "align_items": null,
            "align_self": null,
            "border": null,
            "bottom": null,
            "display": null,
            "flex": null,
            "flex_flow": null,
            "grid_area": null,
            "grid_auto_columns": null,
            "grid_auto_flow": null,
            "grid_auto_rows": null,
            "grid_column": null,
            "grid_gap": null,
            "grid_row": null,
            "grid_template_areas": null,
            "grid_template_columns": null,
            "grid_template_rows": null,
            "height": null,
            "justify_content": null,
            "justify_items": null,
            "left": null,
            "margin": null,
            "max_height": null,
            "max_width": null,
            "min_height": null,
            "min_width": null,
            "object_fit": null,
            "object_position": null,
            "order": null,
            "overflow": null,
            "overflow_x": null,
            "overflow_y": null,
            "padding": null,
            "right": null,
            "top": null,
            "visibility": null,
            "width": null
          }
        },
        "e0b1c14fe19d40fbaca4f39ed5be4dee": {
          "model_module": "@jupyter-widgets/base",
          "model_module_version": "1.2.0",
          "model_name": "LayoutModel",
          "state": {
            "_model_module": "@jupyter-widgets/base",
            "_model_module_version": "1.2.0",
            "_model_name": "LayoutModel",
            "_view_count": null,
            "_view_module": "@jupyter-widgets/base",
            "_view_module_version": "1.2.0",
            "_view_name": "LayoutView",
            "align_content": null,
            "align_items": null,
            "align_self": null,
            "border": null,
            "bottom": null,
            "display": null,
            "flex": null,
            "flex_flow": null,
            "grid_area": null,
            "grid_auto_columns": null,
            "grid_auto_flow": null,
            "grid_auto_rows": null,
            "grid_column": null,
            "grid_gap": null,
            "grid_row": null,
            "grid_template_areas": null,
            "grid_template_columns": null,
            "grid_template_rows": null,
            "height": null,
            "justify_content": null,
            "justify_items": null,
            "left": null,
            "margin": null,
            "max_height": null,
            "max_width": null,
            "min_height": null,
            "min_width": null,
            "object_fit": null,
            "object_position": null,
            "order": null,
            "overflow": null,
            "overflow_x": null,
            "overflow_y": null,
            "padding": null,
            "right": null,
            "top": null,
            "visibility": null,
            "width": null
          }
        },
        "e0b57b5960a443d0833385b0d40e81d5": {
          "model_module": "@jupyter-widgets/controls",
          "model_module_version": "1.5.0",
          "model_name": "HTMLModel",
          "state": {
            "_dom_classes": [],
            "_model_module": "@jupyter-widgets/controls",
            "_model_module_version": "1.5.0",
            "_model_name": "HTMLModel",
            "_view_count": null,
            "_view_module": "@jupyter-widgets/controls",
            "_view_module_version": "1.5.0",
            "_view_name": "HTMLView",
            "description": "",
            "description_tooltip": null,
            "layout": "IPY_MODEL_3f67ca36a63d413181844b7d62406226",
            "placeholder": "​",
            "style": "IPY_MODEL_b3def22cfd21429f81d93231b5d87a92",
            "value": " 5.17k/5.17k [00:00&lt;00:00, 409kB/s]"
          }
        },
        "e1f768afef1d46328f9f2598308ee1b9": {
          "model_module": "@jupyter-widgets/controls",
          "model_module_version": "1.5.0",
          "model_name": "HTMLModel",
          "state": {
            "_dom_classes": [],
            "_model_module": "@jupyter-widgets/controls",
            "_model_module_version": "1.5.0",
            "_model_name": "HTMLModel",
            "_view_count": null,
            "_view_module": "@jupyter-widgets/controls",
            "_view_module_version": "1.5.0",
            "_view_name": "HTMLView",
            "description": "",
            "description_tooltip": null,
            "layout": "IPY_MODEL_8524e696b5c54e0f8f4debf3db1bcd3d",
            "placeholder": "​",
            "style": "IPY_MODEL_b904212f614749eca2d78843af3e1e49",
            "value": " 139/139 [06:32&lt;00:00,  2.64s/it]"
          }
        },
        "e453088bfa4f4b2eb899cc3cb216bf9c": {
          "model_module": "@jupyter-widgets/controls",
          "model_module_version": "1.5.0",
          "model_name": "DescriptionStyleModel",
          "state": {
            "_model_module": "@jupyter-widgets/controls",
            "_model_module_version": "1.5.0",
            "_model_name": "DescriptionStyleModel",
            "_view_count": null,
            "_view_module": "@jupyter-widgets/base",
            "_view_module_version": "1.2.0",
            "_view_name": "StyleView",
            "description_width": ""
          }
        },
        "e455ecc5954e4e14bd45d731e6bbda0f": {
          "model_module": "@jupyter-widgets/base",
          "model_module_version": "1.2.0",
          "model_name": "LayoutModel",
          "state": {
            "_model_module": "@jupyter-widgets/base",
            "_model_module_version": "1.2.0",
            "_model_name": "LayoutModel",
            "_view_count": null,
            "_view_module": "@jupyter-widgets/base",
            "_view_module_version": "1.2.0",
            "_view_name": "LayoutView",
            "align_content": null,
            "align_items": null,
            "align_self": null,
            "border": null,
            "bottom": null,
            "display": null,
            "flex": null,
            "flex_flow": null,
            "grid_area": null,
            "grid_auto_columns": null,
            "grid_auto_flow": null,
            "grid_auto_rows": null,
            "grid_column": null,
            "grid_gap": null,
            "grid_row": null,
            "grid_template_areas": null,
            "grid_template_columns": null,
            "grid_template_rows": null,
            "height": null,
            "justify_content": null,
            "justify_items": null,
            "left": null,
            "margin": null,
            "max_height": null,
            "max_width": null,
            "min_height": null,
            "min_width": null,
            "object_fit": null,
            "object_position": null,
            "order": null,
            "overflow": null,
            "overflow_x": null,
            "overflow_y": null,
            "padding": null,
            "right": null,
            "top": null,
            "visibility": null,
            "width": null
          }
        },
        "e5198bbeb18f45d2978ffd8d8cce1bd7": {
          "model_module": "@jupyter-widgets/base",
          "model_module_version": "1.2.0",
          "model_name": "LayoutModel",
          "state": {
            "_model_module": "@jupyter-widgets/base",
            "_model_module_version": "1.2.0",
            "_model_name": "LayoutModel",
            "_view_count": null,
            "_view_module": "@jupyter-widgets/base",
            "_view_module_version": "1.2.0",
            "_view_name": "LayoutView",
            "align_content": null,
            "align_items": null,
            "align_self": null,
            "border": null,
            "bottom": null,
            "display": null,
            "flex": null,
            "flex_flow": null,
            "grid_area": null,
            "grid_auto_columns": null,
            "grid_auto_flow": null,
            "grid_auto_rows": null,
            "grid_column": null,
            "grid_gap": null,
            "grid_row": null,
            "grid_template_areas": null,
            "grid_template_columns": null,
            "grid_template_rows": null,
            "height": null,
            "justify_content": null,
            "justify_items": null,
            "left": null,
            "margin": null,
            "max_height": null,
            "max_width": null,
            "min_height": null,
            "min_width": null,
            "object_fit": null,
            "object_position": null,
            "order": null,
            "overflow": null,
            "overflow_x": null,
            "overflow_y": null,
            "padding": null,
            "right": null,
            "top": null,
            "visibility": null,
            "width": null
          }
        },
        "e573a26dfeea404786da305f21676c60": {
          "model_module": "@jupyter-widgets/controls",
          "model_module_version": "1.5.0",
          "model_name": "HTMLModel",
          "state": {
            "_dom_classes": [],
            "_model_module": "@jupyter-widgets/controls",
            "_model_module_version": "1.5.0",
            "_model_name": "HTMLModel",
            "_view_count": null,
            "_view_module": "@jupyter-widgets/controls",
            "_view_module_version": "1.5.0",
            "_view_name": "HTMLView",
            "description": "",
            "description_tooltip": null,
            "layout": "IPY_MODEL_b984b6756cc948d8b7dde65bb0efc3d9",
            "placeholder": "​",
            "style": "IPY_MODEL_b7ef65aea918485fa15e1c34e31ed107",
            "value": " 232k/232k [00:00&lt;00:00, 503kB/s]"
          }
        },
        "e5b7447a6eef48b8ba3c82a273ca4ad8": {
          "model_module": "@jupyter-widgets/base",
          "model_module_version": "1.2.0",
          "model_name": "LayoutModel",
          "state": {
            "_model_module": "@jupyter-widgets/base",
            "_model_module_version": "1.2.0",
            "_model_name": "LayoutModel",
            "_view_count": null,
            "_view_module": "@jupyter-widgets/base",
            "_view_module_version": "1.2.0",
            "_view_name": "LayoutView",
            "align_content": null,
            "align_items": null,
            "align_self": null,
            "border": null,
            "bottom": null,
            "display": null,
            "flex": null,
            "flex_flow": null,
            "grid_area": null,
            "grid_auto_columns": null,
            "grid_auto_flow": null,
            "grid_auto_rows": null,
            "grid_column": null,
            "grid_gap": null,
            "grid_row": null,
            "grid_template_areas": null,
            "grid_template_columns": null,
            "grid_template_rows": null,
            "height": null,
            "justify_content": null,
            "justify_items": null,
            "left": null,
            "margin": null,
            "max_height": null,
            "max_width": null,
            "min_height": null,
            "min_width": null,
            "object_fit": null,
            "object_position": null,
            "order": null,
            "overflow": null,
            "overflow_x": null,
            "overflow_y": null,
            "padding": null,
            "right": null,
            "top": null,
            "visibility": null,
            "width": null
          }
        },
        "e60f498470774c63a2d8ab6c02da906b": {
          "model_module": "@jupyter-widgets/controls",
          "model_module_version": "1.5.0",
          "model_name": "ProgressStyleModel",
          "state": {
            "_model_module": "@jupyter-widgets/controls",
            "_model_module_version": "1.5.0",
            "_model_name": "ProgressStyleModel",
            "_view_count": null,
            "_view_module": "@jupyter-widgets/base",
            "_view_module_version": "1.2.0",
            "_view_name": "StyleView",
            "bar_color": null,
            "description_width": ""
          }
        },
        "e6a833c4863f4669beb96b0d4f012443": {
          "model_module": "@jupyter-widgets/controls",
          "model_module_version": "1.5.0",
          "model_name": "HBoxModel",
          "state": {
            "_dom_classes": [],
            "_model_module": "@jupyter-widgets/controls",
            "_model_module_version": "1.5.0",
            "_model_name": "HBoxModel",
            "_view_count": null,
            "_view_module": "@jupyter-widgets/controls",
            "_view_module_version": "1.5.0",
            "_view_name": "HBoxView",
            "box_style": "",
            "children": [
              "IPY_MODEL_fe8af9112d704801ac4e4f2dc80d6c47",
              "IPY_MODEL_58963b35647f419da0343dfa2f2ef7c2",
              "IPY_MODEL_e1f768afef1d46328f9f2598308ee1b9"
            ],
            "layout": "IPY_MODEL_1e3f17b06d264d9b83719ac02eff793c"
          }
        },
        "e78afa7d6c634cbeb35251e27094fc6e": {
          "model_module": "@jupyter-widgets/base",
          "model_module_version": "1.2.0",
          "model_name": "LayoutModel",
          "state": {
            "_model_module": "@jupyter-widgets/base",
            "_model_module_version": "1.2.0",
            "_model_name": "LayoutModel",
            "_view_count": null,
            "_view_module": "@jupyter-widgets/base",
            "_view_module_version": "1.2.0",
            "_view_name": "LayoutView",
            "align_content": null,
            "align_items": null,
            "align_self": null,
            "border": null,
            "bottom": null,
            "display": null,
            "flex": null,
            "flex_flow": null,
            "grid_area": null,
            "grid_auto_columns": null,
            "grid_auto_flow": null,
            "grid_auto_rows": null,
            "grid_column": null,
            "grid_gap": null,
            "grid_row": null,
            "grid_template_areas": null,
            "grid_template_columns": null,
            "grid_template_rows": null,
            "height": null,
            "justify_content": null,
            "justify_items": null,
            "left": null,
            "margin": null,
            "max_height": null,
            "max_width": null,
            "min_height": null,
            "min_width": null,
            "object_fit": null,
            "object_position": null,
            "order": null,
            "overflow": null,
            "overflow_x": null,
            "overflow_y": null,
            "padding": null,
            "right": null,
            "top": null,
            "visibility": null,
            "width": null
          }
        },
        "e8b9a08fd5084a0baa0b31d0e70bc21a": {
          "model_module": "@jupyter-widgets/base",
          "model_module_version": "1.2.0",
          "model_name": "LayoutModel",
          "state": {
            "_model_module": "@jupyter-widgets/base",
            "_model_module_version": "1.2.0",
            "_model_name": "LayoutModel",
            "_view_count": null,
            "_view_module": "@jupyter-widgets/base",
            "_view_module_version": "1.2.0",
            "_view_name": "LayoutView",
            "align_content": null,
            "align_items": null,
            "align_self": null,
            "border": null,
            "bottom": null,
            "display": null,
            "flex": null,
            "flex_flow": null,
            "grid_area": null,
            "grid_auto_columns": null,
            "grid_auto_flow": null,
            "grid_auto_rows": null,
            "grid_column": null,
            "grid_gap": null,
            "grid_row": null,
            "grid_template_areas": null,
            "grid_template_columns": null,
            "grid_template_rows": null,
            "height": null,
            "justify_content": null,
            "justify_items": null,
            "left": null,
            "margin": null,
            "max_height": null,
            "max_width": null,
            "min_height": null,
            "min_width": null,
            "object_fit": null,
            "object_position": null,
            "order": null,
            "overflow": null,
            "overflow_x": null,
            "overflow_y": null,
            "padding": null,
            "right": null,
            "top": null,
            "visibility": null,
            "width": null
          }
        },
        "ecfba6b15f744674b482c87fbeac456b": {
          "model_module": "@jupyter-widgets/controls",
          "model_module_version": "1.5.0",
          "model_name": "HTMLModel",
          "state": {
            "_dom_classes": [],
            "_model_module": "@jupyter-widgets/controls",
            "_model_module_version": "1.5.0",
            "_model_name": "HTMLModel",
            "_view_count": null,
            "_view_module": "@jupyter-widgets/controls",
            "_view_module_version": "1.5.0",
            "_view_name": "HTMLView",
            "description": "",
            "description_tooltip": null,
            "layout": "IPY_MODEL_d03d300425874b2e8dc3b6ced3566e47",
            "placeholder": "​",
            "style": "IPY_MODEL_8c45c069e66840d1abdaf178642cc36c",
            "value": " 4/4 [00:09&lt;00:00,  2.04s/it]"
          }
        },
        "edbd7335ba0b4349818d3fff1d3a1785": {
          "model_module": "@jupyter-widgets/controls",
          "model_module_version": "1.5.0",
          "model_name": "DescriptionStyleModel",
          "state": {
            "_model_module": "@jupyter-widgets/controls",
            "_model_module_version": "1.5.0",
            "_model_name": "DescriptionStyleModel",
            "_view_count": null,
            "_view_module": "@jupyter-widgets/base",
            "_view_module_version": "1.2.0",
            "_view_name": "StyleView",
            "description_width": ""
          }
        },
        "ef327b1094ba45f591aa67f2e729ae8a": {
          "model_module": "@jupyter-widgets/controls",
          "model_module_version": "1.5.0",
          "model_name": "HBoxModel",
          "state": {
            "_dom_classes": [],
            "_model_module": "@jupyter-widgets/controls",
            "_model_module_version": "1.5.0",
            "_model_name": "HBoxModel",
            "_view_count": null,
            "_view_module": "@jupyter-widgets/controls",
            "_view_module_version": "1.5.0",
            "_view_name": "HBoxView",
            "box_style": "",
            "children": [
              "IPY_MODEL_6aa9e03e083d45f3a26b5d8a3cd87f4b",
              "IPY_MODEL_70d252b8623148de992824d65c8d9e7a",
              "IPY_MODEL_3539fdfe981d40d085bc57e6dab5de4a"
            ],
            "layout": "IPY_MODEL_a6c866dd4a6b4f3dba18b8ea6c6cbb78"
          }
        },
        "efe1a8032370486c92487eb52cdb4b24": {
          "model_module": "@jupyter-widgets/controls",
          "model_module_version": "1.5.0",
          "model_name": "DescriptionStyleModel",
          "state": {
            "_model_module": "@jupyter-widgets/controls",
            "_model_module_version": "1.5.0",
            "_model_name": "DescriptionStyleModel",
            "_view_count": null,
            "_view_module": "@jupyter-widgets/base",
            "_view_module_version": "1.2.0",
            "_view_name": "StyleView",
            "description_width": ""
          }
        },
        "f0b4556a225c484fb08eb51750309a5f": {
          "model_module": "@jupyter-widgets/controls",
          "model_module_version": "1.5.0",
          "model_name": "ProgressStyleModel",
          "state": {
            "_model_module": "@jupyter-widgets/controls",
            "_model_module_version": "1.5.0",
            "_model_name": "ProgressStyleModel",
            "_view_count": null,
            "_view_module": "@jupyter-widgets/base",
            "_view_module_version": "1.2.0",
            "_view_name": "StyleView",
            "bar_color": null,
            "description_width": ""
          }
        },
        "f5840599479141bab13dbdffa98de797": {
          "model_module": "@jupyter-widgets/controls",
          "model_module_version": "1.5.0",
          "model_name": "HBoxModel",
          "state": {
            "_dom_classes": [],
            "_model_module": "@jupyter-widgets/controls",
            "_model_module_version": "1.5.0",
            "_model_name": "HBoxModel",
            "_view_count": null,
            "_view_module": "@jupyter-widgets/controls",
            "_view_module_version": "1.5.0",
            "_view_name": "HBoxView",
            "box_style": "",
            "children": [
              "IPY_MODEL_749cd1c73a5c4132942f22e47370f9f3",
              "IPY_MODEL_1fef76dbb94a47f486d45d4c30d6c062",
              "IPY_MODEL_cbdea16eab2f4f83b8db4683b24caf15"
            ],
            "layout": "IPY_MODEL_7cfbb3e653e44670b37568684ec1163f"
          }
        },
        "f6b88fd288f34d129075465fbbbd2f70": {
          "model_module": "@jupyter-widgets/controls",
          "model_module_version": "1.5.0",
          "model_name": "DescriptionStyleModel",
          "state": {
            "_model_module": "@jupyter-widgets/controls",
            "_model_module_version": "1.5.0",
            "_model_name": "DescriptionStyleModel",
            "_view_count": null,
            "_view_module": "@jupyter-widgets/base",
            "_view_module_version": "1.2.0",
            "_view_name": "StyleView",
            "description_width": ""
          }
        },
        "f73052b4efa643f781b581ebb05db308": {
          "model_module": "@jupyter-widgets/base",
          "model_module_version": "1.2.0",
          "model_name": "LayoutModel",
          "state": {
            "_model_module": "@jupyter-widgets/base",
            "_model_module_version": "1.2.0",
            "_model_name": "LayoutModel",
            "_view_count": null,
            "_view_module": "@jupyter-widgets/base",
            "_view_module_version": "1.2.0",
            "_view_name": "LayoutView",
            "align_content": null,
            "align_items": null,
            "align_self": null,
            "border": null,
            "bottom": null,
            "display": null,
            "flex": null,
            "flex_flow": null,
            "grid_area": null,
            "grid_auto_columns": null,
            "grid_auto_flow": null,
            "grid_auto_rows": null,
            "grid_column": null,
            "grid_gap": null,
            "grid_row": null,
            "grid_template_areas": null,
            "grid_template_columns": null,
            "grid_template_rows": null,
            "height": null,
            "justify_content": null,
            "justify_items": null,
            "left": null,
            "margin": null,
            "max_height": null,
            "max_width": null,
            "min_height": null,
            "min_width": null,
            "object_fit": null,
            "object_position": null,
            "order": null,
            "overflow": null,
            "overflow_x": null,
            "overflow_y": null,
            "padding": null,
            "right": null,
            "top": null,
            "visibility": null,
            "width": null
          }
        },
        "f7ad1ff89b9542629699bc867c5a2a87": {
          "model_module": "@jupyter-widgets/controls",
          "model_module_version": "1.5.0",
          "model_name": "DescriptionStyleModel",
          "state": {
            "_model_module": "@jupyter-widgets/controls",
            "_model_module_version": "1.5.0",
            "_model_name": "DescriptionStyleModel",
            "_view_count": null,
            "_view_module": "@jupyter-widgets/base",
            "_view_module_version": "1.2.0",
            "_view_name": "StyleView",
            "description_width": ""
          }
        },
        "f7fa061cc08345b38c51cc452b099775": {
          "model_module": "@jupyter-widgets/base",
          "model_module_version": "1.2.0",
          "model_name": "LayoutModel",
          "state": {
            "_model_module": "@jupyter-widgets/base",
            "_model_module_version": "1.2.0",
            "_model_name": "LayoutModel",
            "_view_count": null,
            "_view_module": "@jupyter-widgets/base",
            "_view_module_version": "1.2.0",
            "_view_name": "LayoutView",
            "align_content": null,
            "align_items": "center",
            "align_self": null,
            "border": null,
            "bottom": null,
            "display": "flex",
            "flex": null,
            "flex_flow": "column",
            "grid_area": null,
            "grid_auto_columns": null,
            "grid_auto_flow": null,
            "grid_auto_rows": null,
            "grid_column": null,
            "grid_gap": null,
            "grid_row": null,
            "grid_template_areas": null,
            "grid_template_columns": null,
            "grid_template_rows": null,
            "height": null,
            "justify_content": null,
            "justify_items": null,
            "left": null,
            "margin": null,
            "max_height": null,
            "max_width": null,
            "min_height": null,
            "min_width": null,
            "object_fit": null,
            "object_position": null,
            "order": null,
            "overflow": null,
            "overflow_x": null,
            "overflow_y": null,
            "padding": null,
            "right": null,
            "top": null,
            "visibility": null,
            "width": "50%"
          }
        },
        "fad1890ceee9410e8a63dc24c6f11d6c": {
          "model_module": "@jupyter-widgets/controls",
          "model_module_version": "1.5.0",
          "model_name": "HTMLModel",
          "state": {
            "_dom_classes": [],
            "_model_module": "@jupyter-widgets/controls",
            "_model_module_version": "1.5.0",
            "_model_name": "HTMLModel",
            "_view_count": null,
            "_view_module": "@jupyter-widgets/controls",
            "_view_module_version": "1.5.0",
            "_view_name": "HTMLView",
            "description": "",
            "description_tooltip": null,
            "layout": "IPY_MODEL_446da44257b34deeb8d4697f6789bc31",
            "placeholder": "​",
            "style": "IPY_MODEL_838df1bd2f8d4548a0bbfdd24a3812ce",
            "value": "special_tokens_map.json: 100%"
          }
        },
        "fb64c6215e68406a8f84c709f9317973": {
          "model_module": "@jupyter-widgets/controls",
          "model_module_version": "1.5.0",
          "model_name": "HBoxModel",
          "state": {
            "_dom_classes": [],
            "_model_module": "@jupyter-widgets/controls",
            "_model_module_version": "1.5.0",
            "_model_name": "HBoxModel",
            "_view_count": null,
            "_view_module": "@jupyter-widgets/controls",
            "_view_module_version": "1.5.0",
            "_view_name": "HBoxView",
            "box_style": "",
            "children": [
              "IPY_MODEL_b1d7070d219e492fb5584cc24d8d6cad",
              "IPY_MODEL_64d2fc2dd6ae46888b108d74b2fc53d0",
              "IPY_MODEL_b350e8239fbf44488581c367d0112926"
            ],
            "layout": "IPY_MODEL_c9f1ec67254f4f6797b84e2bc734e42b"
          }
        },
        "fe8af9112d704801ac4e4f2dc80d6c47": {
          "model_module": "@jupyter-widgets/controls",
          "model_module_version": "1.5.0",
          "model_name": "HTMLModel",
          "state": {
            "_dom_classes": [],
            "_model_module": "@jupyter-widgets/controls",
            "_model_module_version": "1.5.0",
            "_model_name": "HTMLModel",
            "_view_count": null,
            "_view_module": "@jupyter-widgets/controls",
            "_view_module_version": "1.5.0",
            "_view_name": "HTMLView",
            "description": "",
            "description_tooltip": null,
            "layout": "IPY_MODEL_1651f7b892e745268be287fe9f2e8857",
            "placeholder": "​",
            "style": "IPY_MODEL_efe1a8032370486c92487eb52cdb4b24",
            "value": "100%"
          }
        },
        "ff774fcf3fac40c0a6e35fdcdc25da80": {
          "model_module": "@jupyter-widgets/controls",
          "model_module_version": "1.5.0",
          "model_name": "HTMLModel",
          "state": {
            "_dom_classes": [],
            "_model_module": "@jupyter-widgets/controls",
            "_model_module_version": "1.5.0",
            "_model_name": "HTMLModel",
            "_view_count": null,
            "_view_module": "@jupyter-widgets/controls",
            "_view_module_version": "1.5.0",
            "_view_name": "HTMLView",
            "description": "",
            "description_tooltip": null,
            "layout": "IPY_MODEL_7fa6dcf2a7ed4cc1be1bb953dabe2f2e",
            "placeholder": "​",
            "style": "IPY_MODEL_6446caf9a7c14f9e9860a8897e8b4a09",
            "value": "vocab.txt: 100%"
          }
        }
      }
    }
  },
  "nbformat": 4,
  "nbformat_minor": 0
}
